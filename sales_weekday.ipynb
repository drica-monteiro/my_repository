{
 "cells": [
  {
   "cell_type": "code",
   "execution_count": 1,
   "id": "0ba71115",
   "metadata": {},
   "outputs": [],
   "source": [
    "import pandas as pd\n",
    "import numpy as np\n",
    "import datetime as dt\n",
    "import matplotlib.pyplot as plt\n",
    "import calendar\n",
    "\n",
    "pd.set_option('display.max_columns', None) #mostrar todas as colunas\n",
    "pd.set_option('display.max_rows', 50)  #mostrar no max 50 linhas\n",
    "pd.set_option('display.max_colwidth', None)  #mostrar a grossura máxima das colunas"
   ]
  },
  {
   "cell_type": "code",
   "execution_count": 50,
   "id": "98994cf5",
   "metadata": {},
   "outputs": [],
   "source": [
    "from sklearn.cluster import KMeans\n",
    "from scipy.spatial.distance import euclidean"
   ]
  },
  {
   "cell_type": "code",
   "execution_count": 2,
   "id": "04ceea6b",
   "metadata": {},
   "outputs": [],
   "source": [
    "df = pd.read_excel('fake_dataset.xlsx')\n",
    "df.to_csv('fake_dataset.csv')\n",
    "df = pd.read_csv(\"fake_dataset.csv\")\n",
    "df = df.drop(columns =['Unnamed: 0','Unnamed: 0.1']) #ele cria essas colunas"
   ]
  },
  {
   "cell_type": "code",
   "execution_count": 3,
   "id": "474db2e7",
   "metadata": {},
   "outputs": [
    {
     "data": {
      "text/plain": [
       "(700, 23)"
      ]
     },
     "execution_count": 3,
     "metadata": {},
     "output_type": "execute_result"
    }
   ],
   "source": [
    "df.shape"
   ]
  },
  {
   "cell_type": "code",
   "execution_count": 4,
   "id": "f857e0c1",
   "metadata": {},
   "outputs": [
    {
     "data": {
      "text/html": [
       "<div>\n",
       "<style scoped>\n",
       "    .dataframe tbody tr th:only-of-type {\n",
       "        vertical-align: middle;\n",
       "    }\n",
       "\n",
       "    .dataframe tbody tr th {\n",
       "        vertical-align: top;\n",
       "    }\n",
       "\n",
       "    .dataframe thead th {\n",
       "        text-align: right;\n",
       "    }\n",
       "</style>\n",
       "<table border=\"1\" class=\"dataframe\">\n",
       "  <thead>\n",
       "    <tr style=\"text-align: right;\">\n",
       "      <th></th>\n",
       "      <th>datebr</th>\n",
       "      <th>sku</th>\n",
       "      <th>offer_option_id</th>\n",
       "      <th>offer_option_title</th>\n",
       "      <th>offer_option_description</th>\n",
       "      <th>product_name</th>\n",
       "      <th>destination_type</th>\n",
       "      <th>multidestino</th>\n",
       "      <th>year</th>\n",
       "      <th>package_date_format</th>\n",
       "      <th>destination_city</th>\n",
       "      <th>destination_state</th>\n",
       "      <th>destination_country</th>\n",
       "      <th>AttributeList</th>\n",
       "      <th>clicks</th>\n",
       "      <th>checkout</th>\n",
       "      <th>fullprice</th>\n",
       "      <th>yield</th>\n",
       "      <th>discount</th>\n",
       "      <th>realprice</th>\n",
       "      <th>interest</th>\n",
       "      <th>totalprice</th>\n",
       "      <th>sales</th>\n",
       "    </tr>\n",
       "  </thead>\n",
       "  <tbody>\n",
       "    <tr>\n",
       "      <th>0</th>\n",
       "      <td>2022-08-01</td>\n",
       "      <td>LGPKG-1090219</td>\n",
       "      <td>2710823</td>\n",
       "      <td>Aéreo de São Paulo</td>\n",
       "      <td>Aéreo para Fortaleza | Quarto Duplo ou Triplo | 7 Diárias (3 diárias em Fortaleza + 4 diárias em Jericoacoara).</td>\n",
       "      <td>Pacote de Viagem - Fortaleza + Jericoacoara - 2022</td>\n",
       "      <td>NAC</td>\n",
       "      <td>False</td>\n",
       "      <td>2022.0</td>\n",
       "      <td>Data flexível</td>\n",
       "      <td>Jericoacoara</td>\n",
       "      <td>Ceará</td>\n",
       "      <td>Brasil</td>\n",
       "      <td>Hospedagem Econômica,Café da manhã,Passagem Aérea Econômica</td>\n",
       "      <td>675.0</td>\n",
       "      <td>117.0</td>\n",
       "      <td>3470</td>\n",
       "      <td>660</td>\n",
       "      <td>1239</td>\n",
       "      <td>2891</td>\n",
       "      <td>0</td>\n",
       "      <td>2891</td>\n",
       "      <td>1</td>\n",
       "    </tr>\n",
       "    <tr>\n",
       "      <th>1</th>\n",
       "      <td>2022-08-01</td>\n",
       "      <td>LGPKG-1095820</td>\n",
       "      <td>2724406</td>\n",
       "      <td>Aéreo de Rio de Janeiro - 3 diárias + Ingresso 1 dia</td>\n",
       "      <td>Aéreo para Florianópolis, Navegantes ou Joinville | 3 diárias em Balneário Camboriú em Quarto Duplo ou Triplo | Ingresso de 1 dia para o Parque Beto Carrero World.</td>\n",
       "      <td>Pacote de Viagem - Beto Carrero World - Segundo Semestre - 2023</td>\n",
       "      <td>NAC</td>\n",
       "      <td>False</td>\n",
       "      <td>2023.0</td>\n",
       "      <td>Data flexível</td>\n",
       "      <td>Balneário Camboriú</td>\n",
       "      <td>Santa Catarina</td>\n",
       "      <td>Brasil</td>\n",
       "      <td>Hospedagem Econômica,Café da manhã,Ingresso,Passagem Aérea Econômica</td>\n",
       "      <td>2010.0</td>\n",
       "      <td>443.0</td>\n",
       "      <td>624</td>\n",
       "      <td>125</td>\n",
       "      <td>0</td>\n",
       "      <td>749</td>\n",
       "      <td>0</td>\n",
       "      <td>749</td>\n",
       "      <td>1</td>\n",
       "    </tr>\n",
       "  </tbody>\n",
       "</table>\n",
       "</div>"
      ],
      "text/plain": [
       "       datebr            sku  offer_option_id  \\\n",
       "0  2022-08-01  LGPKG-1090219          2710823   \n",
       "1  2022-08-01  LGPKG-1095820          2724406   \n",
       "\n",
       "                                     offer_option_title  \\\n",
       "0                                    Aéreo de São Paulo   \n",
       "1  Aéreo de Rio de Janeiro - 3 diárias + Ingresso 1 dia   \n",
       "\n",
       "                                                                                                                                              offer_option_description  \\\n",
       "0                                                      Aéreo para Fortaleza | Quarto Duplo ou Triplo | 7 Diárias (3 diárias em Fortaleza + 4 diárias em Jericoacoara).   \n",
       "1  Aéreo para Florianópolis, Navegantes ou Joinville | 3 diárias em Balneário Camboriú em Quarto Duplo ou Triplo | Ingresso de 1 dia para o Parque Beto Carrero World.   \n",
       "\n",
       "                                                      product_name  \\\n",
       "0               Pacote de Viagem - Fortaleza + Jericoacoara - 2022   \n",
       "1  Pacote de Viagem - Beto Carrero World - Segundo Semestre - 2023   \n",
       "\n",
       "  destination_type  multidestino    year package_date_format  \\\n",
       "0              NAC         False  2022.0       Data flexível   \n",
       "1              NAC         False  2023.0       Data flexível   \n",
       "\n",
       "     destination_city destination_state destination_country  \\\n",
       "0        Jericoacoara             Ceará              Brasil   \n",
       "1  Balneário Camboriú    Santa Catarina              Brasil   \n",
       "\n",
       "                                                          AttributeList  \\\n",
       "0           Hospedagem Econômica,Café da manhã,Passagem Aérea Econômica   \n",
       "1  Hospedagem Econômica,Café da manhã,Ingresso,Passagem Aérea Econômica   \n",
       "\n",
       "   clicks  checkout  fullprice  yield  discount  realprice  interest  \\\n",
       "0   675.0     117.0       3470    660      1239       2891         0   \n",
       "1  2010.0     443.0        624    125         0        749         0   \n",
       "\n",
       "   totalprice  sales  \n",
       "0        2891      1  \n",
       "1         749      1  "
      ]
     },
     "execution_count": 4,
     "metadata": {},
     "output_type": "execute_result"
    }
   ],
   "source": [
    "df.head(2)"
   ]
  },
  {
   "cell_type": "code",
   "execution_count": 5,
   "id": "1d6f2cbc",
   "metadata": {},
   "outputs": [],
   "source": [
    "## Testing the idea on calculating mean sales and mean price for an especific id"
   ]
  },
  {
   "cell_type": "code",
   "execution_count": 9,
   "id": "f8fd2c01",
   "metadata": {},
   "outputs": [
    {
     "data": {
      "text/html": [
       "<div>\n",
       "<style scoped>\n",
       "    .dataframe tbody tr th:only-of-type {\n",
       "        vertical-align: middle;\n",
       "    }\n",
       "\n",
       "    .dataframe tbody tr th {\n",
       "        vertical-align: top;\n",
       "    }\n",
       "\n",
       "    .dataframe thead th {\n",
       "        text-align: right;\n",
       "    }\n",
       "</style>\n",
       "<table border=\"1\" class=\"dataframe\">\n",
       "  <thead>\n",
       "    <tr style=\"text-align: right;\">\n",
       "      <th></th>\n",
       "      <th>datebr</th>\n",
       "      <th>sku</th>\n",
       "      <th>offer_option_id</th>\n",
       "      <th>offer_option_title</th>\n",
       "      <th>offer_option_description</th>\n",
       "      <th>product_name</th>\n",
       "      <th>destination_type</th>\n",
       "      <th>multidestino</th>\n",
       "      <th>year</th>\n",
       "      <th>package_date_format</th>\n",
       "      <th>destination_city</th>\n",
       "      <th>destination_state</th>\n",
       "      <th>destination_country</th>\n",
       "      <th>AttributeList</th>\n",
       "      <th>clicks</th>\n",
       "      <th>checkout</th>\n",
       "      <th>fullprice</th>\n",
       "      <th>yield</th>\n",
       "      <th>discount</th>\n",
       "      <th>realprice</th>\n",
       "      <th>interest</th>\n",
       "      <th>totalprice</th>\n",
       "      <th>sales</th>\n",
       "    </tr>\n",
       "  </thead>\n",
       "  <tbody>\n",
       "    <tr>\n",
       "      <th>167</th>\n",
       "      <td>2022-08-01</td>\n",
       "      <td>LGPKG-1141722</td>\n",
       "      <td>2782430</td>\n",
       "      <td>Aéreo de São Paulo - 6 diárias</td>\n",
       "      <td>Aéreo para Recife | Quarto Duplo ou Triplo | 6 Diárias (3 diárias em Recife + 3 diárias em Porto de Galinhas)</td>\n",
       "      <td>Pacote de Viagem Recife + Porto de Galinhas - 2023</td>\n",
       "      <td>NAC</td>\n",
       "      <td>False</td>\n",
       "      <td>2023.0</td>\n",
       "      <td>Data flexível</td>\n",
       "      <td>Recife</td>\n",
       "      <td>Pernambuco</td>\n",
       "      <td>Brasil</td>\n",
       "      <td>Hospedagem Econômica,Café da manhã,Passagem Aérea Econômica</td>\n",
       "      <td>14741.0</td>\n",
       "      <td>4610.0</td>\n",
       "      <td>699</td>\n",
       "      <td>0</td>\n",
       "      <td>140</td>\n",
       "      <td>559</td>\n",
       "      <td>0</td>\n",
       "      <td>559</td>\n",
       "      <td>140</td>\n",
       "    </tr>\n",
       "    <tr>\n",
       "      <th>168</th>\n",
       "      <td>2022-08-01</td>\n",
       "      <td>LGPKG-1141722</td>\n",
       "      <td>2782430</td>\n",
       "      <td>Aéreo de São Paulo - 6 diárias</td>\n",
       "      <td>Aéreo para Recife | Quarto Duplo ou Triplo | 6 Diárias (3 diárias em Recife + 3 diárias em Porto de Galinhas)</td>\n",
       "      <td>Pacote de Viagem Recife + Porto de Galinhas - 2023</td>\n",
       "      <td>NAC</td>\n",
       "      <td>False</td>\n",
       "      <td>2023.0</td>\n",
       "      <td>Data flexível</td>\n",
       "      <td>Recife</td>\n",
       "      <td>Pernambuco</td>\n",
       "      <td>Brasil</td>\n",
       "      <td>Hospedagem Econômica,Café da manhã,Passagem Aérea Econômica</td>\n",
       "      <td>14741.0</td>\n",
       "      <td>4610.0</td>\n",
       "      <td>699</td>\n",
       "      <td>0</td>\n",
       "      <td>140</td>\n",
       "      <td>559</td>\n",
       "      <td>42</td>\n",
       "      <td>601</td>\n",
       "      <td>1</td>\n",
       "    </tr>\n",
       "    <tr>\n",
       "      <th>169</th>\n",
       "      <td>2022-08-01</td>\n",
       "      <td>LGPKG-1141722</td>\n",
       "      <td>2782430</td>\n",
       "      <td>Aéreo de São Paulo - 6 diárias</td>\n",
       "      <td>Aéreo para Recife | Quarto Duplo ou Triplo | 6 Diárias (3 diárias em Recife + 3 diárias em Porto de Galinhas)</td>\n",
       "      <td>Pacote de Viagem Recife + Porto de Galinhas - 2023</td>\n",
       "      <td>NAC</td>\n",
       "      <td>False</td>\n",
       "      <td>2023.0</td>\n",
       "      <td>Data flexível</td>\n",
       "      <td>Recife</td>\n",
       "      <td>Pernambuco</td>\n",
       "      <td>Brasil</td>\n",
       "      <td>Hospedagem Econômica,Café da manhã,Passagem Aérea Econômica</td>\n",
       "      <td>14741.0</td>\n",
       "      <td>4610.0</td>\n",
       "      <td>699</td>\n",
       "      <td>0</td>\n",
       "      <td>140</td>\n",
       "      <td>559</td>\n",
       "      <td>53</td>\n",
       "      <td>612</td>\n",
       "      <td>8</td>\n",
       "    </tr>\n",
       "    <tr>\n",
       "      <th>171</th>\n",
       "      <td>2022-08-01</td>\n",
       "      <td>LGPKG-1141722</td>\n",
       "      <td>2782430</td>\n",
       "      <td>Aéreo de São Paulo - 6 diárias</td>\n",
       "      <td>Aéreo para Recife | Quarto Duplo ou Triplo | 6 Diárias (3 diárias em Recife + 3 diárias em Porto de Galinhas)</td>\n",
       "      <td>Pacote de Viagem Recife + Porto de Galinhas - 2023</td>\n",
       "      <td>NAC</td>\n",
       "      <td>False</td>\n",
       "      <td>2023.0</td>\n",
       "      <td>Data flexível</td>\n",
       "      <td>Recife</td>\n",
       "      <td>Pernambuco</td>\n",
       "      <td>Brasil</td>\n",
       "      <td>Hospedagem Econômica,Café da manhã,Passagem Aérea Econômica</td>\n",
       "      <td>14741.0</td>\n",
       "      <td>4610.0</td>\n",
       "      <td>699</td>\n",
       "      <td>0</td>\n",
       "      <td>140</td>\n",
       "      <td>559</td>\n",
       "      <td>64</td>\n",
       "      <td>623</td>\n",
       "      <td>9</td>\n",
       "    </tr>\n",
       "    <tr>\n",
       "      <th>173</th>\n",
       "      <td>2022-08-01</td>\n",
       "      <td>LGPKG-1141722</td>\n",
       "      <td>2782430</td>\n",
       "      <td>Aéreo de São Paulo - 6 diárias</td>\n",
       "      <td>Aéreo para Recife | Quarto Duplo ou Triplo | 6 Diárias (3 diárias em Recife + 3 diárias em Porto de Galinhas)</td>\n",
       "      <td>Pacote de Viagem Recife + Porto de Galinhas - 2023</td>\n",
       "      <td>NAC</td>\n",
       "      <td>False</td>\n",
       "      <td>2023.0</td>\n",
       "      <td>Data flexível</td>\n",
       "      <td>Recife</td>\n",
       "      <td>Pernambuco</td>\n",
       "      <td>Brasil</td>\n",
       "      <td>Hospedagem Econômica,Café da manhã,Passagem Aérea Econômica</td>\n",
       "      <td>14741.0</td>\n",
       "      <td>4610.0</td>\n",
       "      <td>699</td>\n",
       "      <td>0</td>\n",
       "      <td>140</td>\n",
       "      <td>559</td>\n",
       "      <td>224</td>\n",
       "      <td>783</td>\n",
       "      <td>1</td>\n",
       "    </tr>\n",
       "    <tr>\n",
       "      <th>653</th>\n",
       "      <td>2022-08-02</td>\n",
       "      <td>LGPKG-1141722</td>\n",
       "      <td>2782430</td>\n",
       "      <td>Aéreo de São Paulo - 6 diárias</td>\n",
       "      <td>Aéreo para Recife | Quarto Duplo ou Triplo | 6 Diárias (3 diárias em Recife + 3 diárias em Porto de Galinhas)</td>\n",
       "      <td>Pacote de Viagem Recife + Porto de Galinhas - 2023</td>\n",
       "      <td>NAC</td>\n",
       "      <td>False</td>\n",
       "      <td>2023.0</td>\n",
       "      <td>Data flexível</td>\n",
       "      <td>Recife</td>\n",
       "      <td>Pernambuco</td>\n",
       "      <td>Brasil</td>\n",
       "      <td>Hospedagem Econômica,Café da manhã,Passagem Aérea Econômica</td>\n",
       "      <td>8704.0</td>\n",
       "      <td>2654.0</td>\n",
       "      <td>699</td>\n",
       "      <td>0</td>\n",
       "      <td>140</td>\n",
       "      <td>559</td>\n",
       "      <td>0</td>\n",
       "      <td>559</td>\n",
       "      <td>102</td>\n",
       "    </tr>\n",
       "    <tr>\n",
       "      <th>654</th>\n",
       "      <td>2022-08-02</td>\n",
       "      <td>LGPKG-1141722</td>\n",
       "      <td>2782430</td>\n",
       "      <td>Aéreo de São Paulo - 6 diárias</td>\n",
       "      <td>Aéreo para Recife | Quarto Duplo ou Triplo | 6 Diárias (3 diárias em Recife + 3 diárias em Porto de Galinhas)</td>\n",
       "      <td>Pacote de Viagem Recife + Porto de Galinhas - 2023</td>\n",
       "      <td>NAC</td>\n",
       "      <td>False</td>\n",
       "      <td>2023.0</td>\n",
       "      <td>Data flexível</td>\n",
       "      <td>Recife</td>\n",
       "      <td>Pernambuco</td>\n",
       "      <td>Brasil</td>\n",
       "      <td>Hospedagem Econômica,Café da manhã,Passagem Aérea Econômica</td>\n",
       "      <td>8704.0</td>\n",
       "      <td>2654.0</td>\n",
       "      <td>699</td>\n",
       "      <td>0</td>\n",
       "      <td>140</td>\n",
       "      <td>559</td>\n",
       "      <td>42</td>\n",
       "      <td>601</td>\n",
       "      <td>1</td>\n",
       "    </tr>\n",
       "    <tr>\n",
       "      <th>656</th>\n",
       "      <td>2022-08-02</td>\n",
       "      <td>LGPKG-1141722</td>\n",
       "      <td>2782430</td>\n",
       "      <td>Aéreo de São Paulo - 6 diárias</td>\n",
       "      <td>Aéreo para Recife | Quarto Duplo ou Triplo | 6 Diárias (3 diárias em Recife + 3 diárias em Porto de Galinhas)</td>\n",
       "      <td>Pacote de Viagem Recife + Porto de Galinhas - 2023</td>\n",
       "      <td>NAC</td>\n",
       "      <td>False</td>\n",
       "      <td>2023.0</td>\n",
       "      <td>Data flexível</td>\n",
       "      <td>Recife</td>\n",
       "      <td>Pernambuco</td>\n",
       "      <td>Brasil</td>\n",
       "      <td>Hospedagem Econômica,Café da manhã,Passagem Aérea Econômica</td>\n",
       "      <td>8704.0</td>\n",
       "      <td>2654.0</td>\n",
       "      <td>699</td>\n",
       "      <td>0</td>\n",
       "      <td>140</td>\n",
       "      <td>559</td>\n",
       "      <td>53</td>\n",
       "      <td>612</td>\n",
       "      <td>8</td>\n",
       "    </tr>\n",
       "    <tr>\n",
       "      <th>658</th>\n",
       "      <td>2022-08-02</td>\n",
       "      <td>LGPKG-1141722</td>\n",
       "      <td>2782430</td>\n",
       "      <td>Aéreo de São Paulo - 6 diárias</td>\n",
       "      <td>Aéreo para Recife | Quarto Duplo ou Triplo | 6 Diárias (3 diárias em Recife + 3 diárias em Porto de Galinhas)</td>\n",
       "      <td>Pacote de Viagem Recife + Porto de Galinhas - 2023</td>\n",
       "      <td>NAC</td>\n",
       "      <td>False</td>\n",
       "      <td>2023.0</td>\n",
       "      <td>Data flexível</td>\n",
       "      <td>Recife</td>\n",
       "      <td>Pernambuco</td>\n",
       "      <td>Brasil</td>\n",
       "      <td>Hospedagem Econômica,Café da manhã,Passagem Aérea Econômica</td>\n",
       "      <td>8704.0</td>\n",
       "      <td>2654.0</td>\n",
       "      <td>699</td>\n",
       "      <td>0</td>\n",
       "      <td>140</td>\n",
       "      <td>559</td>\n",
       "      <td>61</td>\n",
       "      <td>620</td>\n",
       "      <td>1</td>\n",
       "    </tr>\n",
       "    <tr>\n",
       "      <th>659</th>\n",
       "      <td>2022-08-02</td>\n",
       "      <td>LGPKG-1141722</td>\n",
       "      <td>2782430</td>\n",
       "      <td>Aéreo de São Paulo - 6 diárias</td>\n",
       "      <td>Aéreo para Recife | Quarto Duplo ou Triplo | 6 Diárias (3 diárias em Recife + 3 diárias em Porto de Galinhas)</td>\n",
       "      <td>Pacote de Viagem Recife + Porto de Galinhas - 2023</td>\n",
       "      <td>NAC</td>\n",
       "      <td>False</td>\n",
       "      <td>2023.0</td>\n",
       "      <td>Data flexível</td>\n",
       "      <td>Recife</td>\n",
       "      <td>Pernambuco</td>\n",
       "      <td>Brasil</td>\n",
       "      <td>Hospedagem Econômica,Café da manhã,Passagem Aérea Econômica</td>\n",
       "      <td>8704.0</td>\n",
       "      <td>2654.0</td>\n",
       "      <td>699</td>\n",
       "      <td>0</td>\n",
       "      <td>140</td>\n",
       "      <td>559</td>\n",
       "      <td>64</td>\n",
       "      <td>623</td>\n",
       "      <td>12</td>\n",
       "    </tr>\n",
       "    <tr>\n",
       "      <th>661</th>\n",
       "      <td>2022-08-02</td>\n",
       "      <td>LGPKG-1141722</td>\n",
       "      <td>2782430</td>\n",
       "      <td>Aéreo de São Paulo - 6 diárias</td>\n",
       "      <td>Aéreo para Recife | Quarto Duplo ou Triplo | 6 Diárias (3 diárias em Recife + 3 diárias em Porto de Galinhas)</td>\n",
       "      <td>Pacote de Viagem Recife + Porto de Galinhas - 2023</td>\n",
       "      <td>NAC</td>\n",
       "      <td>False</td>\n",
       "      <td>2023.0</td>\n",
       "      <td>Data flexível</td>\n",
       "      <td>Recife</td>\n",
       "      <td>Pernambuco</td>\n",
       "      <td>Brasil</td>\n",
       "      <td>Hospedagem Econômica,Café da manhã,Passagem Aérea Econômica</td>\n",
       "      <td>8704.0</td>\n",
       "      <td>2654.0</td>\n",
       "      <td>699</td>\n",
       "      <td>0</td>\n",
       "      <td>140</td>\n",
       "      <td>559</td>\n",
       "      <td>179</td>\n",
       "      <td>738</td>\n",
       "      <td>1</td>\n",
       "    </tr>\n",
       "    <tr>\n",
       "      <th>662</th>\n",
       "      <td>2022-08-02</td>\n",
       "      <td>LGPKG-1141722</td>\n",
       "      <td>2782430</td>\n",
       "      <td>Aéreo de São Paulo - 6 diárias</td>\n",
       "      <td>Aéreo para Recife | Quarto Duplo ou Triplo | 6 Diárias (3 diárias em Recife + 3 diárias em Porto de Galinhas)</td>\n",
       "      <td>Pacote de Viagem Recife + Porto de Galinhas - 2023</td>\n",
       "      <td>NAC</td>\n",
       "      <td>False</td>\n",
       "      <td>2023.0</td>\n",
       "      <td>Data flexível</td>\n",
       "      <td>Recife</td>\n",
       "      <td>Pernambuco</td>\n",
       "      <td>Brasil</td>\n",
       "      <td>Hospedagem Econômica,Café da manhã,Passagem Aérea Econômica</td>\n",
       "      <td>8704.0</td>\n",
       "      <td>2654.0</td>\n",
       "      <td>699</td>\n",
       "      <td>0</td>\n",
       "      <td>140</td>\n",
       "      <td>559</td>\n",
       "      <td>268</td>\n",
       "      <td>827</td>\n",
       "      <td>1</td>\n",
       "    </tr>\n",
       "    <tr>\n",
       "      <th>663</th>\n",
       "      <td>2022-08-02</td>\n",
       "      <td>LGPKG-1141722</td>\n",
       "      <td>2782430</td>\n",
       "      <td>Aéreo de São Paulo - 6 diárias</td>\n",
       "      <td>Aéreo para Recife | Quarto Duplo ou Triplo | 6 Diárias (3 diárias em Recife + 3 diárias em Porto de Galinhas)</td>\n",
       "      <td>Pacote de Viagem Recife + Porto de Galinhas - 2023</td>\n",
       "      <td>NAC</td>\n",
       "      <td>False</td>\n",
       "      <td>2023.0</td>\n",
       "      <td>Data flexível</td>\n",
       "      <td>Recife</td>\n",
       "      <td>Pernambuco</td>\n",
       "      <td>Brasil</td>\n",
       "      <td>Hospedagem Econômica,Café da manhã,Passagem Aérea Econômica</td>\n",
       "      <td>8704.0</td>\n",
       "      <td>2654.0</td>\n",
       "      <td>699</td>\n",
       "      <td>0</td>\n",
       "      <td>140</td>\n",
       "      <td>559</td>\n",
       "      <td>358</td>\n",
       "      <td>917</td>\n",
       "      <td>1</td>\n",
       "    </tr>\n",
       "  </tbody>\n",
       "</table>\n",
       "</div>"
      ],
      "text/plain": [
       "         datebr            sku  offer_option_id  \\\n",
       "167  2022-08-01  LGPKG-1141722          2782430   \n",
       "168  2022-08-01  LGPKG-1141722          2782430   \n",
       "169  2022-08-01  LGPKG-1141722          2782430   \n",
       "171  2022-08-01  LGPKG-1141722          2782430   \n",
       "173  2022-08-01  LGPKG-1141722          2782430   \n",
       "653  2022-08-02  LGPKG-1141722          2782430   \n",
       "654  2022-08-02  LGPKG-1141722          2782430   \n",
       "656  2022-08-02  LGPKG-1141722          2782430   \n",
       "658  2022-08-02  LGPKG-1141722          2782430   \n",
       "659  2022-08-02  LGPKG-1141722          2782430   \n",
       "661  2022-08-02  LGPKG-1141722          2782430   \n",
       "662  2022-08-02  LGPKG-1141722          2782430   \n",
       "663  2022-08-02  LGPKG-1141722          2782430   \n",
       "\n",
       "                 offer_option_title  \\\n",
       "167  Aéreo de São Paulo - 6 diárias   \n",
       "168  Aéreo de São Paulo - 6 diárias   \n",
       "169  Aéreo de São Paulo - 6 diárias   \n",
       "171  Aéreo de São Paulo - 6 diárias   \n",
       "173  Aéreo de São Paulo - 6 diárias   \n",
       "653  Aéreo de São Paulo - 6 diárias   \n",
       "654  Aéreo de São Paulo - 6 diárias   \n",
       "656  Aéreo de São Paulo - 6 diárias   \n",
       "658  Aéreo de São Paulo - 6 diárias   \n",
       "659  Aéreo de São Paulo - 6 diárias   \n",
       "661  Aéreo de São Paulo - 6 diárias   \n",
       "662  Aéreo de São Paulo - 6 diárias   \n",
       "663  Aéreo de São Paulo - 6 diárias   \n",
       "\n",
       "                                                                                          offer_option_description  \\\n",
       "167  Aéreo para Recife | Quarto Duplo ou Triplo | 6 Diárias (3 diárias em Recife + 3 diárias em Porto de Galinhas)   \n",
       "168  Aéreo para Recife | Quarto Duplo ou Triplo | 6 Diárias (3 diárias em Recife + 3 diárias em Porto de Galinhas)   \n",
       "169  Aéreo para Recife | Quarto Duplo ou Triplo | 6 Diárias (3 diárias em Recife + 3 diárias em Porto de Galinhas)   \n",
       "171  Aéreo para Recife | Quarto Duplo ou Triplo | 6 Diárias (3 diárias em Recife + 3 diárias em Porto de Galinhas)   \n",
       "173  Aéreo para Recife | Quarto Duplo ou Triplo | 6 Diárias (3 diárias em Recife + 3 diárias em Porto de Galinhas)   \n",
       "653  Aéreo para Recife | Quarto Duplo ou Triplo | 6 Diárias (3 diárias em Recife + 3 diárias em Porto de Galinhas)   \n",
       "654  Aéreo para Recife | Quarto Duplo ou Triplo | 6 Diárias (3 diárias em Recife + 3 diárias em Porto de Galinhas)   \n",
       "656  Aéreo para Recife | Quarto Duplo ou Triplo | 6 Diárias (3 diárias em Recife + 3 diárias em Porto de Galinhas)   \n",
       "658  Aéreo para Recife | Quarto Duplo ou Triplo | 6 Diárias (3 diárias em Recife + 3 diárias em Porto de Galinhas)   \n",
       "659  Aéreo para Recife | Quarto Duplo ou Triplo | 6 Diárias (3 diárias em Recife + 3 diárias em Porto de Galinhas)   \n",
       "661  Aéreo para Recife | Quarto Duplo ou Triplo | 6 Diárias (3 diárias em Recife + 3 diárias em Porto de Galinhas)   \n",
       "662  Aéreo para Recife | Quarto Duplo ou Triplo | 6 Diárias (3 diárias em Recife + 3 diárias em Porto de Galinhas)   \n",
       "663  Aéreo para Recife | Quarto Duplo ou Triplo | 6 Diárias (3 diárias em Recife + 3 diárias em Porto de Galinhas)   \n",
       "\n",
       "                                           product_name destination_type  \\\n",
       "167  Pacote de Viagem Recife + Porto de Galinhas - 2023              NAC   \n",
       "168  Pacote de Viagem Recife + Porto de Galinhas - 2023              NAC   \n",
       "169  Pacote de Viagem Recife + Porto de Galinhas - 2023              NAC   \n",
       "171  Pacote de Viagem Recife + Porto de Galinhas - 2023              NAC   \n",
       "173  Pacote de Viagem Recife + Porto de Galinhas - 2023              NAC   \n",
       "653  Pacote de Viagem Recife + Porto de Galinhas - 2023              NAC   \n",
       "654  Pacote de Viagem Recife + Porto de Galinhas - 2023              NAC   \n",
       "656  Pacote de Viagem Recife + Porto de Galinhas - 2023              NAC   \n",
       "658  Pacote de Viagem Recife + Porto de Galinhas - 2023              NAC   \n",
       "659  Pacote de Viagem Recife + Porto de Galinhas - 2023              NAC   \n",
       "661  Pacote de Viagem Recife + Porto de Galinhas - 2023              NAC   \n",
       "662  Pacote de Viagem Recife + Porto de Galinhas - 2023              NAC   \n",
       "663  Pacote de Viagem Recife + Porto de Galinhas - 2023              NAC   \n",
       "\n",
       "     multidestino    year package_date_format destination_city  \\\n",
       "167         False  2023.0       Data flexível           Recife   \n",
       "168         False  2023.0       Data flexível           Recife   \n",
       "169         False  2023.0       Data flexível           Recife   \n",
       "171         False  2023.0       Data flexível           Recife   \n",
       "173         False  2023.0       Data flexível           Recife   \n",
       "653         False  2023.0       Data flexível           Recife   \n",
       "654         False  2023.0       Data flexível           Recife   \n",
       "656         False  2023.0       Data flexível           Recife   \n",
       "658         False  2023.0       Data flexível           Recife   \n",
       "659         False  2023.0       Data flexível           Recife   \n",
       "661         False  2023.0       Data flexível           Recife   \n",
       "662         False  2023.0       Data flexível           Recife   \n",
       "663         False  2023.0       Data flexível           Recife   \n",
       "\n",
       "    destination_state destination_country  \\\n",
       "167        Pernambuco              Brasil   \n",
       "168        Pernambuco              Brasil   \n",
       "169        Pernambuco              Brasil   \n",
       "171        Pernambuco              Brasil   \n",
       "173        Pernambuco              Brasil   \n",
       "653        Pernambuco              Brasil   \n",
       "654        Pernambuco              Brasil   \n",
       "656        Pernambuco              Brasil   \n",
       "658        Pernambuco              Brasil   \n",
       "659        Pernambuco              Brasil   \n",
       "661        Pernambuco              Brasil   \n",
       "662        Pernambuco              Brasil   \n",
       "663        Pernambuco              Brasil   \n",
       "\n",
       "                                                   AttributeList   clicks  \\\n",
       "167  Hospedagem Econômica,Café da manhã,Passagem Aérea Econômica  14741.0   \n",
       "168  Hospedagem Econômica,Café da manhã,Passagem Aérea Econômica  14741.0   \n",
       "169  Hospedagem Econômica,Café da manhã,Passagem Aérea Econômica  14741.0   \n",
       "171  Hospedagem Econômica,Café da manhã,Passagem Aérea Econômica  14741.0   \n",
       "173  Hospedagem Econômica,Café da manhã,Passagem Aérea Econômica  14741.0   \n",
       "653  Hospedagem Econômica,Café da manhã,Passagem Aérea Econômica   8704.0   \n",
       "654  Hospedagem Econômica,Café da manhã,Passagem Aérea Econômica   8704.0   \n",
       "656  Hospedagem Econômica,Café da manhã,Passagem Aérea Econômica   8704.0   \n",
       "658  Hospedagem Econômica,Café da manhã,Passagem Aérea Econômica   8704.0   \n",
       "659  Hospedagem Econômica,Café da manhã,Passagem Aérea Econômica   8704.0   \n",
       "661  Hospedagem Econômica,Café da manhã,Passagem Aérea Econômica   8704.0   \n",
       "662  Hospedagem Econômica,Café da manhã,Passagem Aérea Econômica   8704.0   \n",
       "663  Hospedagem Econômica,Café da manhã,Passagem Aérea Econômica   8704.0   \n",
       "\n",
       "     checkout  fullprice  yield  discount  realprice  interest  totalprice  \\\n",
       "167    4610.0        699      0       140        559         0         559   \n",
       "168    4610.0        699      0       140        559        42         601   \n",
       "169    4610.0        699      0       140        559        53         612   \n",
       "171    4610.0        699      0       140        559        64         623   \n",
       "173    4610.0        699      0       140        559       224         783   \n",
       "653    2654.0        699      0       140        559         0         559   \n",
       "654    2654.0        699      0       140        559        42         601   \n",
       "656    2654.0        699      0       140        559        53         612   \n",
       "658    2654.0        699      0       140        559        61         620   \n",
       "659    2654.0        699      0       140        559        64         623   \n",
       "661    2654.0        699      0       140        559       179         738   \n",
       "662    2654.0        699      0       140        559       268         827   \n",
       "663    2654.0        699      0       140        559       358         917   \n",
       "\n",
       "     sales  \n",
       "167    140  \n",
       "168      1  \n",
       "169      8  \n",
       "171      9  \n",
       "173      1  \n",
       "653    102  \n",
       "654      1  \n",
       "656      8  \n",
       "658      1  \n",
       "659     12  \n",
       "661      1  \n",
       "662      1  \n",
       "663      1  "
      ]
     },
     "execution_count": 9,
     "metadata": {},
     "output_type": "execute_result"
    }
   ],
   "source": [
    "df1 = df[df['offer_option_id']==2782430]\n",
    "df1"
   ]
  },
  {
   "cell_type": "code",
   "execution_count": 20,
   "id": "4f5430bc",
   "metadata": {},
   "outputs": [],
   "source": [
    "mean_sales1 = df1['sales'].mean()\n",
    "mean_price1 = df1['totalprice'].mean()"
   ]
  },
  {
   "cell_type": "code",
   "execution_count": 19,
   "id": "a90565b4",
   "metadata": {},
   "outputs": [],
   "source": [
    "df2 = df[df['offer_option_id']==2780997]"
   ]
  },
  {
   "cell_type": "code",
   "execution_count": 21,
   "id": "8aa93c00",
   "metadata": {},
   "outputs": [],
   "source": [
    "mean_sales2 = df2['sales'].mean()\n",
    "mean_price2 = df2['totalprice'].mean()"
   ]
  },
  {
   "cell_type": "code",
   "execution_count": 22,
   "id": "c934953f",
   "metadata": {},
   "outputs": [],
   "source": [
    "new_df = pd.DataFrame({'off_id': [2782430, 2780997], 'mean_sales': [mean_sales1, mean_sales2], 'mean_price': [mean_price1, mean_price2] })"
   ]
  },
  {
   "cell_type": "code",
   "execution_count": 24,
   "id": "dad3f0a9",
   "metadata": {},
   "outputs": [
    {
     "data": {
      "text/html": [
       "<div>\n",
       "<style scoped>\n",
       "    .dataframe tbody tr th:only-of-type {\n",
       "        vertical-align: middle;\n",
       "    }\n",
       "\n",
       "    .dataframe tbody tr th {\n",
       "        vertical-align: top;\n",
       "    }\n",
       "\n",
       "    .dataframe thead th {\n",
       "        text-align: right;\n",
       "    }\n",
       "</style>\n",
       "<table border=\"1\" class=\"dataframe\">\n",
       "  <thead>\n",
       "    <tr style=\"text-align: right;\">\n",
       "      <th></th>\n",
       "      <th>off_id</th>\n",
       "      <th>mean_sales</th>\n",
       "      <th>mean_price</th>\n",
       "    </tr>\n",
       "  </thead>\n",
       "  <tbody>\n",
       "    <tr>\n",
       "      <th>0</th>\n",
       "      <td>2782430</td>\n",
       "      <td>22.0</td>\n",
       "      <td>667.307692</td>\n",
       "    </tr>\n",
       "    <tr>\n",
       "      <th>1</th>\n",
       "      <td>2780997</td>\n",
       "      <td>4.6</td>\n",
       "      <td>1850.800000</td>\n",
       "    </tr>\n",
       "  </tbody>\n",
       "</table>\n",
       "</div>"
      ],
      "text/plain": [
       "    off_id  mean_sales   mean_price\n",
       "0  2782430        22.0   667.307692\n",
       "1  2780997         4.6  1850.800000"
      ]
     },
     "execution_count": 24,
     "metadata": {},
     "output_type": "execute_result"
    }
   ],
   "source": [
    "new_df"
   ]
  },
  {
   "cell_type": "code",
   "execution_count": null,
   "id": "5c5faada",
   "metadata": {},
   "outputs": [],
   "source": []
  },
  {
   "cell_type": "code",
   "execution_count": 25,
   "id": "d5a18684",
   "metadata": {},
   "outputs": [
    {
     "data": {
      "text/plain": [
       "<matplotlib.collections.PathCollection at 0x2464c789510>"
      ]
     },
     "execution_count": 25,
     "metadata": {},
     "output_type": "execute_result"
    },
    {
     "data": {
      "image/png": "[encoded data removed]",
      "text/plain": [
       "<Figure size 640x480 with 1 Axes>"
      ]
     },
     "metadata": {},
     "output_type": "display_data"
    }
   ],
   "source": [
    "plt.scatter(new_df['mean_sales'], new_df['mean_price'])"
   ]
  },
  {
   "cell_type": "code",
   "execution_count": 29,
   "id": "cb1741d6",
   "metadata": {
    "scrolled": true
   },
   "outputs": [],
   "source": [
    "ids = list(df['offer_option_id'].unique())"
   ]
  },
  {
   "cell_type": "code",
   "execution_count": 30,
   "id": "20fdef44",
   "metadata": {},
   "outputs": [],
   "source": [
    "mean_sales = []\n",
    "mean_price = []\n",
    "for i in ids:\n",
    "    df1 = df[df['offer_option_id']== i]\n",
    "    mean_sales1 = df1['sales'].mean()\n",
    "    mean_price1 = df1['totalprice'].mean()\n",
    "    mean_sales.append(mean_sales1)\n",
    "    mean_price.append(mean_price1)\n",
    "    \n",
    "new_df = pd.DataFrame({'off_id': ids, 'mean_sales': mean_sales, 'mean_price': mean_price})"
   ]
  },
  {
   "cell_type": "code",
   "execution_count": 31,
   "id": "06b43bb6",
   "metadata": {
    "scrolled": true
   },
   "outputs": [
    {
     "data": {
      "text/html": [
       "<div>\n",
       "<style scoped>\n",
       "    .dataframe tbody tr th:only-of-type {\n",
       "        vertical-align: middle;\n",
       "    }\n",
       "\n",
       "    .dataframe tbody tr th {\n",
       "        vertical-align: top;\n",
       "    }\n",
       "\n",
       "    .dataframe thead th {\n",
       "        text-align: right;\n",
       "    }\n",
       "</style>\n",
       "<table border=\"1\" class=\"dataframe\">\n",
       "  <thead>\n",
       "    <tr style=\"text-align: right;\">\n",
       "      <th></th>\n",
       "      <th>off_id</th>\n",
       "      <th>mean_sales</th>\n",
       "      <th>mean_price</th>\n",
       "    </tr>\n",
       "  </thead>\n",
       "  <tbody>\n",
       "    <tr>\n",
       "      <th>0</th>\n",
       "      <td>2710823</td>\n",
       "      <td>1.00</td>\n",
       "      <td>2891.000</td>\n",
       "    </tr>\n",
       "    <tr>\n",
       "      <th>1</th>\n",
       "      <td>2724406</td>\n",
       "      <td>6.75</td>\n",
       "      <td>670.625</td>\n",
       "    </tr>\n",
       "    <tr>\n",
       "      <th>2</th>\n",
       "      <td>2724407</td>\n",
       "      <td>2.60</td>\n",
       "      <td>658.000</td>\n",
       "    </tr>\n",
       "    <tr>\n",
       "      <th>3</th>\n",
       "      <td>2724409</td>\n",
       "      <td>1.25</td>\n",
       "      <td>931.250</td>\n",
       "    </tr>\n",
       "    <tr>\n",
       "      <th>4</th>\n",
       "      <td>2724408</td>\n",
       "      <td>6.00</td>\n",
       "      <td>1000.000</td>\n",
       "    </tr>\n",
       "    <tr>\n",
       "      <th>...</th>\n",
       "      <td>...</td>\n",
       "      <td>...</td>\n",
       "      <td>...</td>\n",
       "    </tr>\n",
       "    <tr>\n",
       "      <th>321</th>\n",
       "      <td>2782947</td>\n",
       "      <td>1.00</td>\n",
       "      <td>653.000</td>\n",
       "    </tr>\n",
       "    <tr>\n",
       "      <th>322</th>\n",
       "      <td>2782946</td>\n",
       "      <td>1.00</td>\n",
       "      <td>1037.000</td>\n",
       "    </tr>\n",
       "    <tr>\n",
       "      <th>323</th>\n",
       "      <td>2782950</td>\n",
       "      <td>1.00</td>\n",
       "      <td>1235.000</td>\n",
       "    </tr>\n",
       "    <tr>\n",
       "      <th>324</th>\n",
       "      <td>2783453</td>\n",
       "      <td>1.00</td>\n",
       "      <td>631.000</td>\n",
       "    </tr>\n",
       "    <tr>\n",
       "      <th>325</th>\n",
       "      <td>2783650</td>\n",
       "      <td>1.00</td>\n",
       "      <td>1192.000</td>\n",
       "    </tr>\n",
       "  </tbody>\n",
       "</table>\n",
       "<p>326 rows × 3 columns</p>\n",
       "</div>"
      ],
      "text/plain": [
       "      off_id  mean_sales  mean_price\n",
       "0    2710823        1.00    2891.000\n",
       "1    2724406        6.75     670.625\n",
       "2    2724407        2.60     658.000\n",
       "3    2724409        1.25     931.250\n",
       "4    2724408        6.00    1000.000\n",
       "..       ...         ...         ...\n",
       "321  2782947        1.00     653.000\n",
       "322  2782946        1.00    1037.000\n",
       "323  2782950        1.00    1235.000\n",
       "324  2783453        1.00     631.000\n",
       "325  2783650        1.00    1192.000\n",
       "\n",
       "[326 rows x 3 columns]"
      ]
     },
     "execution_count": 31,
     "metadata": {},
     "output_type": "execute_result"
    }
   ],
   "source": [
    "new_df"
   ]
  },
  {
   "cell_type": "code",
   "execution_count": 32,
   "id": "1e9756d7",
   "metadata": {
    "scrolled": false
   },
   "outputs": [
    {
     "data": {
      "text/plain": [
       "<matplotlib.collections.PathCollection at 0x2464c9bbe20>"
      ]
     },
     "execution_count": 32,
     "metadata": {},
     "output_type": "execute_result"
    },
    {
     "data": {
      "image/png": "[encoded data removed]",
      "text/plain": [
       "<Figure size 640x480 with 1 Axes>"
      ]
     },
     "metadata": {},
     "output_type": "display_data"
    }
   ],
   "source": [
    "plt.scatter(new_df['mean_sales'], new_df['mean_price'])"
   ]
  },
  {
   "cell_type": "code",
   "execution_count": 35,
   "id": "110896e8",
   "metadata": {},
   "outputs": [],
   "source": [
    "X = new_df.iloc[:, 1:]"
   ]
  },
  {
   "cell_type": "code",
   "execution_count": 38,
   "id": "4e89921d",
   "metadata": {},
   "outputs": [
    {
     "data": {
      "text/html": [
       "<div>\n",
       "<style scoped>\n",
       "    .dataframe tbody tr th:only-of-type {\n",
       "        vertical-align: middle;\n",
       "    }\n",
       "\n",
       "    .dataframe tbody tr th {\n",
       "        vertical-align: top;\n",
       "    }\n",
       "\n",
       "    .dataframe thead th {\n",
       "        text-align: right;\n",
       "    }\n",
       "</style>\n",
       "<table border=\"1\" class=\"dataframe\">\n",
       "  <thead>\n",
       "    <tr style=\"text-align: right;\">\n",
       "      <th></th>\n",
       "      <th>mean_sales</th>\n",
       "      <th>mean_price</th>\n",
       "    </tr>\n",
       "  </thead>\n",
       "  <tbody>\n",
       "    <tr>\n",
       "      <th>0</th>\n",
       "      <td>1.00</td>\n",
       "      <td>2891.000</td>\n",
       "    </tr>\n",
       "    <tr>\n",
       "      <th>1</th>\n",
       "      <td>6.75</td>\n",
       "      <td>670.625</td>\n",
       "    </tr>\n",
       "    <tr>\n",
       "      <th>2</th>\n",
       "      <td>2.60</td>\n",
       "      <td>658.000</td>\n",
       "    </tr>\n",
       "    <tr>\n",
       "      <th>3</th>\n",
       "      <td>1.25</td>\n",
       "      <td>931.250</td>\n",
       "    </tr>\n",
       "    <tr>\n",
       "      <th>4</th>\n",
       "      <td>6.00</td>\n",
       "      <td>1000.000</td>\n",
       "    </tr>\n",
       "  </tbody>\n",
       "</table>\n",
       "</div>"
      ],
      "text/plain": [
       "   mean_sales  mean_price\n",
       "0        1.00    2891.000\n",
       "1        6.75     670.625\n",
       "2        2.60     658.000\n",
       "3        1.25     931.250\n",
       "4        6.00    1000.000"
      ]
     },
     "execution_count": 38,
     "metadata": {},
     "output_type": "execute_result"
    }
   ],
   "source": [
    "X.head(5)"
   ]
  },
  {
   "cell_type": "code",
   "execution_count": 39,
   "id": "bdcb4820",
   "metadata": {
    "scrolled": true
   },
   "outputs": [
    {
     "name": "stderr",
     "output_type": "stream",
     "text": [
      "C:\\Users\\user\\anaconda3\\lib\\site-packages\\sklearn\\cluster\\_kmeans.py:1382: UserWarning: KMeans is known to have a memory leak on Windows with MKL, when there are less chunks than available threads. You can avoid it by setting the environment variable OMP_NUM_THREADS=2.\n",
      "  warnings.warn(\n",
      "C:\\Users\\user\\anaconda3\\lib\\site-packages\\sklearn\\cluster\\_kmeans.py:1382: UserWarning: KMeans is known to have a memory leak on Windows with MKL, when there are less chunks than available threads. You can avoid it by setting the environment variable OMP_NUM_THREADS=2.\n",
      "  warnings.warn(\n"
     ]
    },
    {
     "data": {
      "text/html": [
       "<style>#sk-container-id-1 {color: black;background-color: white;}#sk-container-id-1 pre{padding: 0;}#sk-container-id-1 div.sk-toggleable {background-color: white;}#sk-container-id-1 label.sk-toggleable__label {cursor: pointer;display: block;width: 100%;margin-bottom: 0;padding: 0.3em;box-sizing: border-box;text-align: center;}#sk-container-id-1 label.sk-toggleable__label-arrow:before {content: \"▸\";float: left;margin-right: 0.25em;color: #696969;}#sk-container-id-1 label.sk-toggleable__label-arrow:hover:before {color: black;}#sk-container-id-1 div.sk-estimator:hover label.sk-toggleable__label-arrow:before {color: black;}#sk-container-id-1 div.sk-toggleable__content {max-height: 0;max-width: 0;overflow: hidden;text-align: left;background-color: #f0f8ff;}#sk-container-id-1 div.sk-toggleable__content pre {margin: 0.2em;color: black;border-radius: 0.25em;background-color: #f0f8ff;}#sk-container-id-1 input.sk-toggleable__control:checked~div.sk-toggleable__content {max-height: 200px;max-width: 100%;overflow: auto;}#sk-container-id-1 input.sk-toggleable__control:checked~label.sk-toggleable__label-arrow:before {content: \"▾\";}#sk-container-id-1 div.sk-estimator input.sk-toggleable__control:checked~label.sk-toggleable__label {background-color: #d4ebff;}#sk-container-id-1 div.sk-label input.sk-toggleable__control:checked~label.sk-toggleable__label {background-color: #d4ebff;}#sk-container-id-1 input.sk-hidden--visually {border: 0;clip: rect(1px 1px 1px 1px);clip: rect(1px, 1px, 1px, 1px);height: 1px;margin: -1px;overflow: hidden;padding: 0;position: absolute;width: 1px;}#sk-container-id-1 div.sk-estimator {font-family: monospace;background-color: #f0f8ff;border: 1px dotted black;border-radius: 0.25em;box-sizing: border-box;margin-bottom: 0.5em;}#sk-container-id-1 div.sk-estimator:hover {background-color: #d4ebff;}#sk-container-id-1 div.sk-parallel-item::after {content: \"\";width: 100%;border-bottom: 1px solid gray;flex-grow: 1;}#sk-container-id-1 div.sk-label:hover label.sk-toggleable__label {background-color: #d4ebff;}#sk-container-id-1 div.sk-serial::before {content: \"\";position: absolute;border-left: 1px solid gray;box-sizing: border-box;top: 0;bottom: 0;left: 50%;z-index: 0;}#sk-container-id-1 div.sk-serial {display: flex;flex-direction: column;align-items: center;background-color: white;padding-right: 0.2em;padding-left: 0.2em;position: relative;}#sk-container-id-1 div.sk-item {position: relative;z-index: 1;}#sk-container-id-1 div.sk-parallel {display: flex;align-items: stretch;justify-content: center;background-color: white;position: relative;}#sk-container-id-1 div.sk-item::before, #sk-container-id-1 div.sk-parallel-item::before {content: \"\";position: absolute;border-left: 1px solid gray;box-sizing: border-box;top: 0;bottom: 0;left: 50%;z-index: -1;}#sk-container-id-1 div.sk-parallel-item {display: flex;flex-direction: column;z-index: 1;position: relative;background-color: white;}#sk-container-id-1 div.sk-parallel-item:first-child::after {align-self: flex-end;width: 50%;}#sk-container-id-1 div.sk-parallel-item:last-child::after {align-self: flex-start;width: 50%;}#sk-container-id-1 div.sk-parallel-item:only-child::after {width: 0;}#sk-container-id-1 div.sk-dashed-wrapped {border: 1px dashed gray;margin: 0 0.4em 0.5em 0.4em;box-sizing: border-box;padding-bottom: 0.4em;background-color: white;}#sk-container-id-1 div.sk-label label {font-family: monospace;font-weight: bold;display: inline-block;line-height: 1.2em;}#sk-container-id-1 div.sk-label-container {text-align: center;}#sk-container-id-1 div.sk-container {/* jupyter's `normalize.less` sets `[hidden] { display: none; }` but bootstrap.min.css set `[hidden] { display: none !important; }` so we also need the `!important` here to be able to override the default hidden behavior on the sphinx rendered scikit-learn.org. See: https://github.com/scikit-learn/scikit-learn/issues/21755 */display: inline-block !important;position: relative;}#sk-container-id-1 div.sk-text-repr-fallback {display: none;}</style><div id=\"sk-container-id-1\" class=\"sk-top-container\"><div class=\"sk-text-repr-fallback\"><pre>KMeans(n_clusters=3, n_init=20)</pre><b>In a Jupyter environment, please rerun this cell to show the HTML representation or trust the notebook. <br />On GitHub, the HTML representation is unable to render, please try loading this page with nbviewer.org.</b></div><div class=\"sk-container\" hidden><div class=\"sk-item\"><div class=\"sk-estimator sk-toggleable\"><input class=\"sk-toggleable__control sk-hidden--visually\" id=\"sk-estimator-id-1\" type=\"checkbox\" checked><label for=\"sk-estimator-id-1\" class=\"sk-toggleable__label sk-toggleable__label-arrow\">KMeans</label><div class=\"sk-toggleable__content\"><pre>KMeans(n_clusters=3, n_init=20)</pre></div></div></div></div></div>"
      ],
      "text/plain": [
       "KMeans(n_clusters=3, n_init=20)"
      ]
     },
     "execution_count": 39,
     "metadata": {},
     "output_type": "execute_result"
    }
   ],
   "source": [
    "n_clusters = 2\n",
    "km_2 = KMeans(n_clusters=n_clusters, n_init=20)\n",
    "km_2.fit(X)\n",
    "\n",
    "n_clusters = 3\n",
    "km_3 = KMeans(n_clusters=n_clusters, n_init=20)\n",
    "km_3.fit(X)"
   ]
  },
  {
   "cell_type": "code",
   "execution_count": 43,
   "id": "080d3c92",
   "metadata": {},
   "outputs": [
    {
     "name": "stdout",
     "output_type": "stream",
     "text": [
      "[1 0 0 0 0 1 1 0 0 0 0 0 0 1 1 1 1 1 1 1 1 0 1 0 1 1 1 1 1 1 0 0 0 0 0 0 0\n",
      " 0 0 0 0 0 0 1 0 0 0 0 0 0 0 0 1 0 0 1 1 1 1 1 1 0 0 0 0 0 1 1 1 1 1 1 1 1\n",
      " 1 1 1 1 1 0 0 1 1 0 0 0 1 1 0 0 0 1 0 0 0 0 0 0 0 0 0 0 0 0 0 0 0 0 0 0 0\n",
      " 0 0 0 0 0 0 1 1 0 0 0 0 0 0 0 0 0 0 0 0 0 0 0 0 0 0 0 0 0 0 0 0 0 0 0 0 0\n",
      " 0 0 0 0 0 0 0 0 0 0 0 0 0 0 0 0 0 0 0 0 0 0 0 0 0 0 0 0 1 1 1 1 0 0 0 0 0\n",
      " 0 0 0 0 0 0 0 0 0 1 0 0 0 1 0 0 0 0 0 0 0 0 0 0 0 0 0 0 0 0 0 0 0 0 1 1 0\n",
      " 0 0 1 0 0 0 0 1 1 1 0 0 0 0 0 1 0 1 1 1 1 1 1 0 0 0 0 0 0 0 0 0 0 0 0 0 0\n",
      " 0 0 0 1 1 1 0 1 0 0 0 0 0 0 1 0 0 1 0 0 0 1 1 1 1 1 1 1 1 1 1 1 1 1 1 0 1\n",
      " 1 0 0 1 1 0 0 1 1 1 1 1 1 1 1 1 1 1 0 0 0 1 1 0 0 0 0 0 0 0]\n"
     ]
    }
   ],
   "source": [
    "print(km_2.labels_)"
   ]
  },
  {
   "cell_type": "code",
   "execution_count": 48,
   "id": "790a6185",
   "metadata": {},
   "outputs": [
    {
     "data": {
      "text/plain": [
       "<matplotlib.collections.PathCollection at 0x2464e6e6140>"
      ]
     },
     "execution_count": 48,
     "metadata": {},
     "output_type": "execute_result"
    },
    {
     "data": {
      "image/png": "[encoded data removed]",
      "text/plain": [
       "<Figure size 640x480 with 1 Axes>"
      ]
     },
     "metadata": {},
     "output_type": "display_data"
    }
   ],
   "source": [
    "plt.scatter(X.iloc[:,0], X.iloc[:,1], s=40, c=km_2.labels_, cmap=plt.cm.prism)"
   ]
  },
  {
   "cell_type": "code",
   "execution_count": 49,
   "id": "0f19df2e",
   "metadata": {},
   "outputs": [
    {
     "data": {
      "image/png": "[encoded data removed]",
      "text/plain": [
       "<Figure size 1400x500 with 2 Axes>"
      ]
     },
     "metadata": {},
     "output_type": "display_data"
    }
   ],
   "source": [
    "fig, (ax1, ax2) = plt.subplots(1,2, figsize=(14,5))\n",
    "\n",
    "ax1.scatter(X.iloc[:,0], X.iloc[:,1], s=40, c=km_2.labels_, cmap=plt.cm.prism) \n",
    "ax1.set_title('K-Means Clustering Results with K=2')\n",
    "ax1.scatter(km_2.cluster_centers_[:,0], km_2.cluster_centers_[:,1], marker='+', s=100, c='k', linewidth=2)\n",
    "\n",
    "ax2.scatter(X.iloc[:,0], X.iloc[:,1], s=40, c=km_3.labels_, cmap=plt.cm.prism) \n",
    "ax2.set_title('K-Means Clustering Results with K=3')\n",
    "ax2.scatter(km_3.cluster_centers_[:,0], km_3.cluster_centers_[:,1], marker='+', s=100, c='k', linewidth=2)\n",
    "plt.show()"
   ]
  },
  {
   "cell_type": "code",
   "execution_count": 59,
   "id": "345ec997",
   "metadata": {},
   "outputs": [],
   "source": [
    "# Loop over all clusters and find index of closest point to the cluster center and append to closest_pt_idx list.\n",
    "closest_pt_idx = []\n",
    "for iclust in range(km_3.n_clusters):\n",
    "    # get all points assigned to each cluster:\n",
    "    cluster_pts = X.loc[km_3.labels_ == iclust]\n",
    "    # get all indices of points assigned to this cluster:\n",
    "    cluster_pts_indices = np.where(km_3.labels_ == iclust)[0]\n",
    "\n",
    "    cluster_cen = km_3.cluster_centers_[iclust]\n",
    "    min_idx = np.argmin([euclidean(X.loc[idx], cluster_cen) for idx in cluster_pts_indices])\n",
    "    \n",
    "    # Testing:    \n",
    "    #print('closest point to cluster center: ', cluster_pts[min_idx])\n",
    "    #print('closest index of point to cluster center: ', cluster_pts_indices[min_idx])\n",
    "    #print('  ', X.loc[cluster_pts_indices[min_idx]])\n",
    "    closest_pt_idx.append(cluster_pts_indices[min_idx])"
   ]
  },
  {
   "cell_type": "code",
   "execution_count": 146,
   "id": "91ceb62c",
   "metadata": {},
   "outputs": [
    {
     "name": "stdout",
     "output_type": "stream",
     "text": [
      "[2 0 0 0 0 1 1 0 0 0 0 0 2 2 2 2 2 2 2 2 2 2 1 0 2 2 2 2 2 2 0 0 0 0 0 0 0\n",
      " 0 0 0 0 0 0 2 0 0 0 0 0 0 0 0 2 0 0 2 2 2 2 2 2 0 0 0 0 0 2 2 2 2 1 2 2 2\n",
      " 2 2 1 2 2 0 0 2 1 0 0 0 2 2 0 0 0 2 0 0 0 0 0 0 0 0 0 0 0 0 0 0 0 0 0 0 0\n",
      " 0 0 0 0 0 0 2 2 0 0 0 0 0 0 0 0 0 0 0 0 0 0 0 0 0 0 0 0 0 0 0 0 0 0 0 0 0\n",
      " 0 0 0 0 0 0 0 0 0 0 0 0 0 0 0 0 0 0 0 0 0 0 0 0 0 0 0 0 2 2 2 2 0 0 0 0 0\n",
      " 0 0 0 0 0 0 0 0 0 2 0 0 0 2 0 0 0 0 0 0 0 0 0 0 0 0 0 0 0 0 0 0 0 0 2 2 0\n",
      " 0 0 2 0 0 0 0 2 2 2 0 2 0 0 0 2 2 2 2 2 2 2 2 0 0 0 0 0 0 0 0 0 0 0 0 0 0\n",
      " 0 0 0 2 2 2 0 2 0 0 0 0 0 0 2 0 2 2 0 0 2 2 2 1 1 2 2 2 2 2 2 1 1 2 1 0 2\n",
      " 2 0 0 2 1 0 0 2 2 2 1 2 2 2 2 2 2 2 0 0 0 2 2 0 0 0 0 0 0 0]\n"
     ]
    }
   ],
   "source": [
    "print(km_3.labels_)"
   ]
  },
  {
   "cell_type": "code",
   "execution_count": 147,
   "id": "d0b63cc5",
   "metadata": {},
   "outputs": [
    {
     "data": {
      "text/plain": [
       "off_id        2710823.0\n",
       "mean_sales          1.0\n",
       "mean_price       2891.0\n",
       "Name: 0, dtype: float64"
      ]
     },
     "execution_count": 147,
     "metadata": {},
     "output_type": "execute_result"
    }
   ],
   "source": [
    "new_df.loc[0,:]"
   ]
  },
  {
   "cell_type": "code",
   "execution_count": 148,
   "id": "6c61bb1d",
   "metadata": {},
   "outputs": [],
   "source": [
    "new_df['cluster_number'] = km_3.labels_"
   ]
  },
  {
   "cell_type": "code",
   "execution_count": 150,
   "id": "34d72993",
   "metadata": {},
   "outputs": [
    {
     "data": {
      "text/html": [
       "<div>\n",
       "<style scoped>\n",
       "    .dataframe tbody tr th:only-of-type {\n",
       "        vertical-align: middle;\n",
       "    }\n",
       "\n",
       "    .dataframe tbody tr th {\n",
       "        vertical-align: top;\n",
       "    }\n",
       "\n",
       "    .dataframe thead th {\n",
       "        text-align: right;\n",
       "    }\n",
       "</style>\n",
       "<table border=\"1\" class=\"dataframe\">\n",
       "  <thead>\n",
       "    <tr style=\"text-align: right;\">\n",
       "      <th></th>\n",
       "      <th>off_id</th>\n",
       "      <th>mean_sales</th>\n",
       "      <th>mean_price</th>\n",
       "      <th>cluster_number</th>\n",
       "    </tr>\n",
       "  </thead>\n",
       "  <tbody>\n",
       "    <tr>\n",
       "      <th>0</th>\n",
       "      <td>2710823</td>\n",
       "      <td>1.000000</td>\n",
       "      <td>2891.0</td>\n",
       "      <td>2</td>\n",
       "    </tr>\n",
       "    <tr>\n",
       "      <th>12</th>\n",
       "      <td>2769026</td>\n",
       "      <td>1.000000</td>\n",
       "      <td>2394.0</td>\n",
       "      <td>2</td>\n",
       "    </tr>\n",
       "    <tr>\n",
       "      <th>13</th>\n",
       "      <td>2772076</td>\n",
       "      <td>1.250000</td>\n",
       "      <td>4289.0</td>\n",
       "      <td>2</td>\n",
       "    </tr>\n",
       "    <tr>\n",
       "      <th>14</th>\n",
       "      <td>2772746</td>\n",
       "      <td>1.000000</td>\n",
       "      <td>2816.5</td>\n",
       "      <td>2</td>\n",
       "    </tr>\n",
       "    <tr>\n",
       "      <th>15</th>\n",
       "      <td>2772749</td>\n",
       "      <td>1.000000</td>\n",
       "      <td>3840.0</td>\n",
       "      <td>2</td>\n",
       "    </tr>\n",
       "    <tr>\n",
       "      <th>...</th>\n",
       "      <td>...</td>\n",
       "      <td>...</td>\n",
       "      <td>...</td>\n",
       "      <td>...</td>\n",
       "    </tr>\n",
       "    <tr>\n",
       "      <th>311</th>\n",
       "      <td>2781873</td>\n",
       "      <td>1.000000</td>\n",
       "      <td>2771.0</td>\n",
       "      <td>2</td>\n",
       "    </tr>\n",
       "    <tr>\n",
       "      <th>312</th>\n",
       "      <td>2781881</td>\n",
       "      <td>1.000000</td>\n",
       "      <td>3079.0</td>\n",
       "      <td>2</td>\n",
       "    </tr>\n",
       "    <tr>\n",
       "      <th>313</th>\n",
       "      <td>2782148</td>\n",
       "      <td>2.000000</td>\n",
       "      <td>3244.0</td>\n",
       "      <td>2</td>\n",
       "    </tr>\n",
       "    <tr>\n",
       "      <th>317</th>\n",
       "      <td>2782674</td>\n",
       "      <td>1.000000</td>\n",
       "      <td>3303.0</td>\n",
       "      <td>2</td>\n",
       "    </tr>\n",
       "    <tr>\n",
       "      <th>318</th>\n",
       "      <td>2782675</td>\n",
       "      <td>1.333333</td>\n",
       "      <td>3331.0</td>\n",
       "      <td>2</td>\n",
       "    </tr>\n",
       "  </tbody>\n",
       "</table>\n",
       "<p>95 rows × 4 columns</p>\n",
       "</div>"
      ],
      "text/plain": [
       "      off_id  mean_sales  mean_price  cluster_number\n",
       "0    2710823    1.000000      2891.0               2\n",
       "12   2769026    1.000000      2394.0               2\n",
       "13   2772076    1.250000      4289.0               2\n",
       "14   2772746    1.000000      2816.5               2\n",
       "15   2772749    1.000000      3840.0               2\n",
       "..       ...         ...         ...             ...\n",
       "311  2781873    1.000000      2771.0               2\n",
       "312  2781881    1.000000      3079.0               2\n",
       "313  2782148    2.000000      3244.0               2\n",
       "317  2782674    1.000000      3303.0               2\n",
       "318  2782675    1.333333      3331.0               2\n",
       "\n",
       "[95 rows x 4 columns]"
      ]
     },
     "execution_count": 150,
     "metadata": {},
     "output_type": "execute_result"
    }
   ],
   "source": [
    "new_df[new_df['cluster_number']==2]"
   ]
  },
  {
   "cell_type": "code",
   "execution_count": 161,
   "id": "ed474059",
   "metadata": {},
   "outputs": [
    {
     "data": {
      "text/html": [
       "<div>\n",
       "<style scoped>\n",
       "    .dataframe tbody tr th:only-of-type {\n",
       "        vertical-align: middle;\n",
       "    }\n",
       "\n",
       "    .dataframe tbody tr th {\n",
       "        vertical-align: top;\n",
       "    }\n",
       "\n",
       "    .dataframe thead th {\n",
       "        text-align: right;\n",
       "    }\n",
       "</style>\n",
       "<table border=\"1\" class=\"dataframe\">\n",
       "  <thead>\n",
       "    <tr style=\"text-align: right;\">\n",
       "      <th></th>\n",
       "      <th>datebr</th>\n",
       "      <th>sku</th>\n",
       "      <th>offer_option_id</th>\n",
       "      <th>offer_option_title</th>\n",
       "      <th>offer_option_description</th>\n",
       "      <th>product_name</th>\n",
       "      <th>destination_type</th>\n",
       "      <th>multidestino</th>\n",
       "      <th>year</th>\n",
       "      <th>package_date_format</th>\n",
       "      <th>destination_city</th>\n",
       "      <th>destination_state</th>\n",
       "      <th>destination_country</th>\n",
       "      <th>AttributeList</th>\n",
       "      <th>clicks</th>\n",
       "      <th>checkout</th>\n",
       "      <th>fullprice</th>\n",
       "      <th>yield</th>\n",
       "      <th>discount</th>\n",
       "      <th>realprice</th>\n",
       "      <th>interest</th>\n",
       "      <th>totalprice</th>\n",
       "      <th>sales</th>\n",
       "    </tr>\n",
       "  </thead>\n",
       "  <tbody>\n",
       "    <tr>\n",
       "      <th>20</th>\n",
       "      <td>2022-08-01</td>\n",
       "      <td>LGPKG-1135137</td>\n",
       "      <td>2772076</td>\n",
       "      <td>Aéreo de São Paulo - 5 diárias</td>\n",
       "      <td>Aéreo para Las Vegas | 5 Diárias em Quarto Duplo, Triplo ou Quádruplo.</td>\n",
       "      <td>Pacote de Viagem - Las Vegas - 2023</td>\n",
       "      <td>INT</td>\n",
       "      <td>False</td>\n",
       "      <td>2023.0</td>\n",
       "      <td>Data flexível</td>\n",
       "      <td>Las Vegas</td>\n",
       "      <td>Nevada</td>\n",
       "      <td>Estados Unidos</td>\n",
       "      <td>Passagem Aérea Econômica,Hospedagem Econômica</td>\n",
       "      <td>257.0</td>\n",
       "      <td>64.0</td>\n",
       "      <td>3436</td>\n",
       "      <td>619</td>\n",
       "      <td>811</td>\n",
       "      <td>3244</td>\n",
       "      <td>0</td>\n",
       "      <td>3244</td>\n",
       "      <td>2</td>\n",
       "    </tr>\n",
       "    <tr>\n",
       "      <th>21</th>\n",
       "      <td>2022-08-01</td>\n",
       "      <td>LGPKG-1135137</td>\n",
       "      <td>2772076</td>\n",
       "      <td>Aéreo de São Paulo - 5 diárias</td>\n",
       "      <td>Aéreo para Las Vegas | 5 Diárias em Quarto Duplo, Triplo ou Quádruplo.</td>\n",
       "      <td>Pacote de Viagem - Las Vegas - 2023</td>\n",
       "      <td>INT</td>\n",
       "      <td>False</td>\n",
       "      <td>2023.0</td>\n",
       "      <td>Data flexível</td>\n",
       "      <td>Las Vegas</td>\n",
       "      <td>Nevada</td>\n",
       "      <td>Estados Unidos</td>\n",
       "      <td>Passagem Aérea Econômica,Hospedagem Econômica</td>\n",
       "      <td>257.0</td>\n",
       "      <td>64.0</td>\n",
       "      <td>3436</td>\n",
       "      <td>619</td>\n",
       "      <td>811</td>\n",
       "      <td>3244</td>\n",
       "      <td>2076</td>\n",
       "      <td>5320</td>\n",
       "      <td>1</td>\n",
       "    </tr>\n",
       "    <tr>\n",
       "      <th>22</th>\n",
       "      <td>2022-08-01</td>\n",
       "      <td>LGPKG-1135137</td>\n",
       "      <td>2772076</td>\n",
       "      <td>Aéreo de São Paulo - 5 diárias</td>\n",
       "      <td>Aéreo para Las Vegas | 5 Diárias em Quarto Duplo, Triplo ou Quádruplo.</td>\n",
       "      <td>Pacote de Viagem - Las Vegas - 2023</td>\n",
       "      <td>INT</td>\n",
       "      <td>False</td>\n",
       "      <td>2023.0</td>\n",
       "      <td>Data flexível</td>\n",
       "      <td>Las Vegas</td>\n",
       "      <td>Nevada</td>\n",
       "      <td>Estados Unidos</td>\n",
       "      <td>Passagem Aérea Econômica,Hospedagem Econômica</td>\n",
       "      <td>257.0</td>\n",
       "      <td>64.0</td>\n",
       "      <td>3436</td>\n",
       "      <td>619</td>\n",
       "      <td>811</td>\n",
       "      <td>3244</td>\n",
       "      <td>2076</td>\n",
       "      <td>5321</td>\n",
       "      <td>1</td>\n",
       "    </tr>\n",
       "    <tr>\n",
       "      <th>520</th>\n",
       "      <td>2022-08-02</td>\n",
       "      <td>LGPKG-1135137</td>\n",
       "      <td>2772076</td>\n",
       "      <td>Aéreo de São Paulo - 5 diárias</td>\n",
       "      <td>Aéreo para Las Vegas | 5 Diárias em Quarto Duplo, Triplo ou Quádruplo.</td>\n",
       "      <td>Pacote de Viagem - Las Vegas - 2023</td>\n",
       "      <td>INT</td>\n",
       "      <td>False</td>\n",
       "      <td>2023.0</td>\n",
       "      <td>Data flexível</td>\n",
       "      <td>Las Vegas</td>\n",
       "      <td>Nevada</td>\n",
       "      <td>Estados Unidos</td>\n",
       "      <td>Passagem Aérea Econômica,Hospedagem Econômica</td>\n",
       "      <td>244.0</td>\n",
       "      <td>52.0</td>\n",
       "      <td>3436</td>\n",
       "      <td>653</td>\n",
       "      <td>818</td>\n",
       "      <td>3271</td>\n",
       "      <td>0</td>\n",
       "      <td>3271</td>\n",
       "      <td>1</td>\n",
       "    </tr>\n",
       "  </tbody>\n",
       "</table>\n",
       "</div>"
      ],
      "text/plain": [
       "         datebr            sku  offer_option_id  \\\n",
       "20   2022-08-01  LGPKG-1135137          2772076   \n",
       "21   2022-08-01  LGPKG-1135137          2772076   \n",
       "22   2022-08-01  LGPKG-1135137          2772076   \n",
       "520  2022-08-02  LGPKG-1135137          2772076   \n",
       "\n",
       "                 offer_option_title  \\\n",
       "20   Aéreo de São Paulo - 5 diárias   \n",
       "21   Aéreo de São Paulo - 5 diárias   \n",
       "22   Aéreo de São Paulo - 5 diárias   \n",
       "520  Aéreo de São Paulo - 5 diárias   \n",
       "\n",
       "                                                   offer_option_description  \\\n",
       "20   Aéreo para Las Vegas | 5 Diárias em Quarto Duplo, Triplo ou Quádruplo.   \n",
       "21   Aéreo para Las Vegas | 5 Diárias em Quarto Duplo, Triplo ou Quádruplo.   \n",
       "22   Aéreo para Las Vegas | 5 Diárias em Quarto Duplo, Triplo ou Quádruplo.   \n",
       "520  Aéreo para Las Vegas | 5 Diárias em Quarto Duplo, Triplo ou Quádruplo.   \n",
       "\n",
       "                            product_name destination_type  multidestino  \\\n",
       "20   Pacote de Viagem - Las Vegas - 2023              INT         False   \n",
       "21   Pacote de Viagem - Las Vegas - 2023              INT         False   \n",
       "22   Pacote de Viagem - Las Vegas - 2023              INT         False   \n",
       "520  Pacote de Viagem - Las Vegas - 2023              INT         False   \n",
       "\n",
       "       year package_date_format destination_city destination_state  \\\n",
       "20   2023.0       Data flexível        Las Vegas            Nevada   \n",
       "21   2023.0       Data flexível        Las Vegas            Nevada   \n",
       "22   2023.0       Data flexível        Las Vegas            Nevada   \n",
       "520  2023.0       Data flexível        Las Vegas            Nevada   \n",
       "\n",
       "    destination_country                                  AttributeList  \\\n",
       "20       Estados Unidos  Passagem Aérea Econômica,Hospedagem Econômica   \n",
       "21       Estados Unidos  Passagem Aérea Econômica,Hospedagem Econômica   \n",
       "22       Estados Unidos  Passagem Aérea Econômica,Hospedagem Econômica   \n",
       "520      Estados Unidos  Passagem Aérea Econômica,Hospedagem Econômica   \n",
       "\n",
       "     clicks  checkout  fullprice  yield  discount  realprice  interest  \\\n",
       "20    257.0      64.0       3436    619       811       3244         0   \n",
       "21    257.0      64.0       3436    619       811       3244      2076   \n",
       "22    257.0      64.0       3436    619       811       3244      2076   \n",
       "520   244.0      52.0       3436    653       818       3271         0   \n",
       "\n",
       "     totalprice  sales  \n",
       "20         3244      2  \n",
       "21         5320      1  \n",
       "22         5321      1  \n",
       "520        3271      1  "
      ]
     },
     "execution_count": 161,
     "metadata": {},
     "output_type": "execute_result"
    }
   ],
   "source": [
    "df[df['offer_option_id']==2772076]# q tem mean price 4289"
   ]
  },
  {
   "cell_type": "code",
   "execution_count": 163,
   "id": "f5a0e0ea",
   "metadata": {},
   "outputs": [
    {
     "data": {
      "text/html": [
       "<div>\n",
       "<style scoped>\n",
       "    .dataframe tbody tr th:only-of-type {\n",
       "        vertical-align: middle;\n",
       "    }\n",
       "\n",
       "    .dataframe tbody tr th {\n",
       "        vertical-align: top;\n",
       "    }\n",
       "\n",
       "    .dataframe thead th {\n",
       "        text-align: right;\n",
       "    }\n",
       "</style>\n",
       "<table border=\"1\" class=\"dataframe\">\n",
       "  <thead>\n",
       "    <tr style=\"text-align: right;\">\n",
       "      <th></th>\n",
       "      <th>datebr</th>\n",
       "      <th>sku</th>\n",
       "      <th>offer_option_id</th>\n",
       "      <th>offer_option_title</th>\n",
       "      <th>offer_option_description</th>\n",
       "      <th>product_name</th>\n",
       "      <th>destination_type</th>\n",
       "      <th>multidestino</th>\n",
       "      <th>year</th>\n",
       "      <th>package_date_format</th>\n",
       "      <th>destination_city</th>\n",
       "      <th>destination_state</th>\n",
       "      <th>destination_country</th>\n",
       "      <th>AttributeList</th>\n",
       "      <th>clicks</th>\n",
       "      <th>checkout</th>\n",
       "      <th>fullprice</th>\n",
       "      <th>yield</th>\n",
       "      <th>discount</th>\n",
       "      <th>realprice</th>\n",
       "      <th>interest</th>\n",
       "      <th>totalprice</th>\n",
       "      <th>sales</th>\n",
       "    </tr>\n",
       "  </thead>\n",
       "  <tbody>\n",
       "    <tr>\n",
       "      <th>681</th>\n",
       "      <td>2022-08-02</td>\n",
       "      <td>LGPKG-1141875</td>\n",
       "      <td>2782675</td>\n",
       "      <td>Aéreo de São Paulo</td>\n",
       "      <td>Aéreo para Los Angeles | 5 Diárias em Quarto Duplo ou Triplo</td>\n",
       "      <td>Pacote de Viagem - Los Angeles (Califórnia) - 2023</td>\n",
       "      <td>INT</td>\n",
       "      <td>False</td>\n",
       "      <td>2023.0</td>\n",
       "      <td>Data flexível</td>\n",
       "      <td>Los Angeles</td>\n",
       "      <td>Califórnia</td>\n",
       "      <td>Estados Unidos</td>\n",
       "      <td>Hospedagem Econômica,Passagem Aérea Econômica</td>\n",
       "      <td>265.0</td>\n",
       "      <td>54.0</td>\n",
       "      <td>3499</td>\n",
       "      <td>630</td>\n",
       "      <td>826</td>\n",
       "      <td>3303</td>\n",
       "      <td>0</td>\n",
       "      <td>3303</td>\n",
       "      <td>2</td>\n",
       "    </tr>\n",
       "    <tr>\n",
       "      <th>682</th>\n",
       "      <td>2022-08-02</td>\n",
       "      <td>LGPKG-1141875</td>\n",
       "      <td>2782675</td>\n",
       "      <td>Aéreo de São Paulo</td>\n",
       "      <td>Aéreo para Los Angeles | 5 Diárias em Quarto Duplo ou Triplo</td>\n",
       "      <td>Pacote de Viagem - Los Angeles (Califórnia) - 2023</td>\n",
       "      <td>INT</td>\n",
       "      <td>False</td>\n",
       "      <td>2023.0</td>\n",
       "      <td>Data flexível</td>\n",
       "      <td>Los Angeles</td>\n",
       "      <td>Califórnia</td>\n",
       "      <td>Estados Unidos</td>\n",
       "      <td>Hospedagem Econômica,Passagem Aérea Econômica</td>\n",
       "      <td>265.0</td>\n",
       "      <td>54.0</td>\n",
       "      <td>3499</td>\n",
       "      <td>665</td>\n",
       "      <td>833</td>\n",
       "      <td>3331</td>\n",
       "      <td>0</td>\n",
       "      <td>3331</td>\n",
       "      <td>1</td>\n",
       "    </tr>\n",
       "    <tr>\n",
       "      <th>683</th>\n",
       "      <td>2022-08-02</td>\n",
       "      <td>LGPKG-1141875</td>\n",
       "      <td>2782675</td>\n",
       "      <td>Aéreo de São Paulo</td>\n",
       "      <td>Aéreo para Los Angeles | 5 Diárias em Quarto Duplo ou Triplo</td>\n",
       "      <td>Pacote de Viagem - Los Angeles (Califórnia) - 2023</td>\n",
       "      <td>INT</td>\n",
       "      <td>False</td>\n",
       "      <td>2023.0</td>\n",
       "      <td>Data flexível</td>\n",
       "      <td>Los Angeles</td>\n",
       "      <td>Califórnia</td>\n",
       "      <td>Estados Unidos</td>\n",
       "      <td>Hospedagem Econômica,Passagem Aérea Econômica</td>\n",
       "      <td>265.0</td>\n",
       "      <td>54.0</td>\n",
       "      <td>3499</td>\n",
       "      <td>700</td>\n",
       "      <td>840</td>\n",
       "      <td>3359</td>\n",
       "      <td>0</td>\n",
       "      <td>3359</td>\n",
       "      <td>1</td>\n",
       "    </tr>\n",
       "  </tbody>\n",
       "</table>\n",
       "</div>"
      ],
      "text/plain": [
       "         datebr            sku  offer_option_id  offer_option_title  \\\n",
       "681  2022-08-02  LGPKG-1141875          2782675  Aéreo de São Paulo   \n",
       "682  2022-08-02  LGPKG-1141875          2782675  Aéreo de São Paulo   \n",
       "683  2022-08-02  LGPKG-1141875          2782675  Aéreo de São Paulo   \n",
       "\n",
       "                                         offer_option_description  \\\n",
       "681  Aéreo para Los Angeles | 5 Diárias em Quarto Duplo ou Triplo   \n",
       "682  Aéreo para Los Angeles | 5 Diárias em Quarto Duplo ou Triplo   \n",
       "683  Aéreo para Los Angeles | 5 Diárias em Quarto Duplo ou Triplo   \n",
       "\n",
       "                                           product_name destination_type  \\\n",
       "681  Pacote de Viagem - Los Angeles (Califórnia) - 2023              INT   \n",
       "682  Pacote de Viagem - Los Angeles (Califórnia) - 2023              INT   \n",
       "683  Pacote de Viagem - Los Angeles (Califórnia) - 2023              INT   \n",
       "\n",
       "     multidestino    year package_date_format destination_city  \\\n",
       "681         False  2023.0       Data flexível      Los Angeles   \n",
       "682         False  2023.0       Data flexível      Los Angeles   \n",
       "683         False  2023.0       Data flexível      Los Angeles   \n",
       "\n",
       "    destination_state destination_country  \\\n",
       "681        Califórnia      Estados Unidos   \n",
       "682        Califórnia      Estados Unidos   \n",
       "683        Califórnia      Estados Unidos   \n",
       "\n",
       "                                     AttributeList  clicks  checkout  \\\n",
       "681  Hospedagem Econômica,Passagem Aérea Econômica   265.0      54.0   \n",
       "682  Hospedagem Econômica,Passagem Aérea Econômica   265.0      54.0   \n",
       "683  Hospedagem Econômica,Passagem Aérea Econômica   265.0      54.0   \n",
       "\n",
       "     fullprice  yield  discount  realprice  interest  totalprice  sales  \n",
       "681       3499    630       826       3303         0        3303      2  \n",
       "682       3499    665       833       3331         0        3331      1  \n",
       "683       3499    700       840       3359         0        3359      1  "
      ]
     },
     "execution_count": 163,
     "metadata": {},
     "output_type": "execute_result"
    }
   ],
   "source": [
    "df[df['offer_option_id']==2782675]# q tem mean price 3331"
   ]
  },
  {
   "cell_type": "code",
   "execution_count": 61,
   "id": "2a589604",
   "metadata": {},
   "outputs": [
    {
     "data": {
      "text/plain": [
       "3"
      ]
     },
     "execution_count": 61,
     "metadata": {},
     "output_type": "execute_result"
    }
   ],
   "source": [
    "km_3.n_clusters"
   ]
  },
  {
   "cell_type": "code",
   "execution_count": 60,
   "id": "b2f5d9e9",
   "metadata": {},
   "outputs": [
    {
     "data": {
      "text/plain": [
       "[49, 22, 179]"
      ]
     },
     "execution_count": 60,
     "metadata": {},
     "output_type": "execute_result"
    }
   ],
   "source": [
    "closest_pt_idx"
   ]
  },
  {
   "cell_type": "code",
   "execution_count": 89,
   "id": "23900322",
   "metadata": {},
   "outputs": [],
   "source": [
    "c = new_df.loc[49,:]"
   ]
  },
  {
   "cell_type": "code",
   "execution_count": 83,
   "id": "0a536dc1",
   "metadata": {},
   "outputs": [],
   "source": [
    "b = new_df.loc[22,:]"
   ]
  },
  {
   "cell_type": "code",
   "execution_count": 114,
   "id": "2ffc1e0e",
   "metadata": {
    "scrolled": true
   },
   "outputs": [
    {
     "data": {
      "text/plain": [
       "off_id        3003906.0\n",
       "mean_sales          1.0\n",
       "mean_price       3535.0\n",
       "Name: 179, dtype: float64"
      ]
     },
     "execution_count": 114,
     "metadata": {},
     "output_type": "execute_result"
    }
   ],
   "source": [
    "a = new_df.loc[179,:]\n",
    "a"
   ]
  },
  {
   "cell_type": "code",
   "execution_count": 81,
   "id": "977aa13e",
   "metadata": {},
   "outputs": [
    {
     "data": {
      "text/plain": [
       "3535.0"
      ]
     },
     "execution_count": 81,
     "metadata": {},
     "output_type": "execute_result"
    }
   ],
   "source": [
    "a[2]"
   ]
  },
  {
   "cell_type": "code",
   "execution_count": 76,
   "id": "eb7cba65",
   "metadata": {},
   "outputs": [
    {
     "data": {
      "text/plain": [
       "1.0"
      ]
     },
     "execution_count": 76,
     "metadata": {},
     "output_type": "execute_result"
    }
   ],
   "source": [
    "a[1]"
   ]
  },
  {
   "cell_type": "code",
   "execution_count": 78,
   "id": "db3dfaec",
   "metadata": {},
   "outputs": [],
   "source": [
    "plt.scatter?"
   ]
  },
  {
   "cell_type": "code",
   "execution_count": 126,
   "id": "fa344e08",
   "metadata": {
    "scrolled": true
   },
   "outputs": [
    {
     "data": {
      "image/png": "[encoded data removed]",
      "text/plain": [
       "<Figure size 640x480 with 1 Axes>"
      ]
     },
     "metadata": {},
     "output_type": "display_data"
    }
   ],
   "source": [
    "plt.scatter(X.iloc[:,0], X.iloc[:,1], s=40, c=km_3.labels_, cmap=plt.cm.prism) \n",
    "plt.title('K-Means Clustering Results with K=3')\n",
    "plt.xlabel('mean sales')\n",
    "plt.ylabel('mean price')\n",
    "plt.scatter(km_3.cluster_centers_[:,0], km_3.cluster_centers_[:,1], marker='+', s=100, c='k', linewidth=2)\n",
    "plt.scatter(a[1], a[2], marker='*', s=100, c='k', linewidth=2) #verde\n",
    "plt.scatter(b[1], b[2], marker='*', s=100, c='k', linewidth=2) #amarelo\n",
    "plt.scatter(c[1], c[2], marker='*', s=100, c='k', linewidth=2) #vermelho\n",
    "plt.scatter(u3[0], u3[1], marker = 'v', c ='b')#centro do cluster verde\n",
    "plt.show()"
   ]
  },
  {
   "cell_type": "code",
   "execution_count": null,
   "id": "3826a7be",
   "metadata": {},
   "outputs": [],
   "source": [
    "#Agora eu quero saber quem são os ids respectivos\n",
    "#Primeiro no cluster verde\n"
   ]
  },
  {
   "cell_type": "code",
   "execution_count": 94,
   "id": "99f68e93",
   "metadata": {},
   "outputs": [
    {
     "data": {
      "text/plain": [
       "319    Pacote de Viagem - Grécia (Atenas + Santorini) - 2024\n",
       "320    Pacote de Viagem - Grécia (Atenas + Santorini) - 2024\n",
       "Name: product_name, dtype: object"
      ]
     },
     "execution_count": 94,
     "metadata": {},
     "output_type": "execute_result"
    }
   ],
   "source": [
    "df[df['offer_option_id']==3003906]['product_name']"
   ]
  },
  {
   "cell_type": "code",
   "execution_count": 105,
   "id": "87f38bd3",
   "metadata": {},
   "outputs": [
    {
     "data": {
      "text/plain": [
       "array([[2.49263325e+00, 1.05303137e+03],\n",
       "       [1.09615385e+00, 7.23819231e+03],\n",
       "       [1.63286550e+00, 3.47960146e+03]])"
      ]
     },
     "execution_count": 105,
     "metadata": {},
     "output_type": "execute_result"
    }
   ],
   "source": [
    "km_3.cluster_centers_"
   ]
  },
  {
   "cell_type": "code",
   "execution_count": 109,
   "id": "409f4add",
   "metadata": {},
   "outputs": [],
   "source": [
    "centro1_x = km_3.cluster_centers_[0,0] ##coordenada x \n",
    "centro1_y = km_3.cluster_centers_[0,1] ##coordenada y"
   ]
  },
  {
   "cell_type": "code",
   "execution_count": 110,
   "id": "914fd11e",
   "metadata": {},
   "outputs": [
    {
     "data": {
      "text/plain": [
       "1053.0313735703667"
      ]
     },
     "execution_count": 110,
     "metadata": {},
     "output_type": "execute_result"
    }
   ],
   "source": [
    "centro1_y"
   ]
  },
  {
   "cell_type": "code",
   "execution_count": 107,
   "id": "a078aff3",
   "metadata": {},
   "outputs": [
    {
     "data": {
      "text/plain": [
       "2.4926332459589355"
      ]
     },
     "execution_count": 107,
     "metadata": {},
     "output_type": "execute_result"
    }
   ],
   "source": [
    "centro1_x"
   ]
  },
  {
   "cell_type": "code",
   "execution_count": 113,
   "id": "ef2d9418",
   "metadata": {},
   "outputs": [],
   "source": [
    "u = [centro1_x, centro1_y]"
   ]
  },
  {
   "cell_type": "code",
   "execution_count": 123,
   "id": "576dbb56",
   "metadata": {},
   "outputs": [],
   "source": [
    "u2 = [km_3.cluster_centers_[1,0], km_3.cluster_centers_[1,1]]# centro do cluster amarelo"
   ]
  },
  {
   "cell_type": "code",
   "execution_count": 124,
   "id": "5baceefd",
   "metadata": {},
   "outputs": [],
   "source": [
    "u3 = [km_3.cluster_centers_[2,0], km_3.cluster_centers_[2,1]]# centro do cluster verde"
   ]
  },
  {
   "cell_type": "code",
   "execution_count": 128,
   "id": "a5ba4dce",
   "metadata": {},
   "outputs": [
    {
     "data": {
      "text/plain": [
       "numpy.float64"
      ]
     },
     "execution_count": 128,
     "metadata": {},
     "output_type": "execute_result"
    }
   ],
   "source": [
    "type(km_3.cluster_centers_[2,1])"
   ]
  },
  {
   "cell_type": "code",
   "execution_count": 141,
   "id": "f006fc15",
   "metadata": {},
   "outputs": [],
   "source": [
    "#new_df = df.loc[(df['Type 1'] == 'Grass') & (df['Type 2'] == 'Poison')]\n",
    "novo = new_df.loc[(new_df['mean_sales']==u3[0]) & (new_df['mean_price']==u3[1])]"
   ]
  },
  {
   "cell_type": "code",
   "execution_count": 143,
   "id": "cae99d15",
   "metadata": {},
   "outputs": [
    {
     "data": {
      "text/html": [
       "<div>\n",
       "<style scoped>\n",
       "    .dataframe tbody tr th:only-of-type {\n",
       "        vertical-align: middle;\n",
       "    }\n",
       "\n",
       "    .dataframe tbody tr th {\n",
       "        vertical-align: top;\n",
       "    }\n",
       "\n",
       "    .dataframe thead th {\n",
       "        text-align: right;\n",
       "    }\n",
       "</style>\n",
       "<table border=\"1\" class=\"dataframe\">\n",
       "  <thead>\n",
       "    <tr style=\"text-align: right;\">\n",
       "      <th></th>\n",
       "      <th>off_id</th>\n",
       "      <th>mean_sales</th>\n",
       "      <th>mean_price</th>\n",
       "    </tr>\n",
       "  </thead>\n",
       "  <tbody>\n",
       "  </tbody>\n",
       "</table>\n",
       "</div>"
      ],
      "text/plain": [
       "Empty DataFrame\n",
       "Columns: [off_id, mean_sales, mean_price]\n",
       "Index: []"
      ]
     },
     "execution_count": 143,
     "metadata": {},
     "output_type": "execute_result"
    }
   ],
   "source": [
    "#O centro do cluster não é um ponto do dataframe!!!!!!!\n",
    "novo"
   ]
  },
  {
   "cell_type": "code",
   "execution_count": 144,
   "id": "7eb61ff5",
   "metadata": {},
   "outputs": [
    {
     "data": {
      "text/html": [
       "<div>\n",
       "<style scoped>\n",
       "    .dataframe tbody tr th:only-of-type {\n",
       "        vertical-align: middle;\n",
       "    }\n",
       "\n",
       "    .dataframe tbody tr th {\n",
       "        vertical-align: top;\n",
       "    }\n",
       "\n",
       "    .dataframe thead th {\n",
       "        text-align: right;\n",
       "    }\n",
       "</style>\n",
       "<table border=\"1\" class=\"dataframe\">\n",
       "  <thead>\n",
       "    <tr style=\"text-align: right;\">\n",
       "      <th></th>\n",
       "      <th>Center_euclidean_dist</th>\n",
       "    </tr>\n",
       "    <tr>\n",
       "      <th>cluster_ID</th>\n",
       "      <th></th>\n",
       "    </tr>\n",
       "  </thead>\n",
       "  <tbody>\n",
       "    <tr>\n",
       "      <th>KMeans(n_clusters=3, n_init=20)</th>\n",
       "      <td>0</td>\n",
       "    </tr>\n",
       "  </tbody>\n",
       "</table>\n",
       "</div>"
      ],
      "text/plain": [
       "                                 Center_euclidean_dist\n",
       "cluster_ID                                            \n",
       "KMeans(n_clusters=3, n_init=20)                      0"
      ]
     },
     "execution_count": 144,
     "metadata": {},
     "output_type": "execute_result"
    }
   ],
   "source": [
    "Y = pd.DataFrame(min_idx, index=new_df.index, columns=['Center_euclidean_dist'])\n",
    "Z = pd.DataFrame(km_3, index=new_df.index, columns=['cluster_ID'])\n",
    "PAP = pd.concat([Y,Z], axis=1)\n",
    "grouped = PAP.groupby(['cluster_ID'])\n",
    "grouped.idxmin()"
   ]
  },
  {
   "cell_type": "code",
   "execution_count": 145,
   "id": "9f3ebf32",
   "metadata": {},
   "outputs": [
    {
     "data": {
      "text/html": [
       "<div>\n",
       "<style scoped>\n",
       "    .dataframe tbody tr th:only-of-type {\n",
       "        vertical-align: middle;\n",
       "    }\n",
       "\n",
       "    .dataframe tbody tr th {\n",
       "        vertical-align: top;\n",
       "    }\n",
       "\n",
       "    .dataframe thead th {\n",
       "        text-align: right;\n",
       "    }\n",
       "</style>\n",
       "<table border=\"1\" class=\"dataframe\">\n",
       "  <thead>\n",
       "    <tr style=\"text-align: right;\">\n",
       "      <th></th>\n",
       "      <th>Center_euclidean_dist</th>\n",
       "      <th>cluster_ID</th>\n",
       "    </tr>\n",
       "  </thead>\n",
       "  <tbody>\n",
       "    <tr>\n",
       "      <th>0</th>\n",
       "      <td>45</td>\n",
       "      <td>KMeans(n_clusters=3, n_init=20)</td>\n",
       "    </tr>\n",
       "    <tr>\n",
       "      <th>1</th>\n",
       "      <td>45</td>\n",
       "      <td>KMeans(n_clusters=3, n_init=20)</td>\n",
       "    </tr>\n",
       "    <tr>\n",
       "      <th>2</th>\n",
       "      <td>45</td>\n",
       "      <td>KMeans(n_clusters=3, n_init=20)</td>\n",
       "    </tr>\n",
       "    <tr>\n",
       "      <th>3</th>\n",
       "      <td>45</td>\n",
       "      <td>KMeans(n_clusters=3, n_init=20)</td>\n",
       "    </tr>\n",
       "    <tr>\n",
       "      <th>4</th>\n",
       "      <td>45</td>\n",
       "      <td>KMeans(n_clusters=3, n_init=20)</td>\n",
       "    </tr>\n",
       "    <tr>\n",
       "      <th>...</th>\n",
       "      <td>...</td>\n",
       "      <td>...</td>\n",
       "    </tr>\n",
       "    <tr>\n",
       "      <th>321</th>\n",
       "      <td>45</td>\n",
       "      <td>KMeans(n_clusters=3, n_init=20)</td>\n",
       "    </tr>\n",
       "    <tr>\n",
       "      <th>322</th>\n",
       "      <td>45</td>\n",
       "      <td>KMeans(n_clusters=3, n_init=20)</td>\n",
       "    </tr>\n",
       "    <tr>\n",
       "      <th>323</th>\n",
       "      <td>45</td>\n",
       "      <td>KMeans(n_clusters=3, n_init=20)</td>\n",
       "    </tr>\n",
       "    <tr>\n",
       "      <th>324</th>\n",
       "      <td>45</td>\n",
       "      <td>KMeans(n_clusters=3, n_init=20)</td>\n",
       "    </tr>\n",
       "    <tr>\n",
       "      <th>325</th>\n",
       "      <td>45</td>\n",
       "      <td>KMeans(n_clusters=3, n_init=20)</td>\n",
       "    </tr>\n",
       "  </tbody>\n",
       "</table>\n",
       "<p>326 rows × 2 columns</p>\n",
       "</div>"
      ],
      "text/plain": [
       "     Center_euclidean_dist                       cluster_ID\n",
       "0                       45  KMeans(n_clusters=3, n_init=20)\n",
       "1                       45  KMeans(n_clusters=3, n_init=20)\n",
       "2                       45  KMeans(n_clusters=3, n_init=20)\n",
       "3                       45  KMeans(n_clusters=3, n_init=20)\n",
       "4                       45  KMeans(n_clusters=3, n_init=20)\n",
       "..                     ...                              ...\n",
       "321                     45  KMeans(n_clusters=3, n_init=20)\n",
       "322                     45  KMeans(n_clusters=3, n_init=20)\n",
       "323                     45  KMeans(n_clusters=3, n_init=20)\n",
       "324                     45  KMeans(n_clusters=3, n_init=20)\n",
       "325                     45  KMeans(n_clusters=3, n_init=20)\n",
       "\n",
       "[326 rows x 2 columns]"
      ]
     },
     "execution_count": 145,
     "metadata": {},
     "output_type": "execute_result"
    }
   ],
   "source": [
    "PAP"
   ]
  },
  {
   "cell_type": "code",
   "execution_count": 140,
   "id": "994eeade",
   "metadata": {},
   "outputs": [
    {
     "data": {
      "text/html": [
       "<div>\n",
       "<style scoped>\n",
       "    .dataframe tbody tr th:only-of-type {\n",
       "        vertical-align: middle;\n",
       "    }\n",
       "\n",
       "    .dataframe tbody tr th {\n",
       "        vertical-align: top;\n",
       "    }\n",
       "\n",
       "    .dataframe thead th {\n",
       "        text-align: right;\n",
       "    }\n",
       "</style>\n",
       "<table border=\"1\" class=\"dataframe\">\n",
       "  <thead>\n",
       "    <tr style=\"text-align: right;\">\n",
       "      <th></th>\n",
       "      <th>off_id</th>\n",
       "      <th>mean_sales</th>\n",
       "      <th>mean_price</th>\n",
       "    </tr>\n",
       "  </thead>\n",
       "  <tbody>\n",
       "  </tbody>\n",
       "</table>\n",
       "</div>"
      ],
      "text/plain": [
       "Empty DataFrame\n",
       "Columns: [off_id, mean_sales, mean_price]\n",
       "Index: []"
      ]
     },
     "execution_count": 140,
     "metadata": {},
     "output_type": "execute_result"
    }
   ],
   "source": [
    "new_df[new_df['mean_price']==u3[0]]"
   ]
  },
  {
   "cell_type": "code",
   "execution_count": 135,
   "id": "7b7f739a",
   "metadata": {},
   "outputs": [
    {
     "data": {
      "text/html": [
       "<div>\n",
       "<style scoped>\n",
       "    .dataframe tbody tr th:only-of-type {\n",
       "        vertical-align: middle;\n",
       "    }\n",
       "\n",
       "    .dataframe tbody tr th {\n",
       "        vertical-align: top;\n",
       "    }\n",
       "\n",
       "    .dataframe thead th {\n",
       "        text-align: right;\n",
       "    }\n",
       "</style>\n",
       "<table border=\"1\" class=\"dataframe\">\n",
       "  <thead>\n",
       "    <tr style=\"text-align: right;\">\n",
       "      <th></th>\n",
       "      <th>off_id</th>\n",
       "      <th>mean_sales</th>\n",
       "      <th>mean_price</th>\n",
       "    </tr>\n",
       "  </thead>\n",
       "  <tbody>\n",
       "  </tbody>\n",
       "</table>\n",
       "</div>"
      ],
      "text/plain": [
       "Empty DataFrame\n",
       "Columns: [off_id, mean_sales, mean_price]\n",
       "Index: []"
      ]
     },
     "execution_count": 135,
     "metadata": {},
     "output_type": "execute_result"
    }
   ],
   "source": [
    "novo"
   ]
  },
  {
   "cell_type": "code",
   "execution_count": 98,
   "id": "e0753fc0",
   "metadata": {},
   "outputs": [
    {
     "name": "stdout",
     "output_type": "stream",
     "text": [
      "Object `KMeans.cluster_centers_` not found.\n"
     ]
    }
   ],
   "source": [
    "KMeans.cluster_centers_?"
   ]
  },
  {
   "cell_type": "code",
   "execution_count": 16,
   "id": "f1106933",
   "metadata": {},
   "outputs": [],
   "source": [
    "## I'm trying to answer the following question: how sales behave with day week? Which day sales the most?"
   ]
  },
  {
   "cell_type": "code",
   "execution_count": 34,
   "id": "fb45ed5c",
   "metadata": {},
   "outputs": [],
   "source": [
    "#Add column with the day of the week\n",
    "week_day = []\n",
    "for i in range (df.shape[0]): \n",
    "    date = pd.Timestamp(df.iloc[i,0])\n",
    "    week_day.append(date.day_name())\n",
    "df['Week day'] = week_day"
   ]
  },
  {
   "cell_type": "code",
   "execution_count": 21,
   "id": "ac7acd78",
   "metadata": {},
   "outputs": [
    {
     "data": {
      "text/plain": [
       "Monday     499\n",
       "Tuesday    201\n",
       "Name: Week day, dtype: int64"
      ]
     },
     "execution_count": 21,
     "metadata": {},
     "output_type": "execute_result"
    }
   ],
   "source": [
    "#No fake_dataset só tem segundas e tercas:\n",
    "df['Week day'].value_counts()"
   ]
  },
  {
   "cell_type": "code",
   "execution_count": 33,
   "id": "a027c13d",
   "metadata": {
    "scrolled": true
   },
   "outputs": [
    {
     "data": {
      "text/plain": [
       "<Axes: ylabel='sales'>"
      ]
     },
     "execution_count": 33,
     "metadata": {},
     "output_type": "execute_result"
    },
    {
     "data": {
      "image/png": "[encoded data removed]",
      "text/plain": [
       "<Figure size 500x500 with 1 Axes>"
      ]
     },
     "metadata": {},
     "output_type": "display_data"
    }
   ],
   "source": [
    "t = df.groupby(['Week day']).sum(['sales'])\n",
    "plot2 = t.plot.pie(y='sales', figsize=(5, 5), autopct='%1.1f%%', pctdistance=1.25)\n",
    "plot2"
   ]
  },
  {
   "cell_type": "code",
   "execution_count": 51,
   "id": "4c361f75",
   "metadata": {},
   "outputs": [],
   "source": [
    "## I'm trying to answer the following question: how sales behave with day of month? Which day sales the most?"
   ]
  },
  {
   "cell_type": "code",
   "execution_count": 48,
   "id": "ad55346a",
   "metadata": {},
   "outputs": [],
   "source": [
    "#Add column with days\n",
    "day = []\n",
    "for i in range (df.shape[0]): \n",
    "    date = pd.Timestamp(df.iloc[i,0])\n",
    "    day.append(date.to_pydatetime().day)\n",
    "df['day'] = day"
   ]
  },
  {
   "cell_type": "code",
   "execution_count": 50,
   "id": "c2b90255",
   "metadata": {},
   "outputs": [
    {
     "data": {
      "text/plain": [
       "<Axes: ylabel='sales'>"
      ]
     },
     "execution_count": 50,
     "metadata": {},
     "output_type": "execute_result"
    },
    {
     "data": {
      "image/png": "[encoded data removed]",
      "text/plain": [
       "<Figure size 500x500 with 1 Axes>"
      ]
     },
     "metadata": {},
     "output_type": "display_data"
    }
   ],
   "source": [
    "u = df.groupby(['day']).sum(['sales'])\n",
    "plot1 = u.plot.pie(y='sales', figsize=(5, 5), autopct='%1.1f%%', pctdistance=1.25)\n",
    "plot1"
   ]
  },
  {
   "cell_type": "code",
   "execution_count": 74,
   "id": "31328e46",
   "metadata": {},
   "outputs": [],
   "source": [
    "u = dict(df['destination_type'].value_counts())"
   ]
  },
  {
   "cell_type": "code",
   "execution_count": 75,
   "id": "a72e252b",
   "metadata": {
    "scrolled": true
   },
   "outputs": [
    {
     "name": "stderr",
     "output_type": "stream",
     "text": [
      "C:\\Users\\user\\AppData\\Local\\Temp\\ipykernel_13560\\58718615.py:2: FutureWarning: The default value of numeric_only in DataFrameGroupBy.sum is deprecated. In a future version, numeric_only will default to False. Either specify numeric_only or select only columns which should be valid for the function.\n",
      "  i = dict(df.groupby('destination_type').sum()['sales'])\n"
     ]
    }
   ],
   "source": [
    "#Group by destination_type and sum the column sales\n",
    "i = dict(df.groupby('destination_type').sum()['sales'])"
   ]
  },
  {
   "cell_type": "code",
   "execution_count": 76,
   "id": "e7175dfc",
   "metadata": {},
   "outputs": [
    {
     "data": {
      "text/plain": [
       "{'INT': 790, 'NAC': 1671}"
      ]
     },
     "execution_count": 76,
     "metadata": {},
     "output_type": "execute_result"
    }
   ],
   "source": [
    "i"
   ]
  },
  {
   "cell_type": "code",
   "execution_count": 78,
   "id": "5cedf31c",
   "metadata": {},
   "outputs": [],
   "source": [
    "total_sales = df['sales'].sum()"
   ]
  },
  {
   "cell_type": "code",
   "execution_count": 82,
   "id": "953b38c7",
   "metadata": {},
   "outputs": [],
   "source": [
    "prop_sales_nac = list(i.values())[1]/total_sales\n",
    "prop_sales_int = list(i.values())[0]/total_sales"
   ]
  },
  {
   "cell_type": "code",
   "execution_count": 80,
   "id": "17835f83",
   "metadata": {},
   "outputs": [
    {
     "data": {
      "text/plain": [
       "dict_values([790, 1671])"
      ]
     },
     "execution_count": 80,
     "metadata": {},
     "output_type": "execute_result"
    }
   ],
   "source": [
    "i.values()"
   ]
  },
  {
   "cell_type": "code",
   "execution_count": 83,
   "id": "3426bf70",
   "metadata": {},
   "outputs": [
    {
     "data": {
      "text/plain": [
       "0.321007720438846"
      ]
     },
     "execution_count": 83,
     "metadata": {},
     "output_type": "execute_result"
    }
   ],
   "source": [
    "prop_sales_int"
   ]
  },
  {
   "cell_type": "code",
   "execution_count": 84,
   "id": "ade4fdde",
   "metadata": {},
   "outputs": [
    {
     "data": {
      "text/plain": [
       "0.678992279561154"
      ]
     },
     "execution_count": 84,
     "metadata": {},
     "output_type": "execute_result"
    }
   ],
   "source": [
    "prop_sales_nac"
   ]
  },
  {
   "cell_type": "code",
   "execution_count": 96,
   "id": "729331f4",
   "metadata": {},
   "outputs": [
    {
     "data": {
      "image/png": "[encoded data removed]",
      "text/plain": [
       "<Figure size 640x480 with 1 Axes>"
      ]
     },
     "metadata": {},
     "output_type": "display_data"
    }
   ],
   "source": [
    "prop_sales = [prop_sales_nac, prop_sales_int]\n",
    "labels = [\"NAC\", \"INT\"]\n",
    "plt.pie(prop_sales, autopct='%1.1f%%', labels = labels)\n",
    "plt.legend()\n",
    "plt.show()"
   ]
  },
  {
   "cell_type": "code",
   "execution_count": 109,
   "id": "ed9fd96e",
   "metadata": {},
   "outputs": [
    {
     "data": {
      "image/png": "[encoded data removed]",
      "text/plain": [
       "<Figure size 640x480 with 1 Axes>"
      ]
     },
     "metadata": {},
     "output_type": "display_data"
    }
   ],
   "source": [
    "plt.hist(df['sales'], bins = 10)\n",
    "plt.show()"
   ]
  },
  {
   "cell_type": "code",
   "execution_count": 111,
   "id": "7ea5ab87",
   "metadata": {},
   "outputs": [],
   "source": [
    "#Reding the rows which name contains mega\n",
    "df2 = df.loc[df['product_name'].str.contains('All')]"
   ]
  },
  {
   "cell_type": "code",
   "execution_count": 112,
   "id": "54cff4fe",
   "metadata": {},
   "outputs": [
    {
     "data": {
      "text/plain": [
       "(47, 26)"
      ]
     },
     "execution_count": 112,
     "metadata": {},
     "output_type": "execute_result"
    }
   ],
   "source": [
    "df2.shape"
   ]
  },
  {
   "cell_type": "code",
   "execution_count": 114,
   "id": "2e768266",
   "metadata": {},
   "outputs": [
    {
     "data": {
      "text/plain": [
       "0.03941487200325071"
      ]
     },
     "execution_count": 114,
     "metadata": {},
     "output_type": "execute_result"
    }
   ],
   "source": [
    "## Em torno de 3% das vendas é de pacotes all inclusive:\n",
    "df2['sales'].sum()/total_sales"
   ]
  },
  {
   "cell_type": "code",
   "execution_count": 115,
   "id": "92e6de4f",
   "metadata": {},
   "outputs": [],
   "source": [
    "## O QUE FALTA: ENTENDER A DISTRIBUIÇÃO DISSO!"
   ]
  },
  {
   "cell_type": "code",
   "execution_count": null,
   "id": "31198376",
   "metadata": {},
   "outputs": [],
   "source": [
    "## I'm trying to understand: given an id, whats the range of realprice?"
   ]
  },
  {
   "cell_type": "code",
   "execution_count": 14,
   "id": "0889a874",
   "metadata": {},
   "outputs": [],
   "source": [
    "df3 = df[df['offer_option_id']==2782430]"
   ]
  },
  {
   "cell_type": "code",
   "execution_count": 39,
   "id": "7a716ba9",
   "metadata": {},
   "outputs": [
    {
     "data": {
      "text/plain": [
       "(13, 23)"
      ]
     },
     "execution_count": 39,
     "metadata": {},
     "output_type": "execute_result"
    }
   ],
   "source": [
    "df3.shape"
   ]
  },
  {
   "cell_type": "code",
   "execution_count": 15,
   "id": "59972dff",
   "metadata": {},
   "outputs": [
    {
     "data": {
      "text/html": [
       "<div>\n",
       "<style scoped>\n",
       "    .dataframe tbody tr th:only-of-type {\n",
       "        vertical-align: middle;\n",
       "    }\n",
       "\n",
       "    .dataframe tbody tr th {\n",
       "        vertical-align: top;\n",
       "    }\n",
       "\n",
       "    .dataframe thead th {\n",
       "        text-align: right;\n",
       "    }\n",
       "</style>\n",
       "<table border=\"1\" class=\"dataframe\">\n",
       "  <thead>\n",
       "    <tr style=\"text-align: right;\">\n",
       "      <th></th>\n",
       "      <th>datebr</th>\n",
       "      <th>sku</th>\n",
       "      <th>offer_option_id</th>\n",
       "      <th>offer_option_title</th>\n",
       "      <th>offer_option_description</th>\n",
       "      <th>product_name</th>\n",
       "      <th>destination_type</th>\n",
       "      <th>multidestino</th>\n",
       "      <th>year</th>\n",
       "      <th>package_date_format</th>\n",
       "      <th>destination_city</th>\n",
       "      <th>destination_state</th>\n",
       "      <th>destination_country</th>\n",
       "      <th>AttributeList</th>\n",
       "      <th>clicks</th>\n",
       "      <th>checkout</th>\n",
       "      <th>fullprice</th>\n",
       "      <th>yield</th>\n",
       "      <th>discount</th>\n",
       "      <th>realprice</th>\n",
       "      <th>interest</th>\n",
       "      <th>totalprice</th>\n",
       "      <th>sales</th>\n",
       "    </tr>\n",
       "  </thead>\n",
       "  <tbody>\n",
       "    <tr>\n",
       "      <th>167</th>\n",
       "      <td>2022-08-01</td>\n",
       "      <td>LGPKG-1141722</td>\n",
       "      <td>2782430</td>\n",
       "      <td>Aéreo de São Paulo - 6 diárias</td>\n",
       "      <td>Aéreo para Recife | Quarto Duplo ou Triplo | 6 Diárias (3 diárias em Recife + 3 diárias em Porto de Galinhas)</td>\n",
       "      <td>Pacote de Viagem Recife + Porto de Galinhas - 2023</td>\n",
       "      <td>NAC</td>\n",
       "      <td>False</td>\n",
       "      <td>2023.0</td>\n",
       "      <td>Data flexível</td>\n",
       "      <td>Recife</td>\n",
       "      <td>Pernambuco</td>\n",
       "      <td>Brasil</td>\n",
       "      <td>Hospedagem Econômica,Café da manhã,Passagem Aérea Econômica</td>\n",
       "      <td>14741.0</td>\n",
       "      <td>4610.0</td>\n",
       "      <td>699</td>\n",
       "      <td>0</td>\n",
       "      <td>140</td>\n",
       "      <td>559</td>\n",
       "      <td>0</td>\n",
       "      <td>559</td>\n",
       "      <td>140</td>\n",
       "    </tr>\n",
       "    <tr>\n",
       "      <th>168</th>\n",
       "      <td>2022-08-01</td>\n",
       "      <td>LGPKG-1141722</td>\n",
       "      <td>2782430</td>\n",
       "      <td>Aéreo de São Paulo - 6 diárias</td>\n",
       "      <td>Aéreo para Recife | Quarto Duplo ou Triplo | 6 Diárias (3 diárias em Recife + 3 diárias em Porto de Galinhas)</td>\n",
       "      <td>Pacote de Viagem Recife + Porto de Galinhas - 2023</td>\n",
       "      <td>NAC</td>\n",
       "      <td>False</td>\n",
       "      <td>2023.0</td>\n",
       "      <td>Data flexível</td>\n",
       "      <td>Recife</td>\n",
       "      <td>Pernambuco</td>\n",
       "      <td>Brasil</td>\n",
       "      <td>Hospedagem Econômica,Café da manhã,Passagem Aérea Econômica</td>\n",
       "      <td>14741.0</td>\n",
       "      <td>4610.0</td>\n",
       "      <td>699</td>\n",
       "      <td>0</td>\n",
       "      <td>140</td>\n",
       "      <td>559</td>\n",
       "      <td>42</td>\n",
       "      <td>601</td>\n",
       "      <td>1</td>\n",
       "    </tr>\n",
       "    <tr>\n",
       "      <th>169</th>\n",
       "      <td>2022-08-01</td>\n",
       "      <td>LGPKG-1141722</td>\n",
       "      <td>2782430</td>\n",
       "      <td>Aéreo de São Paulo - 6 diárias</td>\n",
       "      <td>Aéreo para Recife | Quarto Duplo ou Triplo | 6 Diárias (3 diárias em Recife + 3 diárias em Porto de Galinhas)</td>\n",
       "      <td>Pacote de Viagem Recife + Porto de Galinhas - 2023</td>\n",
       "      <td>NAC</td>\n",
       "      <td>False</td>\n",
       "      <td>2023.0</td>\n",
       "      <td>Data flexível</td>\n",
       "      <td>Recife</td>\n",
       "      <td>Pernambuco</td>\n",
       "      <td>Brasil</td>\n",
       "      <td>Hospedagem Econômica,Café da manhã,Passagem Aérea Econômica</td>\n",
       "      <td>14741.0</td>\n",
       "      <td>4610.0</td>\n",
       "      <td>699</td>\n",
       "      <td>0</td>\n",
       "      <td>140</td>\n",
       "      <td>559</td>\n",
       "      <td>53</td>\n",
       "      <td>612</td>\n",
       "      <td>8</td>\n",
       "    </tr>\n",
       "    <tr>\n",
       "      <th>171</th>\n",
       "      <td>2022-08-01</td>\n",
       "      <td>LGPKG-1141722</td>\n",
       "      <td>2782430</td>\n",
       "      <td>Aéreo de São Paulo - 6 diárias</td>\n",
       "      <td>Aéreo para Recife | Quarto Duplo ou Triplo | 6 Diárias (3 diárias em Recife + 3 diárias em Porto de Galinhas)</td>\n",
       "      <td>Pacote de Viagem Recife + Porto de Galinhas - 2023</td>\n",
       "      <td>NAC</td>\n",
       "      <td>False</td>\n",
       "      <td>2023.0</td>\n",
       "      <td>Data flexível</td>\n",
       "      <td>Recife</td>\n",
       "      <td>Pernambuco</td>\n",
       "      <td>Brasil</td>\n",
       "      <td>Hospedagem Econômica,Café da manhã,Passagem Aérea Econômica</td>\n",
       "      <td>14741.0</td>\n",
       "      <td>4610.0</td>\n",
       "      <td>699</td>\n",
       "      <td>0</td>\n",
       "      <td>140</td>\n",
       "      <td>559</td>\n",
       "      <td>64</td>\n",
       "      <td>623</td>\n",
       "      <td>9</td>\n",
       "    </tr>\n",
       "    <tr>\n",
       "      <th>173</th>\n",
       "      <td>2022-08-01</td>\n",
       "      <td>LGPKG-1141722</td>\n",
       "      <td>2782430</td>\n",
       "      <td>Aéreo de São Paulo - 6 diárias</td>\n",
       "      <td>Aéreo para Recife | Quarto Duplo ou Triplo | 6 Diárias (3 diárias em Recife + 3 diárias em Porto de Galinhas)</td>\n",
       "      <td>Pacote de Viagem Recife + Porto de Galinhas - 2023</td>\n",
       "      <td>NAC</td>\n",
       "      <td>False</td>\n",
       "      <td>2023.0</td>\n",
       "      <td>Data flexível</td>\n",
       "      <td>Recife</td>\n",
       "      <td>Pernambuco</td>\n",
       "      <td>Brasil</td>\n",
       "      <td>Hospedagem Econômica,Café da manhã,Passagem Aérea Econômica</td>\n",
       "      <td>14741.0</td>\n",
       "      <td>4610.0</td>\n",
       "      <td>699</td>\n",
       "      <td>0</td>\n",
       "      <td>140</td>\n",
       "      <td>559</td>\n",
       "      <td>224</td>\n",
       "      <td>783</td>\n",
       "      <td>1</td>\n",
       "    </tr>\n",
       "  </tbody>\n",
       "</table>\n",
       "</div>"
      ],
      "text/plain": [
       "         datebr            sku  offer_option_id  \\\n",
       "167  2022-08-01  LGPKG-1141722          2782430   \n",
       "168  2022-08-01  LGPKG-1141722          2782430   \n",
       "169  2022-08-01  LGPKG-1141722          2782430   \n",
       "171  2022-08-01  LGPKG-1141722          2782430   \n",
       "173  2022-08-01  LGPKG-1141722          2782430   \n",
       "\n",
       "                 offer_option_title  \\\n",
       "167  Aéreo de São Paulo - 6 diárias   \n",
       "168  Aéreo de São Paulo - 6 diárias   \n",
       "169  Aéreo de São Paulo - 6 diárias   \n",
       "171  Aéreo de São Paulo - 6 diárias   \n",
       "173  Aéreo de São Paulo - 6 diárias   \n",
       "\n",
       "                                                                                          offer_option_description  \\\n",
       "167  Aéreo para Recife | Quarto Duplo ou Triplo | 6 Diárias (3 diárias em Recife + 3 diárias em Porto de Galinhas)   \n",
       "168  Aéreo para Recife | Quarto Duplo ou Triplo | 6 Diárias (3 diárias em Recife + 3 diárias em Porto de Galinhas)   \n",
       "169  Aéreo para Recife | Quarto Duplo ou Triplo | 6 Diárias (3 diárias em Recife + 3 diárias em Porto de Galinhas)   \n",
       "171  Aéreo para Recife | Quarto Duplo ou Triplo | 6 Diárias (3 diárias em Recife + 3 diárias em Porto de Galinhas)   \n",
       "173  Aéreo para Recife | Quarto Duplo ou Triplo | 6 Diárias (3 diárias em Recife + 3 diárias em Porto de Galinhas)   \n",
       "\n",
       "                                           product_name destination_type  \\\n",
       "167  Pacote de Viagem Recife + Porto de Galinhas - 2023              NAC   \n",
       "168  Pacote de Viagem Recife + Porto de Galinhas - 2023              NAC   \n",
       "169  Pacote de Viagem Recife + Porto de Galinhas - 2023              NAC   \n",
       "171  Pacote de Viagem Recife + Porto de Galinhas - 2023              NAC   \n",
       "173  Pacote de Viagem Recife + Porto de Galinhas - 2023              NAC   \n",
       "\n",
       "     multidestino    year package_date_format destination_city  \\\n",
       "167         False  2023.0       Data flexível           Recife   \n",
       "168         False  2023.0       Data flexível           Recife   \n",
       "169         False  2023.0       Data flexível           Recife   \n",
       "171         False  2023.0       Data flexível           Recife   \n",
       "173         False  2023.0       Data flexível           Recife   \n",
       "\n",
       "    destination_state destination_country  \\\n",
       "167        Pernambuco              Brasil   \n",
       "168        Pernambuco              Brasil   \n",
       "169        Pernambuco              Brasil   \n",
       "171        Pernambuco              Brasil   \n",
       "173        Pernambuco              Brasil   \n",
       "\n",
       "                                                   AttributeList   clicks  \\\n",
       "167  Hospedagem Econômica,Café da manhã,Passagem Aérea Econômica  14741.0   \n",
       "168  Hospedagem Econômica,Café da manhã,Passagem Aérea Econômica  14741.0   \n",
       "169  Hospedagem Econômica,Café da manhã,Passagem Aérea Econômica  14741.0   \n",
       "171  Hospedagem Econômica,Café da manhã,Passagem Aérea Econômica  14741.0   \n",
       "173  Hospedagem Econômica,Café da manhã,Passagem Aérea Econômica  14741.0   \n",
       "\n",
       "     checkout  fullprice  yield  discount  realprice  interest  totalprice  \\\n",
       "167    4610.0        699      0       140        559         0         559   \n",
       "168    4610.0        699      0       140        559        42         601   \n",
       "169    4610.0        699      0       140        559        53         612   \n",
       "171    4610.0        699      0       140        559        64         623   \n",
       "173    4610.0        699      0       140        559       224         783   \n",
       "\n",
       "     sales  \n",
       "167    140  \n",
       "168      1  \n",
       "169      8  \n",
       "171      9  \n",
       "173      1  "
      ]
     },
     "execution_count": 15,
     "metadata": {},
     "output_type": "execute_result"
    }
   ],
   "source": [
    "df3.head(5)"
   ]
  },
  {
   "cell_type": "code",
   "execution_count": 31,
   "id": "2dd8e8a9",
   "metadata": {},
   "outputs": [],
   "source": [
    "o = dict(df['offer_option_id'].value_counts())"
   ]
  },
  {
   "cell_type": "code",
   "execution_count": 37,
   "id": "86228824",
   "metadata": {},
   "outputs": [
    {
     "data": {
      "text/plain": [
       "326"
      ]
     },
     "execution_count": 37,
     "metadata": {},
     "output_type": "execute_result"
    }
   ],
   "source": [
    "len(o)"
   ]
  },
  {
   "cell_type": "code",
   "execution_count": 19,
   "id": "08acbb5e",
   "metadata": {},
   "outputs": [],
   "source": [
    "price_var = df3['totalprice'].max() - df3['totalprice'].min()"
   ]
  },
  {
   "cell_type": "code",
   "execution_count": 21,
   "id": "7104370f",
   "metadata": {},
   "outputs": [],
   "source": [
    "total_sales = df3['sales'].sum()"
   ]
  },
  {
   "cell_type": "code",
   "execution_count": 63,
   "id": "d083f792",
   "metadata": {},
   "outputs": [
    {
     "data": {
      "text/plain": [
       "[2782430,\n",
       " 2780997,\n",
       " 2779137,\n",
       " 2782432,\n",
       " 2782429,\n",
       " 2780573,\n",
       " 2777664,\n",
       " 2777019,\n",
       " 2724406,\n",
       " 2777663,\n",
       " 3042323,\n",
       " 2781871,\n",
       " 2898800,\n",
       " 2777948,\n",
       " 2782617,\n",
       " 2777020,\n",
       " 2785538,\n",
       " 3034930,\n",
       " 2780996,\n",
       " 2724407,\n",
       " 2780572,\n",
       " 2779874,\n",
       " 2777665,\n",
       " 2779873,\n",
       " 2780197,\n",
       " 2989050,\n",
       " 2782618,\n",
       " 3030560,\n",
       " 2782433,\n",
       " 2781870,\n",
       " 3030564,\n",
       " 2779861,\n",
       " 2724409,\n",
       " 2782944,\n",
       " 2782943,\n",
       " 2779315,\n",
       " 2773088,\n",
       " 2776312,\n",
       " 2989049,\n",
       " 3035914,\n",
       " 2769024,\n",
       " 2777018,\n",
       " 3003947,\n",
       " 3035863,\n",
       " 2776984,\n",
       " 3035644,\n",
       " 3034931,\n",
       " 2898801,\n",
       " 2776691,\n",
       " 3034927,\n",
       " 2772076,\n",
       " 3035645,\n",
       " 3003910,\n",
       " 2782675,\n",
       " 2782582,\n",
       " 2989053,\n",
       " 2989041,\n",
       " 2724408,\n",
       " 2989054,\n",
       " 2780308,\n",
       " 2780309,\n",
       " 2989045,\n",
       " 2989046,\n",
       " 2779316,\n",
       " 2777947,\n",
       " 2777668,\n",
       " 2776983,\n",
       " 3033392,\n",
       " 2779136,\n",
       " 2777021,\n",
       " 3034932,\n",
       " 3032675,\n",
       " 3031382,\n",
       " 2776185,\n",
       " 3030565,\n",
       " 2777666,\n",
       " 2780476,\n",
       " 2777667,\n",
       " 2785537,\n",
       " 2782431,\n",
       " 3042324,\n",
       " 2778975,\n",
       " 2778976,\n",
       " 2776186,\n",
       " 2785783,\n",
       " 2786346,\n",
       " 2786345,\n",
       " 3035894,\n",
       " 2786343,\n",
       " 2786550,\n",
       " 2786551,\n",
       " 2897079,\n",
       " 3043794,\n",
       " 3035991,\n",
       " 3035992,\n",
       " 3035981,\n",
       " 3043793,\n",
       " 3032847,\n",
       " 3031530,\n",
       " 3031383,\n",
       " 3031120,\n",
       " 3031123,\n",
       " 3033393,\n",
       " 3030052,\n",
       " 3030404,\n",
       " 3026347,\n",
       " 3022749,\n",
       " 3034926,\n",
       " 3012175,\n",
       " 3012176,\n",
       " 3034929,\n",
       " 3011369,\n",
       " 3031516,\n",
       " 3011370,\n",
       " 3003950,\n",
       " 3003949,\n",
       " 3003946,\n",
       " 3003948,\n",
       " 2785779,\n",
       " 3003906,\n",
       " 3035864,\n",
       " 2989047,\n",
       " 2989051,\n",
       " 3031515,\n",
       " 2988271,\n",
       " 3032674,\n",
       " 2778360,\n",
       " 2776726,\n",
       " 2780998,\n",
       " 2776419,\n",
       " 2776296,\n",
       " 2780439,\n",
       " 2780440,\n",
       " 2776985,\n",
       " 2775247,\n",
       " 2780326,\n",
       " 2773939,\n",
       " 2773938,\n",
       " 2782863,\n",
       " 2780196,\n",
       " 2782588,\n",
       " 2773087,\n",
       " 2778359,\n",
       " 2783709,\n",
       " 2778557,\n",
       " 2778974,\n",
       " 2785772,\n",
       " 2784888,\n",
       " 2778558,\n",
       " 2776187,\n",
       " 2779314,\n",
       " 2779860,\n",
       " 2772746,\n",
       " 2779875,\n",
       " 2778559,\n",
       " 2780682,\n",
       " 3035005,\n",
       " 2778977,\n",
       " 2780295,\n",
       " 2779872,\n",
       " 2779689,\n",
       " 2709947,\n",
       " 2781873,\n",
       " 2781881,\n",
       " 3032678,\n",
       " 3032673,\n",
       " 3032848,\n",
       " 2783453,\n",
       " 2782950,\n",
       " 2782946,\n",
       " 2782947,\n",
       " 2782871,\n",
       " 2782870,\n",
       " 2782674,\n",
       " 3032863,\n",
       " 3032896,\n",
       " 2782616,\n",
       " 3033385,\n",
       " 3033394,\n",
       " 2782587,\n",
       " 3033389,\n",
       " 3035201,\n",
       " 3033782,\n",
       " 2782148,\n",
       " 2778356,\n",
       " 2778499,\n",
       " 2768630,\n",
       " 3035923,\n",
       " 2773712,\n",
       " 2773706,\n",
       " 2773092,\n",
       " 3035987,\n",
       " 3035990,\n",
       " 2772080,\n",
       " 2768434,\n",
       " 3035915,\n",
       " 2730763,\n",
       " 3036315,\n",
       " 3040108,\n",
       " 2728052,\n",
       " 2723861,\n",
       " 2723136,\n",
       " 2708123,\n",
       " 3035916,\n",
       " 3035890,\n",
       " 3035623,\n",
       " 3035862,\n",
       " 2778496,\n",
       " 2709210,\n",
       " 2777133,\n",
       " 3035643,\n",
       " 2776694,\n",
       " 2776311,\n",
       " 3035860,\n",
       " 2775422,\n",
       " 3035899,\n",
       " 2775246,\n",
       " 2773941,\n",
       " 3035865,\n",
       " 3035867,\n",
       " 3035895,\n",
       " 3035896,\n",
       " 2773713,\n",
       " 2773089,\n",
       " 2710823,\n",
       " 3032670,\n",
       " 2782942,\n",
       " 2779876,\n",
       " 2779881,\n",
       " 2780331,\n",
       " 2780442,\n",
       " 2781000,\n",
       " 2782434,\n",
       " 2782579,\n",
       " 2782577,\n",
       " 2782612,\n",
       " 2782945,\n",
       " 2782951,\n",
       " 2785785,\n",
       " 2782953,\n",
       " 2782940,\n",
       " 2783448,\n",
       " 2783447,\n",
       " 2783446,\n",
       " 2783710,\n",
       " 2784850,\n",
       " 2785780,\n",
       " 2785782,\n",
       " 2785778,\n",
       " 2779690,\n",
       " 2779144,\n",
       " 2779145,\n",
       " 2779138,\n",
       " 2730767,\n",
       " 2730985,\n",
       " 2768898,\n",
       " 2768900,\n",
       " 2768901,\n",
       " 2769023,\n",
       " 2769026,\n",
       " 2772749,\n",
       " 2773090,\n",
       " 2773091,\n",
       " 2775414,\n",
       " 2775847,\n",
       " 2776690,\n",
       " 2776693,\n",
       " 2776727,\n",
       " 2776988,\n",
       " 2776987,\n",
       " 2777134,\n",
       " 2777669,\n",
       " 2777857,\n",
       " 2778366,\n",
       " 2785781,\n",
       " 2785777,\n",
       " 3032496,\n",
       " 3018596,\n",
       " 3003911,\n",
       " 3003912,\n",
       " 3003944,\n",
       " 3003943,\n",
       " 3011367,\n",
       " 3011908,\n",
       " 3012178,\n",
       " 3012202,\n",
       " 3015804,\n",
       " 3018595,\n",
       " 3029072,\n",
       " 2786348,\n",
       " 3030056,\n",
       " 3030072,\n",
       " 3030080,\n",
       " 3030083,\n",
       " 3030566,\n",
       " 3030561,\n",
       " 3031122,\n",
       " 3031531,\n",
       " 3032501,\n",
       " 3032497,\n",
       " 2989043,\n",
       " 2989055,\n",
       " 2989042,\n",
       " 2901832,\n",
       " 2786347,\n",
       " 2786553,\n",
       " 2787245,\n",
       " 2787252,\n",
       " 2787247,\n",
       " 2787248,\n",
       " 2787250,\n",
       " 2787242,\n",
       " 2895990,\n",
       " 2895991,\n",
       " 2896074,\n",
       " 2896080,\n",
       " 2896090,\n",
       " 2896145,\n",
       " 2896157,\n",
       " 2896139,\n",
       " 2896482,\n",
       " 2897080,\n",
       " 2897082,\n",
       " 2898802,\n",
       " 2901061,\n",
       " 2783650]"
      ]
     },
     "execution_count": 63,
     "metadata": {},
     "output_type": "execute_result"
    }
   ],
   "source": [
    "ids = list(o.keys())\n",
    "ids"
   ]
  },
  {
   "cell_type": "code",
   "execution_count": 67,
   "id": "cff77555",
   "metadata": {},
   "outputs": [],
   "source": [
    "price_var = []\n",
    "total_sales = []\n",
    "for i in ids:\n",
    "    df4 = df[df['offer_option_id'] == i]\n",
    "    price_var4 = df4['totalprice'].max() - df4['totalprice'].min()\n",
    "    total_sales4 = df4['sales'].sum()\n",
    "    price_var.append(price_var4)\n",
    "    total_sales.append(total_sales4)"
   ]
  },
  {
   "cell_type": "code",
   "execution_count": 74,
   "id": "a57856d6",
   "metadata": {},
   "outputs": [],
   "source": [
    "novo_df = pd.DataFrame({'offer_id': ids, 'total_sales' : total_sales, 'price_var' : price_var})"
   ]
  },
  {
   "cell_type": "code",
   "execution_count": 75,
   "id": "1e8335e7",
   "metadata": {},
   "outputs": [
    {
     "data": {
      "text/html": [
       "<div>\n",
       "<style scoped>\n",
       "    .dataframe tbody tr th:only-of-type {\n",
       "        vertical-align: middle;\n",
       "    }\n",
       "\n",
       "    .dataframe tbody tr th {\n",
       "        vertical-align: top;\n",
       "    }\n",
       "\n",
       "    .dataframe thead th {\n",
       "        text-align: right;\n",
       "    }\n",
       "</style>\n",
       "<table border=\"1\" class=\"dataframe\">\n",
       "  <thead>\n",
       "    <tr style=\"text-align: right;\">\n",
       "      <th></th>\n",
       "      <th>offer_id</th>\n",
       "      <th>total_sales</th>\n",
       "      <th>price_var</th>\n",
       "    </tr>\n",
       "  </thead>\n",
       "  <tbody>\n",
       "    <tr>\n",
       "      <th>0</th>\n",
       "      <td>2782430</td>\n",
       "      <td>286</td>\n",
       "      <td>358</td>\n",
       "    </tr>\n",
       "    <tr>\n",
       "      <th>1</th>\n",
       "      <td>2780997</td>\n",
       "      <td>46</td>\n",
       "      <td>700</td>\n",
       "    </tr>\n",
       "    <tr>\n",
       "      <th>2</th>\n",
       "      <td>2779137</td>\n",
       "      <td>16</td>\n",
       "      <td>515</td>\n",
       "    </tr>\n",
       "    <tr>\n",
       "      <th>3</th>\n",
       "      <td>2782432</td>\n",
       "      <td>71</td>\n",
       "      <td>414</td>\n",
       "    </tr>\n",
       "    <tr>\n",
       "      <th>4</th>\n",
       "      <td>2782429</td>\n",
       "      <td>240</td>\n",
       "      <td>358</td>\n",
       "    </tr>\n",
       "  </tbody>\n",
       "</table>\n",
       "</div>"
      ],
      "text/plain": [
       "   offer_id  total_sales  price_var\n",
       "0   2782430          286        358\n",
       "1   2780997           46        700\n",
       "2   2779137           16        515\n",
       "3   2782432           71        414\n",
       "4   2782429          240        358"
      ]
     },
     "execution_count": 75,
     "metadata": {},
     "output_type": "execute_result"
    }
   ],
   "source": [
    "novo_df.head()"
   ]
  },
  {
   "cell_type": "code",
   "execution_count": 77,
   "id": "d2581488",
   "metadata": {},
   "outputs": [
    {
     "data": {
      "text/plain": [
       "<matplotlib.collections.PathCollection at 0x175e29acc40>"
      ]
     },
     "execution_count": 77,
     "metadata": {},
     "output_type": "execute_result"
    },
    {
     "data": {
      "image/png": "[encoded data removed]",
      "text/plain": [
       "<Figure size 640x480 with 1 Axes>"
      ]
     },
     "metadata": {},
     "output_type": "display_data"
    }
   ],
   "source": [
    "plt.scatter(novo_df['total_sales'], novo_df['price_var'])"
   ]
  },
  {
   "cell_type": "code",
   "execution_count": 62,
   "id": "921e8b7e",
   "metadata": {},
   "outputs": [
    {
     "data": {
      "text/html": [
       "<div>\n",
       "<style scoped>\n",
       "    .dataframe tbody tr th:only-of-type {\n",
       "        vertical-align: middle;\n",
       "    }\n",
       "\n",
       "    .dataframe tbody tr th {\n",
       "        vertical-align: top;\n",
       "    }\n",
       "\n",
       "    .dataframe thead th {\n",
       "        text-align: right;\n",
       "    }\n",
       "</style>\n",
       "<table border=\"1\" class=\"dataframe\">\n",
       "  <thead>\n",
       "    <tr style=\"text-align: right;\">\n",
       "      <th></th>\n",
       "      <th>price_var</th>\n",
       "      <th>total_sales</th>\n",
       "    </tr>\n",
       "  </thead>\n",
       "  <tbody>\n",
       "    <tr>\n",
       "      <th>2782430</th>\n",
       "      <td>0</td>\n",
       "      <td>1</td>\n",
       "    </tr>\n",
       "    <tr>\n",
       "      <th>2780997</th>\n",
       "      <td>0</td>\n",
       "      <td>1</td>\n",
       "    </tr>\n",
       "    <tr>\n",
       "      <th>2779137</th>\n",
       "      <td>0</td>\n",
       "      <td>1</td>\n",
       "    </tr>\n",
       "    <tr>\n",
       "      <th>2782432</th>\n",
       "      <td>0</td>\n",
       "      <td>1</td>\n",
       "    </tr>\n",
       "    <tr>\n",
       "      <th>2782429</th>\n",
       "      <td>0</td>\n",
       "      <td>1</td>\n",
       "    </tr>\n",
       "  </tbody>\n",
       "</table>\n",
       "</div>"
      ],
      "text/plain": [
       "         price_var  total_sales\n",
       "2782430          0            1\n",
       "2780997          0            1\n",
       "2779137          0            1\n",
       "2782432          0            1\n",
       "2782429          0            1"
      ]
     },
     "execution_count": 62,
     "metadata": {},
     "output_type": "execute_result"
    }
   ],
   "source": [
    "novo_df.head(5)"
   ]
  },
  {
   "cell_type": "code",
   "execution_count": 78,
   "id": "94d1262c",
   "metadata": {},
   "outputs": [
    {
     "data": {
      "text/plain": [
       "<matplotlib.collections.PathCollection at 0x175e2b6b790>"
      ]
     },
     "execution_count": 78,
     "metadata": {},
     "output_type": "execute_result"
    },
    {
     "data": {
      "image/png": "[encoded data removed]",
      "text/plain": [
       "<Figure size 640x480 with 1 Axes>"
      ]
     },
     "metadata": {},
     "output_type": "display_data"
    }
   ],
   "source": [
    "plt.scatter(novo_df['price_var'],novo_df['total_sales'])"
   ]
  },
  {
   "cell_type": "code",
   "execution_count": null,
   "id": "f37691f1",
   "metadata": {},
   "outputs": [],
   "source": []
  }
 ],
 "metadata": {
  "kernelspec": {
   "display_name": "Python 3 (ipykernel)",
   "language": "python",
   "name": "python3"
  },
  "language_info": {
   "codemirror_mode": {
    "name": "ipython",
    "version": 3
   },
   "file_extension": ".py",
   "mimetype": "text/x-python",
   "name": "python",
   "nbconvert_exporter": "python",
   "pygments_lexer": "ipython3",
   "version": "3.10.9"
  }
 },
 "nbformat": 4,
 "nbformat_minor": 5
}
