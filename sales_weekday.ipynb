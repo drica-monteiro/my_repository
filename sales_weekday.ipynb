{
 "cells": [
  {
   "cell_type": "code",
   "execution_count": 2,
   "id": "0ba71115",
   "metadata": {},
   "outputs": [],
   "source": [
    "import pandas as pd\n",
    "import numpy as np\n",
    "import datetime as dt\n",
    "import matplotlib.pyplot as plt\n",
    "import calendar\n",
    "\n",
    "pd.set_option('display.max_columns', None) #mostrar todas as colunas\n",
    "pd.set_option('display.max_rows', 50)  #mostrar no max 50 linhas\n",
    "pd.set_option('display.max_colwidth', None)  #mostrar a grossura máxima das colunas"
   ]
  },
  {
   "cell_type": "code",
   "execution_count": 3,
   "id": "04ceea6b",
   "metadata": {},
   "outputs": [],
   "source": [
    "df = pd.read_excel('fake_dataset.xlsx')\n",
    "df.to_csv('fake_dataset.csv')\n",
    "df = pd.read_csv(\"fake_dataset.csv\")\n",
    "df = df.drop(columns =['Unnamed: 0','Unnamed: 0.1']) #ele cria essas colunas"
   ]
  },
  {
   "cell_type": "code",
   "execution_count": 4,
   "id": "474db2e7",
   "metadata": {},
   "outputs": [
    {
     "data": {
      "text/plain": [
       "(700, 23)"
      ]
     },
     "execution_count": 4,
     "metadata": {},
     "output_type": "execute_result"
    }
   ],
   "source": [
    "df.shape"
   ]
  },
  {
   "cell_type": "code",
   "execution_count": 5,
   "id": "f857e0c1",
   "metadata": {},
   "outputs": [
    {
     "data": {
      "text/html": [
       "<div>\n",
       "<style scoped>\n",
       "    .dataframe tbody tr th:only-of-type {\n",
       "        vertical-align: middle;\n",
       "    }\n",
       "\n",
       "    .dataframe tbody tr th {\n",
       "        vertical-align: top;\n",
       "    }\n",
       "\n",
       "    .dataframe thead th {\n",
       "        text-align: right;\n",
       "    }\n",
       "</style>\n",
       "<table border=\"1\" class=\"dataframe\">\n",
       "  <thead>\n",
       "    <tr style=\"text-align: right;\">\n",
       "      <th></th>\n",
       "      <th>datebr</th>\n",
       "      <th>sku</th>\n",
       "      <th>offer_option_id</th>\n",
       "      <th>offer_option_title</th>\n",
       "      <th>offer_option_description</th>\n",
       "      <th>product_name</th>\n",
       "      <th>destination_type</th>\n",
       "      <th>multidestino</th>\n",
       "      <th>year</th>\n",
       "      <th>package_date_format</th>\n",
       "      <th>destination_city</th>\n",
       "      <th>destination_state</th>\n",
       "      <th>destination_country</th>\n",
       "      <th>AttributeList</th>\n",
       "      <th>clicks</th>\n",
       "      <th>checkout</th>\n",
       "      <th>fullprice</th>\n",
       "      <th>yield</th>\n",
       "      <th>discount</th>\n",
       "      <th>realprice</th>\n",
       "      <th>interest</th>\n",
       "      <th>totalprice</th>\n",
       "      <th>sales</th>\n",
       "    </tr>\n",
       "  </thead>\n",
       "  <tbody>\n",
       "    <tr>\n",
       "      <th>0</th>\n",
       "      <td>2022-08-01</td>\n",
       "      <td>LGPKG-1090219</td>\n",
       "      <td>2710823</td>\n",
       "      <td>Aéreo de São Paulo</td>\n",
       "      <td>Aéreo para Fortaleza | Quarto Duplo ou Triplo | 7 Diárias (3 diárias em Fortaleza + 4 diárias em Jericoacoara).</td>\n",
       "      <td>Pacote de Viagem - Fortaleza + Jericoacoara - 2022</td>\n",
       "      <td>NAC</td>\n",
       "      <td>False</td>\n",
       "      <td>2022.0</td>\n",
       "      <td>Data flexível</td>\n",
       "      <td>Jericoacoara</td>\n",
       "      <td>Ceará</td>\n",
       "      <td>Brasil</td>\n",
       "      <td>Hospedagem Econômica,Café da manhã,Passagem Aérea Econômica</td>\n",
       "      <td>675.0</td>\n",
       "      <td>117.0</td>\n",
       "      <td>3470</td>\n",
       "      <td>660</td>\n",
       "      <td>1239</td>\n",
       "      <td>2891</td>\n",
       "      <td>0</td>\n",
       "      <td>2891</td>\n",
       "      <td>1</td>\n",
       "    </tr>\n",
       "    <tr>\n",
       "      <th>1</th>\n",
       "      <td>2022-08-01</td>\n",
       "      <td>LGPKG-1095820</td>\n",
       "      <td>2724406</td>\n",
       "      <td>Aéreo de Rio de Janeiro - 3 diárias + Ingresso 1 dia</td>\n",
       "      <td>Aéreo para Florianópolis, Navegantes ou Joinville | 3 diárias em Balneário Camboriú em Quarto Duplo ou Triplo | Ingresso de 1 dia para o Parque Beto Carrero World.</td>\n",
       "      <td>Pacote de Viagem - Beto Carrero World - Segundo Semestre - 2023</td>\n",
       "      <td>NAC</td>\n",
       "      <td>False</td>\n",
       "      <td>2023.0</td>\n",
       "      <td>Data flexível</td>\n",
       "      <td>Balneário Camboriú</td>\n",
       "      <td>Santa Catarina</td>\n",
       "      <td>Brasil</td>\n",
       "      <td>Hospedagem Econômica,Café da manhã,Ingresso,Passagem Aérea Econômica</td>\n",
       "      <td>2010.0</td>\n",
       "      <td>443.0</td>\n",
       "      <td>624</td>\n",
       "      <td>125</td>\n",
       "      <td>0</td>\n",
       "      <td>749</td>\n",
       "      <td>0</td>\n",
       "      <td>749</td>\n",
       "      <td>1</td>\n",
       "    </tr>\n",
       "  </tbody>\n",
       "</table>\n",
       "</div>"
      ],
      "text/plain": [
       "       datebr            sku  offer_option_id  \\\n",
       "0  2022-08-01  LGPKG-1090219          2710823   \n",
       "1  2022-08-01  LGPKG-1095820          2724406   \n",
       "\n",
       "                                     offer_option_title  \\\n",
       "0                                    Aéreo de São Paulo   \n",
       "1  Aéreo de Rio de Janeiro - 3 diárias + Ingresso 1 dia   \n",
       "\n",
       "                                                                                                                                              offer_option_description  \\\n",
       "0                                                      Aéreo para Fortaleza | Quarto Duplo ou Triplo | 7 Diárias (3 diárias em Fortaleza + 4 diárias em Jericoacoara).   \n",
       "1  Aéreo para Florianópolis, Navegantes ou Joinville | 3 diárias em Balneário Camboriú em Quarto Duplo ou Triplo | Ingresso de 1 dia para o Parque Beto Carrero World.   \n",
       "\n",
       "                                                      product_name  \\\n",
       "0               Pacote de Viagem - Fortaleza + Jericoacoara - 2022   \n",
       "1  Pacote de Viagem - Beto Carrero World - Segundo Semestre - 2023   \n",
       "\n",
       "  destination_type  multidestino    year package_date_format  \\\n",
       "0              NAC         False  2022.0       Data flexível   \n",
       "1              NAC         False  2023.0       Data flexível   \n",
       "\n",
       "     destination_city destination_state destination_country  \\\n",
       "0        Jericoacoara             Ceará              Brasil   \n",
       "1  Balneário Camboriú    Santa Catarina              Brasil   \n",
       "\n",
       "                                                          AttributeList  \\\n",
       "0           Hospedagem Econômica,Café da manhã,Passagem Aérea Econômica   \n",
       "1  Hospedagem Econômica,Café da manhã,Ingresso,Passagem Aérea Econômica   \n",
       "\n",
       "   clicks  checkout  fullprice  yield  discount  realprice  interest  \\\n",
       "0   675.0     117.0       3470    660      1239       2891         0   \n",
       "1  2010.0     443.0        624    125         0        749         0   \n",
       "\n",
       "   totalprice  sales  \n",
       "0        2891      1  \n",
       "1         749      1  "
      ]
     },
     "execution_count": 5,
     "metadata": {},
     "output_type": "execute_result"
    }
   ],
   "source": [
    "df.head(2)"
   ]
  },
  {
   "cell_type": "code",
   "execution_count": 16,
   "id": "f1106933",
   "metadata": {},
   "outputs": [],
   "source": [
    "## I'm trying to answer the following question: how sales behave with day week? Which day sales the most?"
   ]
  },
  {
   "cell_type": "code",
   "execution_count": 34,
   "id": "fb45ed5c",
   "metadata": {},
   "outputs": [],
   "source": [
    "#Add column with the day of the week\n",
    "week_day = []\n",
    "for i in range (df.shape[0]): \n",
    "    date = pd.Timestamp(df.iloc[i,0])\n",
    "    week_day.append(date.day_name())\n",
    "df['Week day'] = week_day"
   ]
  },
  {
   "cell_type": "code",
   "execution_count": 21,
   "id": "ac7acd78",
   "metadata": {},
   "outputs": [
    {
     "data": {
      "text/plain": [
       "Monday     499\n",
       "Tuesday    201\n",
       "Name: Week day, dtype: int64"
      ]
     },
     "execution_count": 21,
     "metadata": {},
     "output_type": "execute_result"
    }
   ],
   "source": [
    "#No fake_dataset só tem segundas e tercas:\n",
    "df['Week day'].value_counts()"
   ]
  },
  {
   "cell_type": "code",
   "execution_count": 33,
   "id": "a027c13d",
   "metadata": {
    "scrolled": true
   },
   "outputs": [
    {
     "data": {
      "text/plain": [
       "<Axes: ylabel='sales'>"
      ]
     },
     "execution_count": 33,
     "metadata": {},
     "output_type": "execute_result"
    },
    {
     "data": {
      "image/png": "[encoded data removed]",
      "text/plain": [
       "<Figure size 500x500 with 1 Axes>"
      ]
     },
     "metadata": {},
     "output_type": "display_data"
    }
   ],
   "source": [
    "t = df.groupby(['Week day']).sum(['sales'])\n",
    "plot2 = t.plot.pie(y='sales', figsize=(5, 5), autopct='%1.1f%%', pctdistance=1.25)\n",
    "plot2"
   ]
  },
  {
   "cell_type": "code",
   "execution_count": 51,
   "id": "4c361f75",
   "metadata": {},
   "outputs": [],
   "source": [
    "## I'm trying to answer the following question: how sales behave with day of month? Which day sales the most?"
   ]
  },
  {
   "cell_type": "code",
   "execution_count": 48,
   "id": "ad55346a",
   "metadata": {},
   "outputs": [],
   "source": [
    "#Add column with days\n",
    "day = []\n",
    "for i in range (df.shape[0]): \n",
    "    date = pd.Timestamp(df.iloc[i,0])\n",
    "    day.append(date.to_pydatetime().day)\n",
    "df['day'] = day"
   ]
  },
  {
   "cell_type": "code",
   "execution_count": 50,
   "id": "c2b90255",
   "metadata": {},
   "outputs": [
    {
     "data": {
      "text/plain": [
       "<Axes: ylabel='sales'>"
      ]
     },
     "execution_count": 50,
     "metadata": {},
     "output_type": "execute_result"
    },
    {
     "data": {
      "image/png": "[encoded data removed]",
      "text/plain": [
       "<Figure size 500x500 with 1 Axes>"
      ]
     },
     "metadata": {},
     "output_type": "display_data"
    }
   ],
   "source": [
    "u = df.groupby(['day']).sum(['sales'])\n",
    "plot1 = u.plot.pie(y='sales', figsize=(5, 5), autopct='%1.1f%%', pctdistance=1.25)\n",
    "plot1"
   ]
  },
  {
   "cell_type": "code",
   "execution_count": 74,
   "id": "31328e46",
   "metadata": {},
   "outputs": [],
   "source": [
    "u = dict(df['destination_type'].value_counts())"
   ]
  },
  {
   "cell_type": "code",
   "execution_count": 75,
   "id": "a72e252b",
   "metadata": {
    "scrolled": true
   },
   "outputs": [
    {
     "name": "stderr",
     "output_type": "stream",
     "text": [
      "C:\\Users\\user\\AppData\\Local\\Temp\\ipykernel_13560\\58718615.py:2: FutureWarning: The default value of numeric_only in DataFrameGroupBy.sum is deprecated. In a future version, numeric_only will default to False. Either specify numeric_only or select only columns which should be valid for the function.\n",
      "  i = dict(df.groupby('destination_type').sum()['sales'])\n"
     ]
    }
   ],
   "source": [
    "#Group by destination_type and sum the column sales\n",
    "i = dict(df.groupby('destination_type').sum()['sales'])"
   ]
  },
  {
   "cell_type": "code",
   "execution_count": 76,
   "id": "e7175dfc",
   "metadata": {},
   "outputs": [
    {
     "data": {
      "text/plain": [
       "{'INT': 790, 'NAC': 1671}"
      ]
     },
     "execution_count": 76,
     "metadata": {},
     "output_type": "execute_result"
    }
   ],
   "source": [
    "i"
   ]
  },
  {
   "cell_type": "code",
   "execution_count": 78,
   "id": "5cedf31c",
   "metadata": {},
   "outputs": [],
   "source": [
    "total_sales = df['sales'].sum()"
   ]
  },
  {
   "cell_type": "code",
   "execution_count": 82,
   "id": "953b38c7",
   "metadata": {},
   "outputs": [],
   "source": [
    "prop_sales_nac = list(i.values())[1]/total_sales\n",
    "prop_sales_int = list(i.values())[0]/total_sales"
   ]
  },
  {
   "cell_type": "code",
   "execution_count": 80,
   "id": "17835f83",
   "metadata": {},
   "outputs": [
    {
     "data": {
      "text/plain": [
       "dict_values([790, 1671])"
      ]
     },
     "execution_count": 80,
     "metadata": {},
     "output_type": "execute_result"
    }
   ],
   "source": [
    "i.values()"
   ]
  },
  {
   "cell_type": "code",
   "execution_count": 83,
   "id": "3426bf70",
   "metadata": {},
   "outputs": [
    {
     "data": {
      "text/plain": [
       "0.321007720438846"
      ]
     },
     "execution_count": 83,
     "metadata": {},
     "output_type": "execute_result"
    }
   ],
   "source": [
    "prop_sales_int"
   ]
  },
  {
   "cell_type": "code",
   "execution_count": 84,
   "id": "ade4fdde",
   "metadata": {},
   "outputs": [
    {
     "data": {
      "text/plain": [
       "0.678992279561154"
      ]
     },
     "execution_count": 84,
     "metadata": {},
     "output_type": "execute_result"
    }
   ],
   "source": [
    "prop_sales_nac"
   ]
  },
  {
   "cell_type": "code",
   "execution_count": 96,
   "id": "729331f4",
   "metadata": {},
   "outputs": [
    {
     "data": {
      "image/png": "[encoded data removed]",
      "text/plain": [
       "<Figure size 640x480 with 1 Axes>"
      ]
     },
     "metadata": {},
     "output_type": "display_data"
    }
   ],
   "source": [
    "prop_sales = [prop_sales_nac, prop_sales_int]\n",
    "labels = [\"NAC\", \"INT\"]\n",
    "plt.pie(prop_sales, autopct='%1.1f%%', labels = labels)\n",
    "plt.legend()\n",
    "plt.show()"
   ]
  },
  {
   "cell_type": "code",
   "execution_count": 109,
   "id": "ed9fd96e",
   "metadata": {},
   "outputs": [
    {
     "data": {
      "image/png": "[encoded data removed]",
      "text/plain": [
       "<Figure size 640x480 with 1 Axes>"
      ]
     },
     "metadata": {},
     "output_type": "display_data"
    }
   ],
   "source": [
    "plt.hist(df['sales'], bins = 10)\n",
    "plt.show()"
   ]
  },
  {
   "cell_type": "code",
   "execution_count": 111,
   "id": "7ea5ab87",
   "metadata": {},
   "outputs": [],
   "source": [
    "#Reding the rows which name contains mega\n",
    "df2 = df.loc[df['product_name'].str.contains('All')]"
   ]
  },
  {
   "cell_type": "code",
   "execution_count": 112,
   "id": "54cff4fe",
   "metadata": {},
   "outputs": [
    {
     "data": {
      "text/plain": [
       "(47, 26)"
      ]
     },
     "execution_count": 112,
     "metadata": {},
     "output_type": "execute_result"
    }
   ],
   "source": [
    "df2.shape"
   ]
  },
  {
   "cell_type": "code",
   "execution_count": 114,
   "id": "2e768266",
   "metadata": {},
   "outputs": [
    {
     "data": {
      "text/plain": [
       "0.03941487200325071"
      ]
     },
     "execution_count": 114,
     "metadata": {},
     "output_type": "execute_result"
    }
   ],
   "source": [
    "## Em torno de 3% das vendas é de pacotes all inclusive:\n",
    "df2['sales'].sum()/total_sales"
   ]
  },
  {
   "cell_type": "code",
   "execution_count": 115,
   "id": "92e6de4f",
   "metadata": {},
   "outputs": [],
   "source": [
    "## O QUE FALTA: ENTENDER A DISTRIBUIÇÃO DISSO!"
   ]
  },
  {
   "cell_type": "code",
   "execution_count": null,
   "id": "31198376",
   "metadata": {},
   "outputs": [],
   "source": [
    "## I'm trying to understand: given an id, whats the range of realprice?"
   ]
  },
  {
   "cell_type": "code",
   "execution_count": 14,
   "id": "0889a874",
   "metadata": {},
   "outputs": [],
   "source": [
    "df3 = df[df['offer_option_id']==2782430]"
   ]
  },
  {
   "cell_type": "code",
   "execution_count": 39,
   "id": "7a716ba9",
   "metadata": {},
   "outputs": [
    {
     "data": {
      "text/plain": [
       "(13, 23)"
      ]
     },
     "execution_count": 39,
     "metadata": {},
     "output_type": "execute_result"
    }
   ],
   "source": [
    "df3.shape"
   ]
  },
  {
   "cell_type": "code",
   "execution_count": 15,
   "id": "59972dff",
   "metadata": {},
   "outputs": [
    {
     "data": {
      "text/html": [
       "<div>\n",
       "<style scoped>\n",
       "    .dataframe tbody tr th:only-of-type {\n",
       "        vertical-align: middle;\n",
       "    }\n",
       "\n",
       "    .dataframe tbody tr th {\n",
       "        vertical-align: top;\n",
       "    }\n",
       "\n",
       "    .dataframe thead th {\n",
       "        text-align: right;\n",
       "    }\n",
       "</style>\n",
       "<table border=\"1\" class=\"dataframe\">\n",
       "  <thead>\n",
       "    <tr style=\"text-align: right;\">\n",
       "      <th></th>\n",
       "      <th>datebr</th>\n",
       "      <th>sku</th>\n",
       "      <th>offer_option_id</th>\n",
       "      <th>offer_option_title</th>\n",
       "      <th>offer_option_description</th>\n",
       "      <th>product_name</th>\n",
       "      <th>destination_type</th>\n",
       "      <th>multidestino</th>\n",
       "      <th>year</th>\n",
       "      <th>package_date_format</th>\n",
       "      <th>destination_city</th>\n",
       "      <th>destination_state</th>\n",
       "      <th>destination_country</th>\n",
       "      <th>AttributeList</th>\n",
       "      <th>clicks</th>\n",
       "      <th>checkout</th>\n",
       "      <th>fullprice</th>\n",
       "      <th>yield</th>\n",
       "      <th>discount</th>\n",
       "      <th>realprice</th>\n",
       "      <th>interest</th>\n",
       "      <th>totalprice</th>\n",
       "      <th>sales</th>\n",
       "    </tr>\n",
       "  </thead>\n",
       "  <tbody>\n",
       "    <tr>\n",
       "      <th>167</th>\n",
       "      <td>2022-08-01</td>\n",
       "      <td>LGPKG-1141722</td>\n",
       "      <td>2782430</td>\n",
       "      <td>Aéreo de São Paulo - 6 diárias</td>\n",
       "      <td>Aéreo para Recife | Quarto Duplo ou Triplo | 6 Diárias (3 diárias em Recife + 3 diárias em Porto de Galinhas)</td>\n",
       "      <td>Pacote de Viagem Recife + Porto de Galinhas - 2023</td>\n",
       "      <td>NAC</td>\n",
       "      <td>False</td>\n",
       "      <td>2023.0</td>\n",
       "      <td>Data flexível</td>\n",
       "      <td>Recife</td>\n",
       "      <td>Pernambuco</td>\n",
       "      <td>Brasil</td>\n",
       "      <td>Hospedagem Econômica,Café da manhã,Passagem Aérea Econômica</td>\n",
       "      <td>14741.0</td>\n",
       "      <td>4610.0</td>\n",
       "      <td>699</td>\n",
       "      <td>0</td>\n",
       "      <td>140</td>\n",
       "      <td>559</td>\n",
       "      <td>0</td>\n",
       "      <td>559</td>\n",
       "      <td>140</td>\n",
       "    </tr>\n",
       "    <tr>\n",
       "      <th>168</th>\n",
       "      <td>2022-08-01</td>\n",
       "      <td>LGPKG-1141722</td>\n",
       "      <td>2782430</td>\n",
       "      <td>Aéreo de São Paulo - 6 diárias</td>\n",
       "      <td>Aéreo para Recife | Quarto Duplo ou Triplo | 6 Diárias (3 diárias em Recife + 3 diárias em Porto de Galinhas)</td>\n",
       "      <td>Pacote de Viagem Recife + Porto de Galinhas - 2023</td>\n",
       "      <td>NAC</td>\n",
       "      <td>False</td>\n",
       "      <td>2023.0</td>\n",
       "      <td>Data flexível</td>\n",
       "      <td>Recife</td>\n",
       "      <td>Pernambuco</td>\n",
       "      <td>Brasil</td>\n",
       "      <td>Hospedagem Econômica,Café da manhã,Passagem Aérea Econômica</td>\n",
       "      <td>14741.0</td>\n",
       "      <td>4610.0</td>\n",
       "      <td>699</td>\n",
       "      <td>0</td>\n",
       "      <td>140</td>\n",
       "      <td>559</td>\n",
       "      <td>42</td>\n",
       "      <td>601</td>\n",
       "      <td>1</td>\n",
       "    </tr>\n",
       "    <tr>\n",
       "      <th>169</th>\n",
       "      <td>2022-08-01</td>\n",
       "      <td>LGPKG-1141722</td>\n",
       "      <td>2782430</td>\n",
       "      <td>Aéreo de São Paulo - 6 diárias</td>\n",
       "      <td>Aéreo para Recife | Quarto Duplo ou Triplo | 6 Diárias (3 diárias em Recife + 3 diárias em Porto de Galinhas)</td>\n",
       "      <td>Pacote de Viagem Recife + Porto de Galinhas - 2023</td>\n",
       "      <td>NAC</td>\n",
       "      <td>False</td>\n",
       "      <td>2023.0</td>\n",
       "      <td>Data flexível</td>\n",
       "      <td>Recife</td>\n",
       "      <td>Pernambuco</td>\n",
       "      <td>Brasil</td>\n",
       "      <td>Hospedagem Econômica,Café da manhã,Passagem Aérea Econômica</td>\n",
       "      <td>14741.0</td>\n",
       "      <td>4610.0</td>\n",
       "      <td>699</td>\n",
       "      <td>0</td>\n",
       "      <td>140</td>\n",
       "      <td>559</td>\n",
       "      <td>53</td>\n",
       "      <td>612</td>\n",
       "      <td>8</td>\n",
       "    </tr>\n",
       "    <tr>\n",
       "      <th>171</th>\n",
       "      <td>2022-08-01</td>\n",
       "      <td>LGPKG-1141722</td>\n",
       "      <td>2782430</td>\n",
       "      <td>Aéreo de São Paulo - 6 diárias</td>\n",
       "      <td>Aéreo para Recife | Quarto Duplo ou Triplo | 6 Diárias (3 diárias em Recife + 3 diárias em Porto de Galinhas)</td>\n",
       "      <td>Pacote de Viagem Recife + Porto de Galinhas - 2023</td>\n",
       "      <td>NAC</td>\n",
       "      <td>False</td>\n",
       "      <td>2023.0</td>\n",
       "      <td>Data flexível</td>\n",
       "      <td>Recife</td>\n",
       "      <td>Pernambuco</td>\n",
       "      <td>Brasil</td>\n",
       "      <td>Hospedagem Econômica,Café da manhã,Passagem Aérea Econômica</td>\n",
       "      <td>14741.0</td>\n",
       "      <td>4610.0</td>\n",
       "      <td>699</td>\n",
       "      <td>0</td>\n",
       "      <td>140</td>\n",
       "      <td>559</td>\n",
       "      <td>64</td>\n",
       "      <td>623</td>\n",
       "      <td>9</td>\n",
       "    </tr>\n",
       "    <tr>\n",
       "      <th>173</th>\n",
       "      <td>2022-08-01</td>\n",
       "      <td>LGPKG-1141722</td>\n",
       "      <td>2782430</td>\n",
       "      <td>Aéreo de São Paulo - 6 diárias</td>\n",
       "      <td>Aéreo para Recife | Quarto Duplo ou Triplo | 6 Diárias (3 diárias em Recife + 3 diárias em Porto de Galinhas)</td>\n",
       "      <td>Pacote de Viagem Recife + Porto de Galinhas - 2023</td>\n",
       "      <td>NAC</td>\n",
       "      <td>False</td>\n",
       "      <td>2023.0</td>\n",
       "      <td>Data flexível</td>\n",
       "      <td>Recife</td>\n",
       "      <td>Pernambuco</td>\n",
       "      <td>Brasil</td>\n",
       "      <td>Hospedagem Econômica,Café da manhã,Passagem Aérea Econômica</td>\n",
       "      <td>14741.0</td>\n",
       "      <td>4610.0</td>\n",
       "      <td>699</td>\n",
       "      <td>0</td>\n",
       "      <td>140</td>\n",
       "      <td>559</td>\n",
       "      <td>224</td>\n",
       "      <td>783</td>\n",
       "      <td>1</td>\n",
       "    </tr>\n",
       "  </tbody>\n",
       "</table>\n",
       "</div>"
      ],
      "text/plain": [
       "         datebr            sku  offer_option_id  \\\n",
       "167  2022-08-01  LGPKG-1141722          2782430   \n",
       "168  2022-08-01  LGPKG-1141722          2782430   \n",
       "169  2022-08-01  LGPKG-1141722          2782430   \n",
       "171  2022-08-01  LGPKG-1141722          2782430   \n",
       "173  2022-08-01  LGPKG-1141722          2782430   \n",
       "\n",
       "                 offer_option_title  \\\n",
       "167  Aéreo de São Paulo - 6 diárias   \n",
       "168  Aéreo de São Paulo - 6 diárias   \n",
       "169  Aéreo de São Paulo - 6 diárias   \n",
       "171  Aéreo de São Paulo - 6 diárias   \n",
       "173  Aéreo de São Paulo - 6 diárias   \n",
       "\n",
       "                                                                                          offer_option_description  \\\n",
       "167  Aéreo para Recife | Quarto Duplo ou Triplo | 6 Diárias (3 diárias em Recife + 3 diárias em Porto de Galinhas)   \n",
       "168  Aéreo para Recife | Quarto Duplo ou Triplo | 6 Diárias (3 diárias em Recife + 3 diárias em Porto de Galinhas)   \n",
       "169  Aéreo para Recife | Quarto Duplo ou Triplo | 6 Diárias (3 diárias em Recife + 3 diárias em Porto de Galinhas)   \n",
       "171  Aéreo para Recife | Quarto Duplo ou Triplo | 6 Diárias (3 diárias em Recife + 3 diárias em Porto de Galinhas)   \n",
       "173  Aéreo para Recife | Quarto Duplo ou Triplo | 6 Diárias (3 diárias em Recife + 3 diárias em Porto de Galinhas)   \n",
       "\n",
       "                                           product_name destination_type  \\\n",
       "167  Pacote de Viagem Recife + Porto de Galinhas - 2023              NAC   \n",
       "168  Pacote de Viagem Recife + Porto de Galinhas - 2023              NAC   \n",
       "169  Pacote de Viagem Recife + Porto de Galinhas - 2023              NAC   \n",
       "171  Pacote de Viagem Recife + Porto de Galinhas - 2023              NAC   \n",
       "173  Pacote de Viagem Recife + Porto de Galinhas - 2023              NAC   \n",
       "\n",
       "     multidestino    year package_date_format destination_city  \\\n",
       "167         False  2023.0       Data flexível           Recife   \n",
       "168         False  2023.0       Data flexível           Recife   \n",
       "169         False  2023.0       Data flexível           Recife   \n",
       "171         False  2023.0       Data flexível           Recife   \n",
       "173         False  2023.0       Data flexível           Recife   \n",
       "\n",
       "    destination_state destination_country  \\\n",
       "167        Pernambuco              Brasil   \n",
       "168        Pernambuco              Brasil   \n",
       "169        Pernambuco              Brasil   \n",
       "171        Pernambuco              Brasil   \n",
       "173        Pernambuco              Brasil   \n",
       "\n",
       "                                                   AttributeList   clicks  \\\n",
       "167  Hospedagem Econômica,Café da manhã,Passagem Aérea Econômica  14741.0   \n",
       "168  Hospedagem Econômica,Café da manhã,Passagem Aérea Econômica  14741.0   \n",
       "169  Hospedagem Econômica,Café da manhã,Passagem Aérea Econômica  14741.0   \n",
       "171  Hospedagem Econômica,Café da manhã,Passagem Aérea Econômica  14741.0   \n",
       "173  Hospedagem Econômica,Café da manhã,Passagem Aérea Econômica  14741.0   \n",
       "\n",
       "     checkout  fullprice  yield  discount  realprice  interest  totalprice  \\\n",
       "167    4610.0        699      0       140        559         0         559   \n",
       "168    4610.0        699      0       140        559        42         601   \n",
       "169    4610.0        699      0       140        559        53         612   \n",
       "171    4610.0        699      0       140        559        64         623   \n",
       "173    4610.0        699      0       140        559       224         783   \n",
       "\n",
       "     sales  \n",
       "167    140  \n",
       "168      1  \n",
       "169      8  \n",
       "171      9  \n",
       "173      1  "
      ]
     },
     "execution_count": 15,
     "metadata": {},
     "output_type": "execute_result"
    }
   ],
   "source": [
    "df3.head(5)"
   ]
  },
  {
   "cell_type": "code",
   "execution_count": 31,
   "id": "2dd8e8a9",
   "metadata": {},
   "outputs": [],
   "source": [
    "o = dict(df['offer_option_id'].value_counts())"
   ]
  },
  {
   "cell_type": "code",
   "execution_count": 37,
   "id": "86228824",
   "metadata": {},
   "outputs": [
    {
     "data": {
      "text/plain": [
       "326"
      ]
     },
     "execution_count": 37,
     "metadata": {},
     "output_type": "execute_result"
    }
   ],
   "source": [
    "len(o)"
   ]
  },
  {
   "cell_type": "code",
   "execution_count": 19,
   "id": "08acbb5e",
   "metadata": {},
   "outputs": [],
   "source": [
    "price_var = df3['totalprice'].max() - df3['totalprice'].min()"
   ]
  },
  {
   "cell_type": "code",
   "execution_count": 21,
   "id": "7104370f",
   "metadata": {},
   "outputs": [],
   "source": [
    "total_sales = df3['sales'].sum()"
   ]
  },
  {
   "cell_type": "code",
   "execution_count": 63,
   "id": "d083f792",
   "metadata": {},
   "outputs": [
    {
     "data": {
      "text/plain": [
       "[2782430,\n",
       " 2780997,\n",
       " 2779137,\n",
       " 2782432,\n",
       " 2782429,\n",
       " 2780573,\n",
       " 2777664,\n",
       " 2777019,\n",
       " 2724406,\n",
       " 2777663,\n",
       " 3042323,\n",
       " 2781871,\n",
       " 2898800,\n",
       " 2777948,\n",
       " 2782617,\n",
       " 2777020,\n",
       " 2785538,\n",
       " 3034930,\n",
       " 2780996,\n",
       " 2724407,\n",
       " 2780572,\n",
       " 2779874,\n",
       " 2777665,\n",
       " 2779873,\n",
       " 2780197,\n",
       " 2989050,\n",
       " 2782618,\n",
       " 3030560,\n",
       " 2782433,\n",
       " 2781870,\n",
       " 3030564,\n",
       " 2779861,\n",
       " 2724409,\n",
       " 2782944,\n",
       " 2782943,\n",
       " 2779315,\n",
       " 2773088,\n",
       " 2776312,\n",
       " 2989049,\n",
       " 3035914,\n",
       " 2769024,\n",
       " 2777018,\n",
       " 3003947,\n",
       " 3035863,\n",
       " 2776984,\n",
       " 3035644,\n",
       " 3034931,\n",
       " 2898801,\n",
       " 2776691,\n",
       " 3034927,\n",
       " 2772076,\n",
       " 3035645,\n",
       " 3003910,\n",
       " 2782675,\n",
       " 2782582,\n",
       " 2989053,\n",
       " 2989041,\n",
       " 2724408,\n",
       " 2989054,\n",
       " 2780308,\n",
       " 2780309,\n",
       " 2989045,\n",
       " 2989046,\n",
       " 2779316,\n",
       " 2777947,\n",
       " 2777668,\n",
       " 2776983,\n",
       " 3033392,\n",
       " 2779136,\n",
       " 2777021,\n",
       " 3034932,\n",
       " 3032675,\n",
       " 3031382,\n",
       " 2776185,\n",
       " 3030565,\n",
       " 2777666,\n",
       " 2780476,\n",
       " 2777667,\n",
       " 2785537,\n",
       " 2782431,\n",
       " 3042324,\n",
       " 2778975,\n",
       " 2778976,\n",
       " 2776186,\n",
       " 2785783,\n",
       " 2786346,\n",
       " 2786345,\n",
       " 3035894,\n",
       " 2786343,\n",
       " 2786550,\n",
       " 2786551,\n",
       " 2897079,\n",
       " 3043794,\n",
       " 3035991,\n",
       " 3035992,\n",
       " 3035981,\n",
       " 3043793,\n",
       " 3032847,\n",
       " 3031530,\n",
       " 3031383,\n",
       " 3031120,\n",
       " 3031123,\n",
       " 3033393,\n",
       " 3030052,\n",
       " 3030404,\n",
       " 3026347,\n",
       " 3022749,\n",
       " 3034926,\n",
       " 3012175,\n",
       " 3012176,\n",
       " 3034929,\n",
       " 3011369,\n",
       " 3031516,\n",
       " 3011370,\n",
       " 3003950,\n",
       " 3003949,\n",
       " 3003946,\n",
       " 3003948,\n",
       " 2785779,\n",
       " 3003906,\n",
       " 3035864,\n",
       " 2989047,\n",
       " 2989051,\n",
       " 3031515,\n",
       " 2988271,\n",
       " 3032674,\n",
       " 2778360,\n",
       " 2776726,\n",
       " 2780998,\n",
       " 2776419,\n",
       " 2776296,\n",
       " 2780439,\n",
       " 2780440,\n",
       " 2776985,\n",
       " 2775247,\n",
       " 2780326,\n",
       " 2773939,\n",
       " 2773938,\n",
       " 2782863,\n",
       " 2780196,\n",
       " 2782588,\n",
       " 2773087,\n",
       " 2778359,\n",
       " 2783709,\n",
       " 2778557,\n",
       " 2778974,\n",
       " 2785772,\n",
       " 2784888,\n",
       " 2778558,\n",
       " 2776187,\n",
       " 2779314,\n",
       " 2779860,\n",
       " 2772746,\n",
       " 2779875,\n",
       " 2778559,\n",
       " 2780682,\n",
       " 3035005,\n",
       " 2778977,\n",
       " 2780295,\n",
       " 2779872,\n",
       " 2779689,\n",
       " 2709947,\n",
       " 2781873,\n",
       " 2781881,\n",
       " 3032678,\n",
       " 3032673,\n",
       " 3032848,\n",
       " 2783453,\n",
       " 2782950,\n",
       " 2782946,\n",
       " 2782947,\n",
       " 2782871,\n",
       " 2782870,\n",
       " 2782674,\n",
       " 3032863,\n",
       " 3032896,\n",
       " 2782616,\n",
       " 3033385,\n",
       " 3033394,\n",
       " 2782587,\n",
       " 3033389,\n",
       " 3035201,\n",
       " 3033782,\n",
       " 2782148,\n",
       " 2778356,\n",
       " 2778499,\n",
       " 2768630,\n",
       " 3035923,\n",
       " 2773712,\n",
       " 2773706,\n",
       " 2773092,\n",
       " 3035987,\n",
       " 3035990,\n",
       " 2772080,\n",
       " 2768434,\n",
       " 3035915,\n",
       " 2730763,\n",
       " 3036315,\n",
       " 3040108,\n",
       " 2728052,\n",
       " 2723861,\n",
       " 2723136,\n",
       " 2708123,\n",
       " 3035916,\n",
       " 3035890,\n",
       " 3035623,\n",
       " 3035862,\n",
       " 2778496,\n",
       " 2709210,\n",
       " 2777133,\n",
       " 3035643,\n",
       " 2776694,\n",
       " 2776311,\n",
       " 3035860,\n",
       " 2775422,\n",
       " 3035899,\n",
       " 2775246,\n",
       " 2773941,\n",
       " 3035865,\n",
       " 3035867,\n",
       " 3035895,\n",
       " 3035896,\n",
       " 2773713,\n",
       " 2773089,\n",
       " 2710823,\n",
       " 3032670,\n",
       " 2782942,\n",
       " 2779876,\n",
       " 2779881,\n",
       " 2780331,\n",
       " 2780442,\n",
       " 2781000,\n",
       " 2782434,\n",
       " 2782579,\n",
       " 2782577,\n",
       " 2782612,\n",
       " 2782945,\n",
       " 2782951,\n",
       " 2785785,\n",
       " 2782953,\n",
       " 2782940,\n",
       " 2783448,\n",
       " 2783447,\n",
       " 2783446,\n",
       " 2783710,\n",
       " 2784850,\n",
       " 2785780,\n",
       " 2785782,\n",
       " 2785778,\n",
       " 2779690,\n",
       " 2779144,\n",
       " 2779145,\n",
       " 2779138,\n",
       " 2730767,\n",
       " 2730985,\n",
       " 2768898,\n",
       " 2768900,\n",
       " 2768901,\n",
       " 2769023,\n",
       " 2769026,\n",
       " 2772749,\n",
       " 2773090,\n",
       " 2773091,\n",
       " 2775414,\n",
       " 2775847,\n",
       " 2776690,\n",
       " 2776693,\n",
       " 2776727,\n",
       " 2776988,\n",
       " 2776987,\n",
       " 2777134,\n",
       " 2777669,\n",
       " 2777857,\n",
       " 2778366,\n",
       " 2785781,\n",
       " 2785777,\n",
       " 3032496,\n",
       " 3018596,\n",
       " 3003911,\n",
       " 3003912,\n",
       " 3003944,\n",
       " 3003943,\n",
       " 3011367,\n",
       " 3011908,\n",
       " 3012178,\n",
       " 3012202,\n",
       " 3015804,\n",
       " 3018595,\n",
       " 3029072,\n",
       " 2786348,\n",
       " 3030056,\n",
       " 3030072,\n",
       " 3030080,\n",
       " 3030083,\n",
       " 3030566,\n",
       " 3030561,\n",
       " 3031122,\n",
       " 3031531,\n",
       " 3032501,\n",
       " 3032497,\n",
       " 2989043,\n",
       " 2989055,\n",
       " 2989042,\n",
       " 2901832,\n",
       " 2786347,\n",
       " 2786553,\n",
       " 2787245,\n",
       " 2787252,\n",
       " 2787247,\n",
       " 2787248,\n",
       " 2787250,\n",
       " 2787242,\n",
       " 2895990,\n",
       " 2895991,\n",
       " 2896074,\n",
       " 2896080,\n",
       " 2896090,\n",
       " 2896145,\n",
       " 2896157,\n",
       " 2896139,\n",
       " 2896482,\n",
       " 2897080,\n",
       " 2897082,\n",
       " 2898802,\n",
       " 2901061,\n",
       " 2783650]"
      ]
     },
     "execution_count": 63,
     "metadata": {},
     "output_type": "execute_result"
    }
   ],
   "source": [
    "ids = list(o.keys())\n",
    "ids"
   ]
  },
  {
   "cell_type": "code",
   "execution_count": 67,
   "id": "cff77555",
   "metadata": {},
   "outputs": [],
   "source": [
    "price_var = []\n",
    "total_sales = []\n",
    "for i in ids:\n",
    "    df4 = df[df['offer_option_id'] == i]\n",
    "    price_var4 = df4['totalprice'].max() - df4['totalprice'].min()\n",
    "    total_sales4 = df4['sales'].sum()\n",
    "    price_var.append(price_var4)\n",
    "    total_sales.append(total_sales4)"
   ]
  },
  {
   "cell_type": "code",
   "execution_count": 74,
   "id": "a57856d6",
   "metadata": {},
   "outputs": [],
   "source": [
    "novo_df = pd.DataFrame({'offer_id': ids, 'total_sales' : total_sales, 'price_var' : price_var})"
   ]
  },
  {
   "cell_type": "code",
   "execution_count": 75,
   "id": "1e8335e7",
   "metadata": {},
   "outputs": [
    {
     "data": {
      "text/html": [
       "<div>\n",
       "<style scoped>\n",
       "    .dataframe tbody tr th:only-of-type {\n",
       "        vertical-align: middle;\n",
       "    }\n",
       "\n",
       "    .dataframe tbody tr th {\n",
       "        vertical-align: top;\n",
       "    }\n",
       "\n",
       "    .dataframe thead th {\n",
       "        text-align: right;\n",
       "    }\n",
       "</style>\n",
       "<table border=\"1\" class=\"dataframe\">\n",
       "  <thead>\n",
       "    <tr style=\"text-align: right;\">\n",
       "      <th></th>\n",
       "      <th>offer_id</th>\n",
       "      <th>total_sales</th>\n",
       "      <th>price_var</th>\n",
       "    </tr>\n",
       "  </thead>\n",
       "  <tbody>\n",
       "    <tr>\n",
       "      <th>0</th>\n",
       "      <td>2782430</td>\n",
       "      <td>286</td>\n",
       "      <td>358</td>\n",
       "    </tr>\n",
       "    <tr>\n",
       "      <th>1</th>\n",
       "      <td>2780997</td>\n",
       "      <td>46</td>\n",
       "      <td>700</td>\n",
       "    </tr>\n",
       "    <tr>\n",
       "      <th>2</th>\n",
       "      <td>2779137</td>\n",
       "      <td>16</td>\n",
       "      <td>515</td>\n",
       "    </tr>\n",
       "    <tr>\n",
       "      <th>3</th>\n",
       "      <td>2782432</td>\n",
       "      <td>71</td>\n",
       "      <td>414</td>\n",
       "    </tr>\n",
       "    <tr>\n",
       "      <th>4</th>\n",
       "      <td>2782429</td>\n",
       "      <td>240</td>\n",
       "      <td>358</td>\n",
       "    </tr>\n",
       "  </tbody>\n",
       "</table>\n",
       "</div>"
      ],
      "text/plain": [
       "   offer_id  total_sales  price_var\n",
       "0   2782430          286        358\n",
       "1   2780997           46        700\n",
       "2   2779137           16        515\n",
       "3   2782432           71        414\n",
       "4   2782429          240        358"
      ]
     },
     "execution_count": 75,
     "metadata": {},
     "output_type": "execute_result"
    }
   ],
   "source": [
    "novo_df.head()"
   ]
  },
  {
   "cell_type": "code",
   "execution_count": 77,
   "id": "d2581488",
   "metadata": {},
   "outputs": [
    {
     "data": {
      "text/plain": [
       "<matplotlib.collections.PathCollection at 0x175e29acc40>"
      ]
     },
     "execution_count": 77,
     "metadata": {},
     "output_type": "execute_result"
    },
    {
     "data": {
      "image/png": "[encoded data removed]",
      "text/plain": [
       "<Figure size 640x480 with 1 Axes>"
      ]
     },
     "metadata": {},
     "output_type": "display_data"
    }
   ],
   "source": [
    "plt.scatter(novo_df['total_sales'], novo_df['price_var'])"
   ]
  },
  {
   "cell_type": "code",
   "execution_count": 62,
   "id": "921e8b7e",
   "metadata": {},
   "outputs": [
    {
     "data": {
      "text/html": [
       "<div>\n",
       "<style scoped>\n",
       "    .dataframe tbody tr th:only-of-type {\n",
       "        vertical-align: middle;\n",
       "    }\n",
       "\n",
       "    .dataframe tbody tr th {\n",
       "        vertical-align: top;\n",
       "    }\n",
       "\n",
       "    .dataframe thead th {\n",
       "        text-align: right;\n",
       "    }\n",
       "</style>\n",
       "<table border=\"1\" class=\"dataframe\">\n",
       "  <thead>\n",
       "    <tr style=\"text-align: right;\">\n",
       "      <th></th>\n",
       "      <th>price_var</th>\n",
       "      <th>total_sales</th>\n",
       "    </tr>\n",
       "  </thead>\n",
       "  <tbody>\n",
       "    <tr>\n",
       "      <th>2782430</th>\n",
       "      <td>0</td>\n",
       "      <td>1</td>\n",
       "    </tr>\n",
       "    <tr>\n",
       "      <th>2780997</th>\n",
       "      <td>0</td>\n",
       "      <td>1</td>\n",
       "    </tr>\n",
       "    <tr>\n",
       "      <th>2779137</th>\n",
       "      <td>0</td>\n",
       "      <td>1</td>\n",
       "    </tr>\n",
       "    <tr>\n",
       "      <th>2782432</th>\n",
       "      <td>0</td>\n",
       "      <td>1</td>\n",
       "    </tr>\n",
       "    <tr>\n",
       "      <th>2782429</th>\n",
       "      <td>0</td>\n",
       "      <td>1</td>\n",
       "    </tr>\n",
       "  </tbody>\n",
       "</table>\n",
       "</div>"
      ],
      "text/plain": [
       "         price_var  total_sales\n",
       "2782430          0            1\n",
       "2780997          0            1\n",
       "2779137          0            1\n",
       "2782432          0            1\n",
       "2782429          0            1"
      ]
     },
     "execution_count": 62,
     "metadata": {},
     "output_type": "execute_result"
    }
   ],
   "source": [
    "novo_df.head(5)"
   ]
  },
  {
   "cell_type": "code",
   "execution_count": 78,
   "id": "94d1262c",
   "metadata": {},
   "outputs": [
    {
     "data": {
      "text/plain": [
       "<matplotlib.collections.PathCollection at 0x175e2b6b790>"
      ]
     },
     "execution_count": 78,
     "metadata": {},
     "output_type": "execute_result"
    },
    {
     "data": {
      "image/png": "[encoded data removed]",
      "text/plain": [
       "<Figure size 640x480 with 1 Axes>"
      ]
     },
     "metadata": {},
     "output_type": "display_data"
    }
   ],
   "source": [
    "plt.scatter(novo_df['price_var'],novo_df['total_sales'])"
   ]
  },
  {
   "cell_type": "code",
   "execution_count": null,
   "id": "f37691f1",
   "metadata": {},
   "outputs": [],
   "source": []
  }
 ],
 "metadata": {
  "kernelspec": {
   "display_name": "Python 3 (ipykernel)",
   "language": "python",
   "name": "python3"
  },
  "language_info": {
   "codemirror_mode": {
    "name": "ipython",
    "version": 3
   },
   "file_extension": ".py",
   "mimetype": "text/x-python",
   "name": "python",
   "nbconvert_exporter": "python",
   "pygments_lexer": "ipython3",
   "version": "3.10.9"
  }
 },
 "nbformat": 4,
 "nbformat_minor": 5
}
