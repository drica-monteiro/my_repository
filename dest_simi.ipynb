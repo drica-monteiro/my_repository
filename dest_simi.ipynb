{
 "cells": [
  {
   "cell_type": "markdown",
   "id": "cbcd81c1",
   "metadata": {},
   "source": [
    "## How can we model SALES x PRICE?"
   ]
  },
  {
   "cell_type": "markdown",
   "id": "6dc1aa72",
   "metadata": {},
   "source": [
    "It's quite intuitive to think of sales as a function of price. In order to capture percentual changes in both variables, they need to be in the same scale. Besides that, the log-log fit seems to fit the sales curve better. So, we propose the following model:"
   ]
  },
  {
   "cell_type": "markdown",
   "id": "037c84dd",
   "metadata": {},
   "source": [
    "$$\\log(SALES) = m \\cdot \\log(PRICE) + b$$"
   ]
  },
  {
   "cell_type": "markdown",
   "id": "5864b74c",
   "metadata": {},
   "source": [
    "Why log? An increse of $ \\$1 $ in price $ \\$1 $,i.e., it goes to $\\$2$, is very different from $\\$100$ to $\\$101$. So small changes in small values are more intense than small changes in higher values."
   ]
  },
  {
   "cell_type": "markdown",
   "id": "66032159",
   "metadata": {},
   "source": [
    "## How sensitivity SALES is to PRICE?"
   ]
  },
  {
   "cell_type": "markdown",
   "id": "cadb4b1d",
   "metadata": {},
   "source": [
    "That's called price elasticity. It measures the responsiveness of SALES to a change in PRICE. It's given by the formula:\n",
    "    $$\\epsilon = \\frac{dS}{dP}\\cdot \\frac{P}{Q}$$. Using our model above, we have:\n",
    "    $\\epsilon = m$. So elasticity is constant in price if we use the log-log model."
   ]
  },
  {
   "cell_type": "markdown",
   "id": "4b8675c5",
   "metadata": {},
   "source": [
    "When $m<0$, sales is a decreasing function of price. When $m>0$, sales is an increasing function of price."
   ]
  },
  {
   "cell_type": "markdown",
   "id": "c7c0e607",
   "metadata": {},
   "source": [
    "If $|m|<1$, the demand is INELASTIC so the change in sales is lower than the change in price.\n",
    "If $|m|>1$, the demand is ELASTIC so the change in sales is bigger than the change in price.\n",
    "If $m=1$, the changes are the same. That's called UNIT ELASTIC."
   ]
  }
 ],
 "metadata": {
  "kernelspec": {
   "display_name": "Python 3 (ipykernel)",
   "language": "python",
   "name": "python3"
  },
  "language_info": {
   "codemirror_mode": {
    "name": "ipython",
    "version": 3
   },
   "file_extension": ".py",
   "mimetype": "text/x-python",
   "name": "python",
   "nbconvert_exporter": "python",
   "pygments_lexer": "ipython3",
   "version": "3.10.9"
  }
 },
 "nbformat": 4,
 "nbformat_minor": 5
}
