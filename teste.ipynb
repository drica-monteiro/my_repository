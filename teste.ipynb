{
 "cells": [
  {
   "cell_type": "code",
   "execution_count": 110,
   "id": "03db8198",
   "metadata": {},
   "outputs": [],
   "source": [
    "import pandas as pd\n",
    "import numpy as np\n",
    "import datetime as dt\n",
    "import matplotlib.pyplot as plt\n",
    "import calendar\n",
    "\n",
    "pd.set_option('display.max_columns', None) #mostrar todas as colunas\n",
    "pd.set_option('display.max_rows', 50)  #mostrar no max 50 linhas\n",
    "pd.set_option('display.max_colwidth', None)  #mostrar a grossura máxima das colunas"
   ]
  },
  {
   "cell_type": "code",
   "execution_count": 2,
   "id": "a4aad580",
   "metadata": {},
   "outputs": [],
   "source": [
    "df = pd.read_excel('teste2.xlsx')\n",
    "df.to_csv('agorafoi.csv')\n",
    "df2 = pd.read_csv('agorafoi.csv')\n",
    "df2 = df2.drop(columns =['Unnamed: 0','Unnamed: 0.1'])"
   ]
  },
  {
   "cell_type": "code",
   "execution_count": 3,
   "id": "9bb9fdc3",
   "metadata": {
    "scrolled": true
   },
   "outputs": [
    {
     "data": {
      "text/html": [
       "<div>\n",
       "<style scoped>\n",
       "    .dataframe tbody tr th:only-of-type {\n",
       "        vertical-align: middle;\n",
       "    }\n",
       "\n",
       "    .dataframe tbody tr th {\n",
       "        vertical-align: top;\n",
       "    }\n",
       "\n",
       "    .dataframe thead th {\n",
       "        text-align: right;\n",
       "    }\n",
       "</style>\n",
       "<table border=\"1\" class=\"dataframe\">\n",
       "  <thead>\n",
       "    <tr style=\"text-align: right;\">\n",
       "      <th></th>\n",
       "      <th>datebr</th>\n",
       "      <th>sku</th>\n",
       "      <th>offer_option_id</th>\n",
       "      <th>offer_option_title</th>\n",
       "      <th>offer_option_description</th>\n",
       "      <th>product_name</th>\n",
       "      <th>destination_type</th>\n",
       "      <th>multidestino</th>\n",
       "      <th>year</th>\n",
       "      <th>package_date_format</th>\n",
       "      <th>destination_city</th>\n",
       "      <th>destination_state</th>\n",
       "      <th>destination_country</th>\n",
       "      <th>AttributeList</th>\n",
       "      <th>clicks</th>\n",
       "      <th>checkout</th>\n",
       "      <th>fullprice</th>\n",
       "      <th>yield</th>\n",
       "      <th>discount</th>\n",
       "      <th>realprice</th>\n",
       "      <th>interest</th>\n",
       "      <th>totalprice</th>\n",
       "      <th>sales</th>\n",
       "    </tr>\n",
       "  </thead>\n",
       "  <tbody>\n",
       "    <tr>\n",
       "      <th>0</th>\n",
       "      <td>2022-08-01</td>\n",
       "      <td>LGPKG-1139792</td>\n",
       "      <td>2778975</td>\n",
       "      <td>Aéreo de São Paulo</td>\n",
       "      <td>Aéreo ida e volta | Quarto Duplo ou Triplo | 8 Diárias (4 diárias em Lisboa + 4 diárias em Porto)</td>\n",
       "      <td>Pacote de Viagem - Lisboa + Porto - 2023</td>\n",
       "      <td>INT</td>\n",
       "      <td>True</td>\n",
       "      <td>2023.0</td>\n",
       "      <td>Data flexível</td>\n",
       "      <td>Lisboa + Porto</td>\n",
       "      <td>Lisboa</td>\n",
       "      <td>Portugal</td>\n",
       "      <td>Hospedagem Econômica,Passagem Aérea Econômica</td>\n",
       "      <td>1083.0</td>\n",
       "      <td>298.0</td>\n",
       "      <td>5132</td>\n",
       "      <td>976</td>\n",
       "      <td>2443</td>\n",
       "      <td>3665</td>\n",
       "      <td>0</td>\n",
       "      <td>3665</td>\n",
       "      <td>1</td>\n",
       "    </tr>\n",
       "    <tr>\n",
       "      <th>1</th>\n",
       "      <td>2022-08-01</td>\n",
       "      <td>LGPKG-1139792</td>\n",
       "      <td>2778974</td>\n",
       "      <td>Aéreo do Rio de Janeiro</td>\n",
       "      <td>Aéreo ida e volta | Quarto Duplo ou Triplo | 8 Diárias (4 diárias em Lisboa + 4 diárias em Porto)</td>\n",
       "      <td>Pacote de Viagem - Lisboa + Porto - 2023</td>\n",
       "      <td>INT</td>\n",
       "      <td>True</td>\n",
       "      <td>2023.0</td>\n",
       "      <td>Data flexível</td>\n",
       "      <td>Lisboa + Porto</td>\n",
       "      <td>Lisboa</td>\n",
       "      <td>Portugal</td>\n",
       "      <td>Hospedagem Econômica,Passagem Aérea Econômica</td>\n",
       "      <td>1083.0</td>\n",
       "      <td>298.0</td>\n",
       "      <td>5132</td>\n",
       "      <td>976</td>\n",
       "      <td>2443</td>\n",
       "      <td>3665</td>\n",
       "      <td>0</td>\n",
       "      <td>3665</td>\n",
       "      <td>4</td>\n",
       "    </tr>\n",
       "    <tr>\n",
       "      <th>2</th>\n",
       "      <td>2022-08-01</td>\n",
       "      <td>LGPKG-1139792</td>\n",
       "      <td>2778975</td>\n",
       "      <td>Aéreo de São Paulo</td>\n",
       "      <td>Aéreo ida e volta | Quarto Duplo ou Triplo | 8 Diárias (4 diárias em Lisboa + 4 diárias em Porto)</td>\n",
       "      <td>Pacote de Viagem - Lisboa + Porto - 2023</td>\n",
       "      <td>INT</td>\n",
       "      <td>True</td>\n",
       "      <td>2023.0</td>\n",
       "      <td>Data flexível</td>\n",
       "      <td>Lisboa + Porto</td>\n",
       "      <td>Lisboa</td>\n",
       "      <td>Portugal</td>\n",
       "      <td>Hospedagem Econômica,Passagem Aérea Econômica</td>\n",
       "      <td>1083.0</td>\n",
       "      <td>298.0</td>\n",
       "      <td>5132</td>\n",
       "      <td>1027</td>\n",
       "      <td>2463</td>\n",
       "      <td>3695</td>\n",
       "      <td>0</td>\n",
       "      <td>3695</td>\n",
       "      <td>2</td>\n",
       "    </tr>\n",
       "    <tr>\n",
       "      <th>3</th>\n",
       "      <td>2022-08-01</td>\n",
       "      <td>LGPKG-1139792</td>\n",
       "      <td>2778976</td>\n",
       "      <td>Aéreo de Belo Horizonte</td>\n",
       "      <td>Aéreo ida e volta | Quarto Duplo ou Triplo | 8 Diárias (4 diárias em Lisboa + 4 diárias em Porto)</td>\n",
       "      <td>Pacote de Viagem - Lisboa + Porto - 2023</td>\n",
       "      <td>INT</td>\n",
       "      <td>True</td>\n",
       "      <td>2023.0</td>\n",
       "      <td>Data flexível</td>\n",
       "      <td>Lisboa + Porto</td>\n",
       "      <td>Lisboa</td>\n",
       "      <td>Portugal</td>\n",
       "      <td>Hospedagem Econômica,Passagem Aérea Econômica</td>\n",
       "      <td>1083.0</td>\n",
       "      <td>298.0</td>\n",
       "      <td>5498</td>\n",
       "      <td>880</td>\n",
       "      <td>2551</td>\n",
       "      <td>3827</td>\n",
       "      <td>0</td>\n",
       "      <td>3827</td>\n",
       "      <td>1</td>\n",
       "    </tr>\n",
       "    <tr>\n",
       "      <th>4</th>\n",
       "      <td>2022-08-01</td>\n",
       "      <td>LGPKG-1139792</td>\n",
       "      <td>2778976</td>\n",
       "      <td>Aéreo de Belo Horizonte</td>\n",
       "      <td>Aéreo ida e volta | Quarto Duplo ou Triplo | 8 Diárias (4 diárias em Lisboa + 4 diárias em Porto)</td>\n",
       "      <td>Pacote de Viagem - Lisboa + Porto - 2023</td>\n",
       "      <td>INT</td>\n",
       "      <td>True</td>\n",
       "      <td>2023.0</td>\n",
       "      <td>Data flexível</td>\n",
       "      <td>Lisboa + Porto</td>\n",
       "      <td>Lisboa</td>\n",
       "      <td>Portugal</td>\n",
       "      <td>Hospedagem Econômica,Passagem Aérea Econômica</td>\n",
       "      <td>1083.0</td>\n",
       "      <td>298.0</td>\n",
       "      <td>5498</td>\n",
       "      <td>935</td>\n",
       "      <td>2573</td>\n",
       "      <td>3860</td>\n",
       "      <td>0</td>\n",
       "      <td>3860</td>\n",
       "      <td>2</td>\n",
       "    </tr>\n",
       "    <tr>\n",
       "      <th>5</th>\n",
       "      <td>2022-09-26</td>\n",
       "      <td>LGPKG-1139792</td>\n",
       "      <td>2778974</td>\n",
       "      <td>Aéreo do Rio de Janeiro</td>\n",
       "      <td>Aéreo ida e volta | Quarto Duplo ou Triplo | 8 Diárias (4 diárias em Lisboa + 4 diárias em Porto)</td>\n",
       "      <td>Pacote de Viagem - Lisboa + Porto - Segundo Semestre 2023</td>\n",
       "      <td>INT</td>\n",
       "      <td>True</td>\n",
       "      <td>2023.0</td>\n",
       "      <td>Data flexível</td>\n",
       "      <td>Lisboa + Porto</td>\n",
       "      <td>Lisboa</td>\n",
       "      <td>Portugal</td>\n",
       "      <td>Hospedagem Econômica,Passagem Aérea Econômica</td>\n",
       "      <td>121.0</td>\n",
       "      <td>20.0</td>\n",
       "      <td>7299</td>\n",
       "      <td>0</td>\n",
       "      <td>0</td>\n",
       "      <td>7299</td>\n",
       "      <td>0</td>\n",
       "      <td>7299</td>\n",
       "      <td>1</td>\n",
       "    </tr>\n",
       "    <tr>\n",
       "      <th>6</th>\n",
       "      <td>2022-10-02</td>\n",
       "      <td>LGPKG-1139792</td>\n",
       "      <td>2778974</td>\n",
       "      <td>Aéreo do Rio de Janeiro</td>\n",
       "      <td>Aéreo ida e volta | Quarto Duplo ou Triplo | 8 Diárias (4 diárias em Lisboa + 4 diárias em Porto)</td>\n",
       "      <td>Pacote de Viagem - Lisboa + Porto - Segundo Semestre 2023</td>\n",
       "      <td>INT</td>\n",
       "      <td>True</td>\n",
       "      <td>2023.0</td>\n",
       "      <td>Data flexível</td>\n",
       "      <td>Lisboa + Porto</td>\n",
       "      <td>Lisboa</td>\n",
       "      <td>Portugal</td>\n",
       "      <td>Hospedagem Econômica,Passagem Aérea Econômica</td>\n",
       "      <td>145.0</td>\n",
       "      <td>22.0</td>\n",
       "      <td>7299</td>\n",
       "      <td>0</td>\n",
       "      <td>0</td>\n",
       "      <td>7299</td>\n",
       "      <td>0</td>\n",
       "      <td>7299</td>\n",
       "      <td>1</td>\n",
       "    </tr>\n",
       "    <tr>\n",
       "      <th>7</th>\n",
       "      <td>2022-10-04</td>\n",
       "      <td>LGPKG-1139792</td>\n",
       "      <td>2778975</td>\n",
       "      <td>Aéreo de São Paulo</td>\n",
       "      <td>Aéreo ida e volta | Quarto Duplo ou Triplo | 8 Diárias (4 diárias em Lisboa + 4 diárias em Porto)</td>\n",
       "      <td>Pacote de Viagem - Lisboa + Porto - Segundo Semestre 2023</td>\n",
       "      <td>INT</td>\n",
       "      <td>True</td>\n",
       "      <td>2023.0</td>\n",
       "      <td>Data flexível</td>\n",
       "      <td>Lisboa + Porto</td>\n",
       "      <td>Lisboa</td>\n",
       "      <td>Portugal</td>\n",
       "      <td>Hospedagem Econômica,Passagem Aérea Econômica</td>\n",
       "      <td>149.0</td>\n",
       "      <td>26.0</td>\n",
       "      <td>7299</td>\n",
       "      <td>0</td>\n",
       "      <td>0</td>\n",
       "      <td>7299</td>\n",
       "      <td>0</td>\n",
       "      <td>7299</td>\n",
       "      <td>1</td>\n",
       "    </tr>\n",
       "    <tr>\n",
       "      <th>8</th>\n",
       "      <td>2022-10-04</td>\n",
       "      <td>LGPKG-1139792</td>\n",
       "      <td>2778974</td>\n",
       "      <td>Aéreo do Rio de Janeiro</td>\n",
       "      <td>Aéreo ida e volta | Quarto Duplo ou Triplo | 8 Diárias (4 diárias em Lisboa + 4 diárias em Porto)</td>\n",
       "      <td>Pacote de Viagem - Lisboa + Porto - Segundo Semestre 2023</td>\n",
       "      <td>INT</td>\n",
       "      <td>True</td>\n",
       "      <td>2023.0</td>\n",
       "      <td>Data flexível</td>\n",
       "      <td>Lisboa + Porto</td>\n",
       "      <td>Lisboa</td>\n",
       "      <td>Portugal</td>\n",
       "      <td>Hospedagem Econômica,Passagem Aérea Econômica</td>\n",
       "      <td>149.0</td>\n",
       "      <td>26.0</td>\n",
       "      <td>7299</td>\n",
       "      <td>0</td>\n",
       "      <td>0</td>\n",
       "      <td>7299</td>\n",
       "      <td>0</td>\n",
       "      <td>7299</td>\n",
       "      <td>1</td>\n",
       "    </tr>\n",
       "    <tr>\n",
       "      <th>9</th>\n",
       "      <td>2022-10-08</td>\n",
       "      <td>LGPKG-1139792</td>\n",
       "      <td>2778975</td>\n",
       "      <td>Aéreo de São Paulo</td>\n",
       "      <td>Aéreo ida e volta | Quarto Duplo ou Triplo | 8 Diárias (4 diárias em Lisboa + 4 diárias em Porto)</td>\n",
       "      <td>Pacote de Viagem - Lisboa + Porto - Segundo Semestre 2023</td>\n",
       "      <td>INT</td>\n",
       "      <td>True</td>\n",
       "      <td>2023.0</td>\n",
       "      <td>Data flexível</td>\n",
       "      <td>Lisboa + Porto</td>\n",
       "      <td>Lisboa</td>\n",
       "      <td>Portugal</td>\n",
       "      <td>Hospedagem Econômica,Passagem Aérea Econômica</td>\n",
       "      <td>100.0</td>\n",
       "      <td>9.0</td>\n",
       "      <td>7299</td>\n",
       "      <td>1314</td>\n",
       "      <td>0</td>\n",
       "      <td>8613</td>\n",
       "      <td>0</td>\n",
       "      <td>8613</td>\n",
       "      <td>1</td>\n",
       "    </tr>\n",
       "  </tbody>\n",
       "</table>\n",
       "</div>"
      ],
      "text/plain": [
       "       datebr            sku  offer_option_id       offer_option_title  \\\n",
       "0  2022-08-01  LGPKG-1139792          2778975       Aéreo de São Paulo   \n",
       "1  2022-08-01  LGPKG-1139792          2778974  Aéreo do Rio de Janeiro   \n",
       "2  2022-08-01  LGPKG-1139792          2778975       Aéreo de São Paulo   \n",
       "3  2022-08-01  LGPKG-1139792          2778976  Aéreo de Belo Horizonte   \n",
       "4  2022-08-01  LGPKG-1139792          2778976  Aéreo de Belo Horizonte   \n",
       "5  2022-09-26  LGPKG-1139792          2778974  Aéreo do Rio de Janeiro   \n",
       "6  2022-10-02  LGPKG-1139792          2778974  Aéreo do Rio de Janeiro   \n",
       "7  2022-10-04  LGPKG-1139792          2778975       Aéreo de São Paulo   \n",
       "8  2022-10-04  LGPKG-1139792          2778974  Aéreo do Rio de Janeiro   \n",
       "9  2022-10-08  LGPKG-1139792          2778975       Aéreo de São Paulo   \n",
       "\n",
       "                                                                            offer_option_description  \\\n",
       "0  Aéreo ida e volta | Quarto Duplo ou Triplo | 8 Diárias (4 diárias em Lisboa + 4 diárias em Porto)   \n",
       "1  Aéreo ida e volta | Quarto Duplo ou Triplo | 8 Diárias (4 diárias em Lisboa + 4 diárias em Porto)   \n",
       "2  Aéreo ida e volta | Quarto Duplo ou Triplo | 8 Diárias (4 diárias em Lisboa + 4 diárias em Porto)   \n",
       "3  Aéreo ida e volta | Quarto Duplo ou Triplo | 8 Diárias (4 diárias em Lisboa + 4 diárias em Porto)   \n",
       "4  Aéreo ida e volta | Quarto Duplo ou Triplo | 8 Diárias (4 diárias em Lisboa + 4 diárias em Porto)   \n",
       "5  Aéreo ida e volta | Quarto Duplo ou Triplo | 8 Diárias (4 diárias em Lisboa + 4 diárias em Porto)   \n",
       "6  Aéreo ida e volta | Quarto Duplo ou Triplo | 8 Diárias (4 diárias em Lisboa + 4 diárias em Porto)   \n",
       "7  Aéreo ida e volta | Quarto Duplo ou Triplo | 8 Diárias (4 diárias em Lisboa + 4 diárias em Porto)   \n",
       "8  Aéreo ida e volta | Quarto Duplo ou Triplo | 8 Diárias (4 diárias em Lisboa + 4 diárias em Porto)   \n",
       "9  Aéreo ida e volta | Quarto Duplo ou Triplo | 8 Diárias (4 diárias em Lisboa + 4 diárias em Porto)   \n",
       "\n",
       "                                                product_name destination_type  \\\n",
       "0                   Pacote de Viagem - Lisboa + Porto - 2023              INT   \n",
       "1                   Pacote de Viagem - Lisboa + Porto - 2023              INT   \n",
       "2                   Pacote de Viagem - Lisboa + Porto - 2023              INT   \n",
       "3                   Pacote de Viagem - Lisboa + Porto - 2023              INT   \n",
       "4                   Pacote de Viagem - Lisboa + Porto - 2023              INT   \n",
       "5  Pacote de Viagem - Lisboa + Porto - Segundo Semestre 2023              INT   \n",
       "6  Pacote de Viagem - Lisboa + Porto - Segundo Semestre 2023              INT   \n",
       "7  Pacote de Viagem - Lisboa + Porto - Segundo Semestre 2023              INT   \n",
       "8  Pacote de Viagem - Lisboa + Porto - Segundo Semestre 2023              INT   \n",
       "9  Pacote de Viagem - Lisboa + Porto - Segundo Semestre 2023              INT   \n",
       "\n",
       "   multidestino    year package_date_format destination_city  \\\n",
       "0          True  2023.0       Data flexível   Lisboa + Porto   \n",
       "1          True  2023.0       Data flexível   Lisboa + Porto   \n",
       "2          True  2023.0       Data flexível   Lisboa + Porto   \n",
       "3          True  2023.0       Data flexível   Lisboa + Porto   \n",
       "4          True  2023.0       Data flexível   Lisboa + Porto   \n",
       "5          True  2023.0       Data flexível   Lisboa + Porto   \n",
       "6          True  2023.0       Data flexível   Lisboa + Porto   \n",
       "7          True  2023.0       Data flexível   Lisboa + Porto   \n",
       "8          True  2023.0       Data flexível   Lisboa + Porto   \n",
       "9          True  2023.0       Data flexível   Lisboa + Porto   \n",
       "\n",
       "  destination_state destination_country  \\\n",
       "0            Lisboa            Portugal   \n",
       "1            Lisboa            Portugal   \n",
       "2            Lisboa            Portugal   \n",
       "3            Lisboa            Portugal   \n",
       "4            Lisboa            Portugal   \n",
       "5            Lisboa            Portugal   \n",
       "6            Lisboa            Portugal   \n",
       "7            Lisboa            Portugal   \n",
       "8            Lisboa            Portugal   \n",
       "9            Lisboa            Portugal   \n",
       "\n",
       "                                   AttributeList  clicks  checkout  fullprice  \\\n",
       "0  Hospedagem Econômica,Passagem Aérea Econômica  1083.0     298.0       5132   \n",
       "1  Hospedagem Econômica,Passagem Aérea Econômica  1083.0     298.0       5132   \n",
       "2  Hospedagem Econômica,Passagem Aérea Econômica  1083.0     298.0       5132   \n",
       "3  Hospedagem Econômica,Passagem Aérea Econômica  1083.0     298.0       5498   \n",
       "4  Hospedagem Econômica,Passagem Aérea Econômica  1083.0     298.0       5498   \n",
       "5  Hospedagem Econômica,Passagem Aérea Econômica   121.0      20.0       7299   \n",
       "6  Hospedagem Econômica,Passagem Aérea Econômica   145.0      22.0       7299   \n",
       "7  Hospedagem Econômica,Passagem Aérea Econômica   149.0      26.0       7299   \n",
       "8  Hospedagem Econômica,Passagem Aérea Econômica   149.0      26.0       7299   \n",
       "9  Hospedagem Econômica,Passagem Aérea Econômica   100.0       9.0       7299   \n",
       "\n",
       "   yield  discount  realprice  interest  totalprice  sales  \n",
       "0    976      2443       3665         0        3665      1  \n",
       "1    976      2443       3665         0        3665      4  \n",
       "2   1027      2463       3695         0        3695      2  \n",
       "3    880      2551       3827         0        3827      1  \n",
       "4    935      2573       3860         0        3860      2  \n",
       "5      0         0       7299         0        7299      1  \n",
       "6      0         0       7299         0        7299      1  \n",
       "7      0         0       7299         0        7299      1  \n",
       "8      0         0       7299         0        7299      1  \n",
       "9   1314         0       8613         0        8613      1  "
      ]
     },
     "execution_count": 3,
     "metadata": {},
     "output_type": "execute_result"
    }
   ],
   "source": [
    "df2"
   ]
  },
  {
   "cell_type": "markdown",
   "id": "1793275d",
   "metadata": {},
   "source": [
    "## I'm trying to answer the following question: how sales behave with day week? Which day sales the most?"
   ]
  },
  {
   "cell_type": "code",
   "execution_count": 129,
   "id": "86295c83",
   "metadata": {},
   "outputs": [],
   "source": [
    "#Adiciona a coluna com o dia da semana\n",
    "week_day = []\n",
    "for i in range (10): \n",
    "    date = pd.Timestamp(df2.iloc[i,0])\n",
    "    week_day.append(date.day_name())\n",
    "df2['Week day'] = week_day"
   ]
  },
  {
   "cell_type": "code",
   "execution_count": 130,
   "id": "cf21351a",
   "metadata": {},
   "outputs": [],
   "source": [
    "#Add a column with integer as a day week\n",
    "week_day_int = []\n",
    "for i in range (10): \n",
    "    date = pd.Timestamp(df2.iloc[i,0])\n",
    "    week_day_int.append(date.weekday())\n",
    "df2['Week day int'] = week_day_int"
   ]
  },
  {
   "cell_type": "code",
   "execution_count": 131,
   "id": "50e06fb7",
   "metadata": {},
   "outputs": [
    {
     "data": {
      "text/html": [
       "<div>\n",
       "<style scoped>\n",
       "    .dataframe tbody tr th:only-of-type {\n",
       "        vertical-align: middle;\n",
       "    }\n",
       "\n",
       "    .dataframe tbody tr th {\n",
       "        vertical-align: top;\n",
       "    }\n",
       "\n",
       "    .dataframe thead th {\n",
       "        text-align: right;\n",
       "    }\n",
       "</style>\n",
       "<table border=\"1\" class=\"dataframe\">\n",
       "  <thead>\n",
       "    <tr style=\"text-align: right;\">\n",
       "      <th></th>\n",
       "      <th>datebr</th>\n",
       "      <th>sku</th>\n",
       "      <th>offer_option_id</th>\n",
       "      <th>offer_option_title</th>\n",
       "      <th>offer_option_description</th>\n",
       "      <th>product_name</th>\n",
       "      <th>destination_type</th>\n",
       "      <th>multidestino</th>\n",
       "      <th>year</th>\n",
       "      <th>package_date_format</th>\n",
       "      <th>destination_city</th>\n",
       "      <th>destination_state</th>\n",
       "      <th>destination_country</th>\n",
       "      <th>AttributeList</th>\n",
       "      <th>clicks</th>\n",
       "      <th>checkout</th>\n",
       "      <th>fullprice</th>\n",
       "      <th>yield</th>\n",
       "      <th>discount</th>\n",
       "      <th>realprice</th>\n",
       "      <th>interest</th>\n",
       "      <th>totalprice</th>\n",
       "      <th>sales</th>\n",
       "      <th>Week day</th>\n",
       "      <th>Week day int</th>\n",
       "    </tr>\n",
       "  </thead>\n",
       "  <tbody>\n",
       "    <tr>\n",
       "      <th>0</th>\n",
       "      <td>2022-08-01</td>\n",
       "      <td>LGPKG-1139792</td>\n",
       "      <td>2778975</td>\n",
       "      <td>Aéreo de São Paulo</td>\n",
       "      <td>Aéreo ida e volta | Quarto Duplo ou Triplo | 8 Diárias (4 diárias em Lisboa + 4 diárias em Porto)</td>\n",
       "      <td>Pacote de Viagem - Lisboa + Porto - 2023</td>\n",
       "      <td>INT</td>\n",
       "      <td>True</td>\n",
       "      <td>2023.0</td>\n",
       "      <td>Data flexível</td>\n",
       "      <td>Lisboa + Porto</td>\n",
       "      <td>Lisboa</td>\n",
       "      <td>Portugal</td>\n",
       "      <td>Hospedagem Econômica,Passagem Aérea Econômica</td>\n",
       "      <td>1083.0</td>\n",
       "      <td>298.0</td>\n",
       "      <td>5132</td>\n",
       "      <td>976</td>\n",
       "      <td>2443</td>\n",
       "      <td>3665</td>\n",
       "      <td>0</td>\n",
       "      <td>3665</td>\n",
       "      <td>1</td>\n",
       "      <td>Monday</td>\n",
       "      <td>0</td>\n",
       "    </tr>\n",
       "    <tr>\n",
       "      <th>1</th>\n",
       "      <td>2022-08-01</td>\n",
       "      <td>LGPKG-1139792</td>\n",
       "      <td>2778974</td>\n",
       "      <td>Aéreo do Rio de Janeiro</td>\n",
       "      <td>Aéreo ida e volta | Quarto Duplo ou Triplo | 8 Diárias (4 diárias em Lisboa + 4 diárias em Porto)</td>\n",
       "      <td>Pacote de Viagem - Lisboa + Porto - 2023</td>\n",
       "      <td>INT</td>\n",
       "      <td>True</td>\n",
       "      <td>2023.0</td>\n",
       "      <td>Data flexível</td>\n",
       "      <td>Lisboa + Porto</td>\n",
       "      <td>Lisboa</td>\n",
       "      <td>Portugal</td>\n",
       "      <td>Hospedagem Econômica,Passagem Aérea Econômica</td>\n",
       "      <td>1083.0</td>\n",
       "      <td>298.0</td>\n",
       "      <td>5132</td>\n",
       "      <td>976</td>\n",
       "      <td>2443</td>\n",
       "      <td>3665</td>\n",
       "      <td>0</td>\n",
       "      <td>3665</td>\n",
       "      <td>4</td>\n",
       "      <td>Monday</td>\n",
       "      <td>0</td>\n",
       "    </tr>\n",
       "    <tr>\n",
       "      <th>2</th>\n",
       "      <td>2022-08-01</td>\n",
       "      <td>LGPKG-1139792</td>\n",
       "      <td>2778975</td>\n",
       "      <td>Aéreo de São Paulo</td>\n",
       "      <td>Aéreo ida e volta | Quarto Duplo ou Triplo | 8 Diárias (4 diárias em Lisboa + 4 diárias em Porto)</td>\n",
       "      <td>Pacote de Viagem - Lisboa + Porto - 2023</td>\n",
       "      <td>INT</td>\n",
       "      <td>True</td>\n",
       "      <td>2023.0</td>\n",
       "      <td>Data flexível</td>\n",
       "      <td>Lisboa + Porto</td>\n",
       "      <td>Lisboa</td>\n",
       "      <td>Portugal</td>\n",
       "      <td>Hospedagem Econômica,Passagem Aérea Econômica</td>\n",
       "      <td>1083.0</td>\n",
       "      <td>298.0</td>\n",
       "      <td>5132</td>\n",
       "      <td>1027</td>\n",
       "      <td>2463</td>\n",
       "      <td>3695</td>\n",
       "      <td>0</td>\n",
       "      <td>3695</td>\n",
       "      <td>2</td>\n",
       "      <td>Monday</td>\n",
       "      <td>0</td>\n",
       "    </tr>\n",
       "  </tbody>\n",
       "</table>\n",
       "</div>"
      ],
      "text/plain": [
       "       datebr            sku  offer_option_id       offer_option_title  \\\n",
       "0  2022-08-01  LGPKG-1139792          2778975       Aéreo de São Paulo   \n",
       "1  2022-08-01  LGPKG-1139792          2778974  Aéreo do Rio de Janeiro   \n",
       "2  2022-08-01  LGPKG-1139792          2778975       Aéreo de São Paulo   \n",
       "\n",
       "                                                                            offer_option_description  \\\n",
       "0  Aéreo ida e volta | Quarto Duplo ou Triplo | 8 Diárias (4 diárias em Lisboa + 4 diárias em Porto)   \n",
       "1  Aéreo ida e volta | Quarto Duplo ou Triplo | 8 Diárias (4 diárias em Lisboa + 4 diárias em Porto)   \n",
       "2  Aéreo ida e volta | Quarto Duplo ou Triplo | 8 Diárias (4 diárias em Lisboa + 4 diárias em Porto)   \n",
       "\n",
       "                               product_name destination_type  multidestino  \\\n",
       "0  Pacote de Viagem - Lisboa + Porto - 2023              INT          True   \n",
       "1  Pacote de Viagem - Lisboa + Porto - 2023              INT          True   \n",
       "2  Pacote de Viagem - Lisboa + Porto - 2023              INT          True   \n",
       "\n",
       "     year package_date_format destination_city destination_state  \\\n",
       "0  2023.0       Data flexível   Lisboa + Porto            Lisboa   \n",
       "1  2023.0       Data flexível   Lisboa + Porto            Lisboa   \n",
       "2  2023.0       Data flexível   Lisboa + Porto            Lisboa   \n",
       "\n",
       "  destination_country                                  AttributeList  clicks  \\\n",
       "0            Portugal  Hospedagem Econômica,Passagem Aérea Econômica  1083.0   \n",
       "1            Portugal  Hospedagem Econômica,Passagem Aérea Econômica  1083.0   \n",
       "2            Portugal  Hospedagem Econômica,Passagem Aérea Econômica  1083.0   \n",
       "\n",
       "   checkout  fullprice  yield  discount  realprice  interest  totalprice  \\\n",
       "0     298.0       5132    976      2443       3665         0        3665   \n",
       "1     298.0       5132    976      2443       3665         0        3665   \n",
       "2     298.0       5132   1027      2463       3695         0        3695   \n",
       "\n",
       "   sales Week day  Week day int  \n",
       "0      1   Monday             0  \n",
       "1      4   Monday             0  \n",
       "2      2   Monday             0  "
      ]
     },
     "execution_count": 131,
     "metadata": {},
     "output_type": "execute_result"
    }
   ],
   "source": [
    "df2.head(3)"
   ]
  },
  {
   "cell_type": "code",
   "execution_count": 20,
   "id": "d9012909",
   "metadata": {},
   "outputs": [
    {
     "data": {
      "text/plain": [
       "Monday      6\n",
       "Tuesday     2\n",
       "Sunday      1\n",
       "Saturday    1\n",
       "Name: Week day, dtype: int64"
      ]
     },
     "execution_count": 20,
     "metadata": {},
     "output_type": "execute_result"
    }
   ],
   "source": [
    "df2['Week day'].value_counts()"
   ]
  },
  {
   "cell_type": "code",
   "execution_count": 132,
   "id": "05b60ca3",
   "metadata": {
    "scrolled": true
   },
   "outputs": [
    {
     "data": {
      "text/html": [
       "<div>\n",
       "<style scoped>\n",
       "    .dataframe tbody tr th:only-of-type {\n",
       "        vertical-align: middle;\n",
       "    }\n",
       "\n",
       "    .dataframe tbody tr th {\n",
       "        vertical-align: top;\n",
       "    }\n",
       "\n",
       "    .dataframe thead th {\n",
       "        text-align: right;\n",
       "    }\n",
       "</style>\n",
       "<table border=\"1\" class=\"dataframe\">\n",
       "  <thead>\n",
       "    <tr style=\"text-align: right;\">\n",
       "      <th></th>\n",
       "      <th>datebr</th>\n",
       "      <th>sku</th>\n",
       "      <th>offer_option_id</th>\n",
       "      <th>offer_option_title</th>\n",
       "      <th>offer_option_description</th>\n",
       "      <th>product_name</th>\n",
       "      <th>destination_type</th>\n",
       "      <th>multidestino</th>\n",
       "      <th>year</th>\n",
       "      <th>package_date_format</th>\n",
       "      <th>destination_city</th>\n",
       "      <th>destination_state</th>\n",
       "      <th>destination_country</th>\n",
       "      <th>AttributeList</th>\n",
       "      <th>clicks</th>\n",
       "      <th>checkout</th>\n",
       "      <th>fullprice</th>\n",
       "      <th>yield</th>\n",
       "      <th>discount</th>\n",
       "      <th>realprice</th>\n",
       "      <th>interest</th>\n",
       "      <th>totalprice</th>\n",
       "      <th>sales</th>\n",
       "      <th>Week day</th>\n",
       "      <th>Week day int</th>\n",
       "      <th>formatted_date</th>\n",
       "    </tr>\n",
       "  </thead>\n",
       "  <tbody>\n",
       "    <tr>\n",
       "      <th>0</th>\n",
       "      <td>2022-08-01</td>\n",
       "      <td>LGPKG-1139792</td>\n",
       "      <td>2778975</td>\n",
       "      <td>Aéreo de São Paulo</td>\n",
       "      <td>Aéreo ida e volta | Quarto Duplo ou Triplo | 8 Diárias (4 diárias em Lisboa + 4 diárias em Porto)</td>\n",
       "      <td>Pacote de Viagem - Lisboa + Porto - 2023</td>\n",
       "      <td>INT</td>\n",
       "      <td>True</td>\n",
       "      <td>2023.0</td>\n",
       "      <td>Data flexível</td>\n",
       "      <td>Lisboa + Porto</td>\n",
       "      <td>Lisboa</td>\n",
       "      <td>Portugal</td>\n",
       "      <td>Hospedagem Econômica,Passagem Aérea Econômica</td>\n",
       "      <td>1083.0</td>\n",
       "      <td>298.0</td>\n",
       "      <td>5132</td>\n",
       "      <td>976</td>\n",
       "      <td>2443</td>\n",
       "      <td>3665</td>\n",
       "      <td>0</td>\n",
       "      <td>3665</td>\n",
       "      <td>1</td>\n",
       "      <td>Monday</td>\n",
       "      <td>0</td>\n",
       "      <td>01-08-2022</td>\n",
       "    </tr>\n",
       "    <tr>\n",
       "      <th>1</th>\n",
       "      <td>2022-08-01</td>\n",
       "      <td>LGPKG-1139792</td>\n",
       "      <td>2778974</td>\n",
       "      <td>Aéreo do Rio de Janeiro</td>\n",
       "      <td>Aéreo ida e volta | Quarto Duplo ou Triplo | 8 Diárias (4 diárias em Lisboa + 4 diárias em Porto)</td>\n",
       "      <td>Pacote de Viagem - Lisboa + Porto - 2023</td>\n",
       "      <td>INT</td>\n",
       "      <td>True</td>\n",
       "      <td>2023.0</td>\n",
       "      <td>Data flexível</td>\n",
       "      <td>Lisboa + Porto</td>\n",
       "      <td>Lisboa</td>\n",
       "      <td>Portugal</td>\n",
       "      <td>Hospedagem Econômica,Passagem Aérea Econômica</td>\n",
       "      <td>1083.0</td>\n",
       "      <td>298.0</td>\n",
       "      <td>5132</td>\n",
       "      <td>976</td>\n",
       "      <td>2443</td>\n",
       "      <td>3665</td>\n",
       "      <td>0</td>\n",
       "      <td>3665</td>\n",
       "      <td>4</td>\n",
       "      <td>Monday</td>\n",
       "      <td>0</td>\n",
       "      <td>01-08-2022</td>\n",
       "    </tr>\n",
       "    <tr>\n",
       "      <th>2</th>\n",
       "      <td>2022-08-01</td>\n",
       "      <td>LGPKG-1139792</td>\n",
       "      <td>2778975</td>\n",
       "      <td>Aéreo de São Paulo</td>\n",
       "      <td>Aéreo ida e volta | Quarto Duplo ou Triplo | 8 Diárias (4 diárias em Lisboa + 4 diárias em Porto)</td>\n",
       "      <td>Pacote de Viagem - Lisboa + Porto - 2023</td>\n",
       "      <td>INT</td>\n",
       "      <td>True</td>\n",
       "      <td>2023.0</td>\n",
       "      <td>Data flexível</td>\n",
       "      <td>Lisboa + Porto</td>\n",
       "      <td>Lisboa</td>\n",
       "      <td>Portugal</td>\n",
       "      <td>Hospedagem Econômica,Passagem Aérea Econômica</td>\n",
       "      <td>1083.0</td>\n",
       "      <td>298.0</td>\n",
       "      <td>5132</td>\n",
       "      <td>1027</td>\n",
       "      <td>2463</td>\n",
       "      <td>3695</td>\n",
       "      <td>0</td>\n",
       "      <td>3695</td>\n",
       "      <td>2</td>\n",
       "      <td>Monday</td>\n",
       "      <td>0</td>\n",
       "      <td>01-08-2022</td>\n",
       "    </tr>\n",
       "    <tr>\n",
       "      <th>3</th>\n",
       "      <td>2022-08-01</td>\n",
       "      <td>LGPKG-1139792</td>\n",
       "      <td>2778976</td>\n",
       "      <td>Aéreo de Belo Horizonte</td>\n",
       "      <td>Aéreo ida e volta | Quarto Duplo ou Triplo | 8 Diárias (4 diárias em Lisboa + 4 diárias em Porto)</td>\n",
       "      <td>Pacote de Viagem - Lisboa + Porto - 2023</td>\n",
       "      <td>INT</td>\n",
       "      <td>True</td>\n",
       "      <td>2023.0</td>\n",
       "      <td>Data flexível</td>\n",
       "      <td>Lisboa + Porto</td>\n",
       "      <td>Lisboa</td>\n",
       "      <td>Portugal</td>\n",
       "      <td>Hospedagem Econômica,Passagem Aérea Econômica</td>\n",
       "      <td>1083.0</td>\n",
       "      <td>298.0</td>\n",
       "      <td>5498</td>\n",
       "      <td>880</td>\n",
       "      <td>2551</td>\n",
       "      <td>3827</td>\n",
       "      <td>0</td>\n",
       "      <td>3827</td>\n",
       "      <td>1</td>\n",
       "      <td>Monday</td>\n",
       "      <td>0</td>\n",
       "      <td>01-08-2022</td>\n",
       "    </tr>\n",
       "    <tr>\n",
       "      <th>4</th>\n",
       "      <td>2022-08-01</td>\n",
       "      <td>LGPKG-1139792</td>\n",
       "      <td>2778976</td>\n",
       "      <td>Aéreo de Belo Horizonte</td>\n",
       "      <td>Aéreo ida e volta | Quarto Duplo ou Triplo | 8 Diárias (4 diárias em Lisboa + 4 diárias em Porto)</td>\n",
       "      <td>Pacote de Viagem - Lisboa + Porto - 2023</td>\n",
       "      <td>INT</td>\n",
       "      <td>True</td>\n",
       "      <td>2023.0</td>\n",
       "      <td>Data flexível</td>\n",
       "      <td>Lisboa + Porto</td>\n",
       "      <td>Lisboa</td>\n",
       "      <td>Portugal</td>\n",
       "      <td>Hospedagem Econômica,Passagem Aérea Econômica</td>\n",
       "      <td>1083.0</td>\n",
       "      <td>298.0</td>\n",
       "      <td>5498</td>\n",
       "      <td>935</td>\n",
       "      <td>2573</td>\n",
       "      <td>3860</td>\n",
       "      <td>0</td>\n",
       "      <td>3860</td>\n",
       "      <td>2</td>\n",
       "      <td>Monday</td>\n",
       "      <td>0</td>\n",
       "      <td>01-08-2022</td>\n",
       "    </tr>\n",
       "    <tr>\n",
       "      <th>5</th>\n",
       "      <td>2022-09-26</td>\n",
       "      <td>LGPKG-1139792</td>\n",
       "      <td>2778974</td>\n",
       "      <td>Aéreo do Rio de Janeiro</td>\n",
       "      <td>Aéreo ida e volta | Quarto Duplo ou Triplo | 8 Diárias (4 diárias em Lisboa + 4 diárias em Porto)</td>\n",
       "      <td>Pacote de Viagem - Lisboa + Porto - Segundo Semestre 2023</td>\n",
       "      <td>INT</td>\n",
       "      <td>True</td>\n",
       "      <td>2023.0</td>\n",
       "      <td>Data flexível</td>\n",
       "      <td>Lisboa + Porto</td>\n",
       "      <td>Lisboa</td>\n",
       "      <td>Portugal</td>\n",
       "      <td>Hospedagem Econômica,Passagem Aérea Econômica</td>\n",
       "      <td>121.0</td>\n",
       "      <td>20.0</td>\n",
       "      <td>7299</td>\n",
       "      <td>0</td>\n",
       "      <td>0</td>\n",
       "      <td>7299</td>\n",
       "      <td>0</td>\n",
       "      <td>7299</td>\n",
       "      <td>1</td>\n",
       "      <td>Monday</td>\n",
       "      <td>0</td>\n",
       "      <td>26-09-2022</td>\n",
       "    </tr>\n",
       "    <tr>\n",
       "      <th>6</th>\n",
       "      <td>2022-10-02</td>\n",
       "      <td>LGPKG-1139792</td>\n",
       "      <td>2778974</td>\n",
       "      <td>Aéreo do Rio de Janeiro</td>\n",
       "      <td>Aéreo ida e volta | Quarto Duplo ou Triplo | 8 Diárias (4 diárias em Lisboa + 4 diárias em Porto)</td>\n",
       "      <td>Pacote de Viagem - Lisboa + Porto - Segundo Semestre 2023</td>\n",
       "      <td>INT</td>\n",
       "      <td>True</td>\n",
       "      <td>2023.0</td>\n",
       "      <td>Data flexível</td>\n",
       "      <td>Lisboa + Porto</td>\n",
       "      <td>Lisboa</td>\n",
       "      <td>Portugal</td>\n",
       "      <td>Hospedagem Econômica,Passagem Aérea Econômica</td>\n",
       "      <td>145.0</td>\n",
       "      <td>22.0</td>\n",
       "      <td>7299</td>\n",
       "      <td>0</td>\n",
       "      <td>0</td>\n",
       "      <td>7299</td>\n",
       "      <td>0</td>\n",
       "      <td>7299</td>\n",
       "      <td>1</td>\n",
       "      <td>Sunday</td>\n",
       "      <td>6</td>\n",
       "      <td>02-10-2022</td>\n",
       "    </tr>\n",
       "  </tbody>\n",
       "</table>\n",
       "</div>"
      ],
      "text/plain": [
       "       datebr            sku  offer_option_id       offer_option_title  \\\n",
       "0  2022-08-01  LGPKG-1139792          2778975       Aéreo de São Paulo   \n",
       "1  2022-08-01  LGPKG-1139792          2778974  Aéreo do Rio de Janeiro   \n",
       "2  2022-08-01  LGPKG-1139792          2778975       Aéreo de São Paulo   \n",
       "3  2022-08-01  LGPKG-1139792          2778976  Aéreo de Belo Horizonte   \n",
       "4  2022-08-01  LGPKG-1139792          2778976  Aéreo de Belo Horizonte   \n",
       "5  2022-09-26  LGPKG-1139792          2778974  Aéreo do Rio de Janeiro   \n",
       "6  2022-10-02  LGPKG-1139792          2778974  Aéreo do Rio de Janeiro   \n",
       "\n",
       "                                                                            offer_option_description  \\\n",
       "0  Aéreo ida e volta | Quarto Duplo ou Triplo | 8 Diárias (4 diárias em Lisboa + 4 diárias em Porto)   \n",
       "1  Aéreo ida e volta | Quarto Duplo ou Triplo | 8 Diárias (4 diárias em Lisboa + 4 diárias em Porto)   \n",
       "2  Aéreo ida e volta | Quarto Duplo ou Triplo | 8 Diárias (4 diárias em Lisboa + 4 diárias em Porto)   \n",
       "3  Aéreo ida e volta | Quarto Duplo ou Triplo | 8 Diárias (4 diárias em Lisboa + 4 diárias em Porto)   \n",
       "4  Aéreo ida e volta | Quarto Duplo ou Triplo | 8 Diárias (4 diárias em Lisboa + 4 diárias em Porto)   \n",
       "5  Aéreo ida e volta | Quarto Duplo ou Triplo | 8 Diárias (4 diárias em Lisboa + 4 diárias em Porto)   \n",
       "6  Aéreo ida e volta | Quarto Duplo ou Triplo | 8 Diárias (4 diárias em Lisboa + 4 diárias em Porto)   \n",
       "\n",
       "                                                product_name destination_type  \\\n",
       "0                   Pacote de Viagem - Lisboa + Porto - 2023              INT   \n",
       "1                   Pacote de Viagem - Lisboa + Porto - 2023              INT   \n",
       "2                   Pacote de Viagem - Lisboa + Porto - 2023              INT   \n",
       "3                   Pacote de Viagem - Lisboa + Porto - 2023              INT   \n",
       "4                   Pacote de Viagem - Lisboa + Porto - 2023              INT   \n",
       "5  Pacote de Viagem - Lisboa + Porto - Segundo Semestre 2023              INT   \n",
       "6  Pacote de Viagem - Lisboa + Porto - Segundo Semestre 2023              INT   \n",
       "\n",
       "   multidestino    year package_date_format destination_city  \\\n",
       "0          True  2023.0       Data flexível   Lisboa + Porto   \n",
       "1          True  2023.0       Data flexível   Lisboa + Porto   \n",
       "2          True  2023.0       Data flexível   Lisboa + Porto   \n",
       "3          True  2023.0       Data flexível   Lisboa + Porto   \n",
       "4          True  2023.0       Data flexível   Lisboa + Porto   \n",
       "5          True  2023.0       Data flexível   Lisboa + Porto   \n",
       "6          True  2023.0       Data flexível   Lisboa + Porto   \n",
       "\n",
       "  destination_state destination_country  \\\n",
       "0            Lisboa            Portugal   \n",
       "1            Lisboa            Portugal   \n",
       "2            Lisboa            Portugal   \n",
       "3            Lisboa            Portugal   \n",
       "4            Lisboa            Portugal   \n",
       "5            Lisboa            Portugal   \n",
       "6            Lisboa            Portugal   \n",
       "\n",
       "                                   AttributeList  clicks  checkout  fullprice  \\\n",
       "0  Hospedagem Econômica,Passagem Aérea Econômica  1083.0     298.0       5132   \n",
       "1  Hospedagem Econômica,Passagem Aérea Econômica  1083.0     298.0       5132   \n",
       "2  Hospedagem Econômica,Passagem Aérea Econômica  1083.0     298.0       5132   \n",
       "3  Hospedagem Econômica,Passagem Aérea Econômica  1083.0     298.0       5498   \n",
       "4  Hospedagem Econômica,Passagem Aérea Econômica  1083.0     298.0       5498   \n",
       "5  Hospedagem Econômica,Passagem Aérea Econômica   121.0      20.0       7299   \n",
       "6  Hospedagem Econômica,Passagem Aérea Econômica   145.0      22.0       7299   \n",
       "\n",
       "   yield  discount  realprice  interest  totalprice  sales Week day  \\\n",
       "0    976      2443       3665         0        3665      1   Monday   \n",
       "1    976      2443       3665         0        3665      4   Monday   \n",
       "2   1027      2463       3695         0        3695      2   Monday   \n",
       "3    880      2551       3827         0        3827      1   Monday   \n",
       "4    935      2573       3860         0        3860      2   Monday   \n",
       "5      0         0       7299         0        7299      1   Monday   \n",
       "6      0         0       7299         0        7299      1   Sunday   \n",
       "\n",
       "   Week day int formatted_date  \n",
       "0             0     01-08-2022  \n",
       "1             0     01-08-2022  \n",
       "2             0     01-08-2022  \n",
       "3             0     01-08-2022  \n",
       "4             0     01-08-2022  \n",
       "5             0     26-09-2022  \n",
       "6             6     02-10-2022  "
      ]
     },
     "execution_count": 132,
     "metadata": {},
     "output_type": "execute_result"
    }
   ],
   "source": [
    "#Add column with formatted_date dd-mm-yyyy\n",
    "formatted_date = []\n",
    "for i in range(10):\n",
    "    original_date = datetime.datetime.strptime(df2.iloc[i, 0], '%Y-%m-%d')\n",
    "    formatted_date.append(original_date.strftime(\"%d-%m-%Y\"))\n",
    "df2['formatted_date'] = formatted_date\n",
    "df2.head(7)"
   ]
  },
  {
   "cell_type": "markdown",
   "id": "8b53a301",
   "metadata": {},
   "source": [
    "The pie chart below show that Monday is the best day for sales:"
   ]
  },
  {
   "cell_type": "code",
   "execution_count": 133,
   "id": "2fad2ab8",
   "metadata": {
    "scrolled": true
   },
   "outputs": [
    {
     "data": {
      "text/plain": [
       "<Axes: ylabel='sales'>"
      ]
     },
     "execution_count": 133,
     "metadata": {},
     "output_type": "execute_result"
    },
    {
     "data": {
      "image/png": "[encoded data removed]",
      "text/plain": [
       "<Figure size 500x500 with 1 Axes>"
      ]
     },
     "metadata": {},
     "output_type": "display_data"
    }
   ],
   "source": [
    "t = df2.groupby(['Week day']).sum(['sales'])\n",
    "plot2 = t.plot.pie(y='sales', figsize=(5, 5))\n",
    "plot2"
   ]
  },
  {
   "cell_type": "markdown",
   "id": "7b898902",
   "metadata": {},
   "source": [
    "The bar graph shows the same:"
   ]
  },
  {
   "cell_type": "code",
   "execution_count": 134,
   "id": "3c5efea8",
   "metadata": {
    "scrolled": false
   },
   "outputs": [
    {
     "data": {
      "image/png": "[encoded data removed]",
      "text/plain": [
       "<Figure size 640x480 with 1 Axes>"
      ]
     },
     "metadata": {},
     "output_type": "display_data"
    }
   ],
   "source": [
    "a = df2.groupby(['Week day int']).sum(['sales'])\n",
    "\n",
    "list1 = []\n",
    "for i in range(len(a.index)):\n",
    "    list1.append(calendar.day_abbr[a.index[i]])\n",
    "\n",
    "plt.bar(list1, a['sales'])\n",
    "plt.show()"
   ]
  },
  {
   "cell_type": "markdown",
   "id": "22935463",
   "metadata": {},
   "source": [
    "Same conclusion with a pie chart:"
   ]
  },
  {
   "cell_type": "code",
   "execution_count": 135,
   "id": "47bf27b7",
   "metadata": {},
   "outputs": [
    {
     "data": {
      "text/plain": [
       "<Axes: ylabel='sales'>"
      ]
     },
     "execution_count": 135,
     "metadata": {},
     "output_type": "execute_result"
    },
    {
     "data": {
      "image/png": "[encoded data removed]",
      "text/plain": [
       "<Figure size 500x500 with 1 Axes>"
      ]
     },
     "metadata": {},
     "output_type": "display_data"
    }
   ],
   "source": [
    "plot = a.plot.pie(y='sales', figsize=(5, 5))\n",
    "plot"
   ]
  },
  {
   "cell_type": "markdown",
   "id": "243e30ed",
   "metadata": {},
   "source": [
    "Plotting scatter plots of numer of occurences per day of a specific offer_option_id"
   ]
  },
  {
   "cell_type": "code",
   "execution_count": 8,
   "id": "9a7522f3",
   "metadata": {
    "scrolled": false
   },
   "outputs": [
    {
     "data": {
      "image/png": "[encoded data removed]",
      "text/plain": [
       "<Figure size 640x480 with 1 Axes>"
      ]
     },
     "metadata": {},
     "output_type": "display_data"
    }
   ],
   "source": [
    "u = df2.loc[df2['offer_option_id'] == 2778975]['formatted_date'].value_counts()\n",
    "u = dict(u)\n",
    "plt.plot(u.keys(),u.values(), label = '2778975')\n",
    "plt.title('Number of occurrences per day offer_option_id = 2778975')\n",
    "plt.ylabel('Number of occurrences')\n",
    "plt.show()"
   ]
  },
  {
   "cell_type": "code",
   "execution_count": 9,
   "id": "7e84df34",
   "metadata": {},
   "outputs": [
    {
     "data": {
      "image/png": "[encoded data removed]",
      "text/plain": [
       "<Figure size 640x480 with 1 Axes>"
      ]
     },
     "metadata": {},
     "output_type": "display_data"
    }
   ],
   "source": [
    "y = df2.loc[df2['offer_option_id'] == 2778974]['formatted_date'].value_counts()\n",
    "y = dict(y)\n",
    "plt.plot(y.keys(),y.values(), label = '2778974', color = 'g')\n",
    "plt.title('Number of occurrences per day offer_option_id = 2778976')\n",
    "plt.ylabel('Number of occurrences')\n",
    "plt.show()"
   ]
  },
  {
   "cell_type": "code",
   "execution_count": 10,
   "id": "d7ca1e71",
   "metadata": {},
   "outputs": [
    {
     "data": {
      "image/png": "[encoded data removed]",
      "text/plain": [
       "<Figure size 640x480 with 1 Axes>"
      ]
     },
     "metadata": {},
     "output_type": "display_data"
    }
   ],
   "source": [
    "z = df2.loc[df2['offer_option_id'] == 2778976]['formatted_date'].value_counts()\n",
    "z = dict(z)\n",
    "plt.plot(z.keys(),z.values(), 'ro', label = '2778976')\n",
    "plt.title('Number of occurrences per day offer_option_id = 2778976')\n",
    "plt.ylabel('Number of occurrences')\n",
    "plt.show()"
   ]
  },
  {
   "cell_type": "code",
   "execution_count": 64,
   "id": "9eaf364d",
   "metadata": {},
   "outputs": [
    {
     "data": {
      "image/png": "[encoded data removed]",
      "text/plain": [
       "<Figure size 640x480 with 1 Axes>"
      ]
     },
     "metadata": {},
     "output_type": "display_data"
    }
   ],
   "source": [
    "plt.plot(u.keys(),u.values(), 'bs', label = '2778975')\n",
    "plt.plot(y.keys(),y.values(), 'g^', label = '2778974')\n",
    "plt.plot(z.keys(),z.values(), 'ro', label = '2778976')\n",
    "plt.title('Number of occurrences per day offer_option_id = 2778976')\n",
    "plt.ylabel('Number of occurrences')\n",
    "plt.legend()\n",
    "plt.show()"
   ]
  },
  {
   "cell_type": "markdown",
   "id": "68d9af40",
   "metadata": {},
   "source": [
    "Trying to understand the biggest interval in days between two different offers of a given offer_option id."
   ]
  },
  {
   "cell_type": "code",
   "execution_count": 22,
   "id": "b937dad2",
   "metadata": {},
   "outputs": [
    {
     "data": {
      "text/plain": [
       "Timedelta('4 days 00:00:00')"
      ]
     },
     "execution_count": 22,
     "metadata": {},
     "output_type": "execute_result"
    }
   ],
   "source": [
    "c = pd.to_datetime(df2.iloc[9,0])\n",
    "c-b"
   ]
  },
  {
   "cell_type": "code",
   "execution_count": 44,
   "id": "4ccb9a5b",
   "metadata": {},
   "outputs": [
    {
     "data": {
      "text/plain": [
       "pandas._libs.tslibs.timedeltas.Timedelta"
      ]
     },
     "execution_count": 44,
     "metadata": {},
     "output_type": "execute_result"
    }
   ],
   "source": [
    "d1 = np.abs(a-b)\n",
    "d2 = np.abs(c-b)\n",
    "max1 = max(d1,d2)\n",
    "type(max1)"
   ]
  },
  {
   "cell_type": "code",
   "execution_count": 47,
   "id": "017df0a9",
   "metadata": {},
   "outputs": [
    {
     "data": {
      "text/plain": [
       "int"
      ]
     },
     "execution_count": 47,
     "metadata": {},
     "output_type": "execute_result"
    }
   ],
   "source": [
    "type(max1.days)"
   ]
  },
  {
   "cell_type": "code",
   "execution_count": 48,
   "id": "3fca5647",
   "metadata": {},
   "outputs": [
    {
     "name": "stdout",
     "output_type": "stream",
     "text": [
      "For offer_id = 2778975, the delta between two offers is -64 days +00:00:00 and 4 days 00:00:00. The biggest interval between two offers is 64 days\n"
     ]
    }
   ],
   "source": [
    "#tentando calcular um delta\n",
    "a = pd.to_datetime(df2.iloc[0,0])\n",
    "b = pd.to_datetime(df2.iloc[7,0])\n",
    "c = pd.to_datetime(df2.iloc[9,0])\n",
    "biggest_delta = max(np.abs(a-b),np.abs(c-b))\n",
    "print(f\"For offer_id = 2778975, the delta between two offers is {a-b} and {c-b}. The biggest interval between two offers is {biggest_delta. days} days.\")"
   ]
  },
  {
   "cell_type": "code",
   "execution_count": 84,
   "id": "9b9dec70",
   "metadata": {},
   "outputs": [
    {
     "name": "stdout",
     "output_type": "stream",
     "text": [
      "64\n"
     ]
    }
   ],
   "source": [
    "dates = []\n",
    "for i in range(3):\n",
    "    o = pd.to_datetime(list(e.keys())[i])\n",
    "    dates.append(o)\n",
    "deltas = np.diff(dates)\n",
    "max_delta = max(deltas).days\n",
    "print(max_delta)"
   ]
  },
  {
   "cell_type": "code",
   "execution_count": 114,
   "id": "487fdefc",
   "metadata": {},
   "outputs": [],
   "source": [
    "def max_delta(df, offer_id):\n",
    "    ######\n",
    "    # Given a offer_option_id, that function that calculates the biggest interval in days \n",
    "    # between two different offers.\n",
    "    #\n",
    "    # df - pandas.Dataframe\n",
    "    # offer_id - int \n",
    "    ######\n",
    "    e = df.loc[df['offer_option_id'] == offer_id]['datebr'].value_counts().to_dict()\n",
    "    dates = []\n",
    "    for i in range(len(e)):\n",
    "        o = pd.to_datetime(list(e.keys())[i])\n",
    "        dates.append(o)\n",
    "    deltas = np.diff(dates)\n",
    "    if len(deltas)!= 0:\n",
    "        max_delta = max(deltas).days\n",
    "        print(f\"The biggest interval between two offers with 'offer_option_id' = {offer_id} is {max_delta} days.\")\n",
    "    else:\n",
    "        print(f\"The biggest interval between two offers with 'offer_option_id' = {offer_id} is 0 days.\")"
   ]
  },
  {
   "cell_type": "code",
   "execution_count": 115,
   "id": "4c937f07",
   "metadata": {},
   "outputs": [
    {
     "name": "stdout",
     "output_type": "stream",
     "text": [
      "The biggest interval between two offers with 'offer_option_id' = 2778975 is 64 days.\n"
     ]
    }
   ],
   "source": [
    "max_delta(df2, 2778975)"
   ]
  },
  {
   "cell_type": "code",
   "execution_count": 116,
   "id": "1e5e70d1",
   "metadata": {},
   "outputs": [
    {
     "name": "stdout",
     "output_type": "stream",
     "text": [
      "The biggest interval between two offers with 'offer_option_id' = 2778974 is 56 days.\n"
     ]
    }
   ],
   "source": [
    "max_delta(df2, 2778974)"
   ]
  },
  {
   "cell_type": "code",
   "execution_count": 117,
   "id": "f686b46c",
   "metadata": {},
   "outputs": [
    {
     "name": "stdout",
     "output_type": "stream",
     "text": [
      "The biggest interval between two offers with 'offer_option_id' = 2778976 is 0 days.\n"
     ]
    }
   ],
   "source": [
    "max_delta(df2, 2778976)"
   ]
  },
  {
   "cell_type": "code",
   "execution_count": 71,
   "id": "ccb9fef8",
   "metadata": {},
   "outputs": [
    {
     "data": {
      "text/plain": [
       "array([Timedelta('64 days 00:00:00'), Timedelta('4 days 00:00:00')],\n",
       "      dtype=object)"
      ]
     },
     "execution_count": 71,
     "metadata": {},
     "output_type": "execute_result"
    }
   ],
   "source": [
    "deltas[0]"
   ]
  },
  {
   "cell_type": "code",
   "execution_count": 83,
   "id": "8370f284",
   "metadata": {},
   "outputs": [
    {
     "data": {
      "text/plain": [
       "64"
      ]
     },
     "execution_count": 83,
     "metadata": {},
     "output_type": "execute_result"
    }
   ],
   "source": [
    "dlst = np.diff(dates)\n",
    "max(dlst).days"
   ]
  },
  {
   "cell_type": "code",
   "execution_count": 78,
   "id": "22f021a5",
   "metadata": {},
   "outputs": [
    {
     "data": {
      "text/plain": [
       "Timedelta('4 days 00:00:00')"
      ]
     },
     "execution_count": 78,
     "metadata": {},
     "output_type": "execute_result"
    }
   ],
   "source": [
    "dlst[1]"
   ]
  },
  {
   "cell_type": "code",
   "execution_count": 61,
   "id": "1438189a",
   "metadata": {},
   "outputs": [
    {
     "data": {
      "text/plain": [
       "pandas._libs.tslibs.timestamps.Timestamp"
      ]
     },
     "execution_count": 61,
     "metadata": {},
     "output_type": "execute_result"
    }
   ],
   "source": [
    "type(dates[0])"
   ]
  },
  {
   "cell_type": "code",
   "execution_count": 57,
   "id": "8fa2a17f",
   "metadata": {},
   "outputs": [
    {
     "data": {
      "text/plain": [
       "['2022-08-01', '2022-10-04', '2022-10-08']"
      ]
     },
     "execution_count": 57,
     "metadata": {},
     "output_type": "execute_result"
    }
   ],
   "source": [
    "list(e.keys())"
   ]
  },
  {
   "cell_type": "code",
   "execution_count": 31,
   "id": "0530cf5d",
   "metadata": {},
   "outputs": [
    {
     "data": {
      "text/html": [
       "<div>\n",
       "<style scoped>\n",
       "    .dataframe tbody tr th:only-of-type {\n",
       "        vertical-align: middle;\n",
       "    }\n",
       "\n",
       "    .dataframe tbody tr th {\n",
       "        vertical-align: top;\n",
       "    }\n",
       "\n",
       "    .dataframe thead th {\n",
       "        text-align: right;\n",
       "    }\n",
       "</style>\n",
       "<table border=\"1\" class=\"dataframe\">\n",
       "  <thead>\n",
       "    <tr style=\"text-align: right;\">\n",
       "      <th></th>\n",
       "      <th>datebr</th>\n",
       "      <th>sku</th>\n",
       "      <th>offer_option_id</th>\n",
       "      <th>offer_option_title</th>\n",
       "      <th>offer_option_description</th>\n",
       "      <th>product_name</th>\n",
       "      <th>destination_type</th>\n",
       "      <th>multidestino</th>\n",
       "      <th>year</th>\n",
       "      <th>package_date_format</th>\n",
       "      <th>destination_city</th>\n",
       "      <th>destination_state</th>\n",
       "      <th>destination_country</th>\n",
       "      <th>AttributeList</th>\n",
       "      <th>clicks</th>\n",
       "      <th>checkout</th>\n",
       "      <th>fullprice</th>\n",
       "      <th>yield</th>\n",
       "      <th>discount</th>\n",
       "      <th>realprice</th>\n",
       "      <th>interest</th>\n",
       "      <th>totalprice</th>\n",
       "      <th>sales</th>\n",
       "      <th>Week day</th>\n",
       "    </tr>\n",
       "  </thead>\n",
       "  <tbody>\n",
       "    <tr>\n",
       "      <th>0</th>\n",
       "      <td>2022-08-01</td>\n",
       "      <td>LGPKG-1139792</td>\n",
       "      <td>2778975</td>\n",
       "      <td>Aéreo de São Paulo</td>\n",
       "      <td>Aéreo ida e volta | Quarto Duplo ou Triplo | 8 Diárias (4 diárias em Lisboa + 4 diárias em Porto)</td>\n",
       "      <td>Pacote de Viagem - Lisboa + Porto - 2023</td>\n",
       "      <td>INT</td>\n",
       "      <td>True</td>\n",
       "      <td>2023.0</td>\n",
       "      <td>Data flexível</td>\n",
       "      <td>Lisboa + Porto</td>\n",
       "      <td>Lisboa</td>\n",
       "      <td>Portugal</td>\n",
       "      <td>Hospedagem Econômica,Passagem Aérea Econômica</td>\n",
       "      <td>1083.0</td>\n",
       "      <td>298.0</td>\n",
       "      <td>5132</td>\n",
       "      <td>976</td>\n",
       "      <td>2443</td>\n",
       "      <td>3665</td>\n",
       "      <td>0</td>\n",
       "      <td>3665</td>\n",
       "      <td>1</td>\n",
       "      <td>Monday</td>\n",
       "    </tr>\n",
       "    <tr>\n",
       "      <th>1</th>\n",
       "      <td>2022-08-01</td>\n",
       "      <td>LGPKG-1139792</td>\n",
       "      <td>2778974</td>\n",
       "      <td>Aéreo do Rio de Janeiro</td>\n",
       "      <td>Aéreo ida e volta | Quarto Duplo ou Triplo | 8 Diárias (4 diárias em Lisboa + 4 diárias em Porto)</td>\n",
       "      <td>Pacote de Viagem - Lisboa + Porto - 2023</td>\n",
       "      <td>INT</td>\n",
       "      <td>True</td>\n",
       "      <td>2023.0</td>\n",
       "      <td>Data flexível</td>\n",
       "      <td>Lisboa + Porto</td>\n",
       "      <td>Lisboa</td>\n",
       "      <td>Portugal</td>\n",
       "      <td>Hospedagem Econômica,Passagem Aérea Econômica</td>\n",
       "      <td>1083.0</td>\n",
       "      <td>298.0</td>\n",
       "      <td>5132</td>\n",
       "      <td>976</td>\n",
       "      <td>2443</td>\n",
       "      <td>3665</td>\n",
       "      <td>0</td>\n",
       "      <td>3665</td>\n",
       "      <td>4</td>\n",
       "      <td>Monday</td>\n",
       "    </tr>\n",
       "    <tr>\n",
       "      <th>2</th>\n",
       "      <td>2022-08-01</td>\n",
       "      <td>LGPKG-1139792</td>\n",
       "      <td>2778975</td>\n",
       "      <td>Aéreo de São Paulo</td>\n",
       "      <td>Aéreo ida e volta | Quarto Duplo ou Triplo | 8 Diárias (4 diárias em Lisboa + 4 diárias em Porto)</td>\n",
       "      <td>Pacote de Viagem - Lisboa + Porto - 2023</td>\n",
       "      <td>INT</td>\n",
       "      <td>True</td>\n",
       "      <td>2023.0</td>\n",
       "      <td>Data flexível</td>\n",
       "      <td>Lisboa + Porto</td>\n",
       "      <td>Lisboa</td>\n",
       "      <td>Portugal</td>\n",
       "      <td>Hospedagem Econômica,Passagem Aérea Econômica</td>\n",
       "      <td>1083.0</td>\n",
       "      <td>298.0</td>\n",
       "      <td>5132</td>\n",
       "      <td>1027</td>\n",
       "      <td>2463</td>\n",
       "      <td>3695</td>\n",
       "      <td>0</td>\n",
       "      <td>3695</td>\n",
       "      <td>2</td>\n",
       "      <td>Monday</td>\n",
       "    </tr>\n",
       "    <tr>\n",
       "      <th>3</th>\n",
       "      <td>2022-08-01</td>\n",
       "      <td>LGPKG-1139792</td>\n",
       "      <td>2778976</td>\n",
       "      <td>Aéreo de Belo Horizonte</td>\n",
       "      <td>Aéreo ida e volta | Quarto Duplo ou Triplo | 8 Diárias (4 diárias em Lisboa + 4 diárias em Porto)</td>\n",
       "      <td>Pacote de Viagem - Lisboa + Porto - 2023</td>\n",
       "      <td>INT</td>\n",
       "      <td>True</td>\n",
       "      <td>2023.0</td>\n",
       "      <td>Data flexível</td>\n",
       "      <td>Lisboa + Porto</td>\n",
       "      <td>Lisboa</td>\n",
       "      <td>Portugal</td>\n",
       "      <td>Hospedagem Econômica,Passagem Aérea Econômica</td>\n",
       "      <td>1083.0</td>\n",
       "      <td>298.0</td>\n",
       "      <td>5498</td>\n",
       "      <td>880</td>\n",
       "      <td>2551</td>\n",
       "      <td>3827</td>\n",
       "      <td>0</td>\n",
       "      <td>3827</td>\n",
       "      <td>1</td>\n",
       "      <td>Monday</td>\n",
       "    </tr>\n",
       "    <tr>\n",
       "      <th>4</th>\n",
       "      <td>2022-08-01</td>\n",
       "      <td>LGPKG-1139792</td>\n",
       "      <td>2778976</td>\n",
       "      <td>Aéreo de Belo Horizonte</td>\n",
       "      <td>Aéreo ida e volta | Quarto Duplo ou Triplo | 8 Diárias (4 diárias em Lisboa + 4 diárias em Porto)</td>\n",
       "      <td>Pacote de Viagem - Lisboa + Porto - 2023</td>\n",
       "      <td>INT</td>\n",
       "      <td>True</td>\n",
       "      <td>2023.0</td>\n",
       "      <td>Data flexível</td>\n",
       "      <td>Lisboa + Porto</td>\n",
       "      <td>Lisboa</td>\n",
       "      <td>Portugal</td>\n",
       "      <td>Hospedagem Econômica,Passagem Aérea Econômica</td>\n",
       "      <td>1083.0</td>\n",
       "      <td>298.0</td>\n",
       "      <td>5498</td>\n",
       "      <td>935</td>\n",
       "      <td>2573</td>\n",
       "      <td>3860</td>\n",
       "      <td>0</td>\n",
       "      <td>3860</td>\n",
       "      <td>2</td>\n",
       "      <td>Monday</td>\n",
       "    </tr>\n",
       "    <tr>\n",
       "      <th>5</th>\n",
       "      <td>2022-09-26</td>\n",
       "      <td>LGPKG-1139792</td>\n",
       "      <td>2778974</td>\n",
       "      <td>Aéreo do Rio de Janeiro</td>\n",
       "      <td>Aéreo ida e volta | Quarto Duplo ou Triplo | 8 Diárias (4 diárias em Lisboa + 4 diárias em Porto)</td>\n",
       "      <td>Pacote de Viagem - Lisboa + Porto - Segundo Semestre 2023</td>\n",
       "      <td>INT</td>\n",
       "      <td>True</td>\n",
       "      <td>2023.0</td>\n",
       "      <td>Data flexível</td>\n",
       "      <td>Lisboa + Porto</td>\n",
       "      <td>Lisboa</td>\n",
       "      <td>Portugal</td>\n",
       "      <td>Hospedagem Econômica,Passagem Aérea Econômica</td>\n",
       "      <td>121.0</td>\n",
       "      <td>20.0</td>\n",
       "      <td>7299</td>\n",
       "      <td>0</td>\n",
       "      <td>0</td>\n",
       "      <td>7299</td>\n",
       "      <td>0</td>\n",
       "      <td>7299</td>\n",
       "      <td>1</td>\n",
       "      <td>Monday</td>\n",
       "    </tr>\n",
       "    <tr>\n",
       "      <th>6</th>\n",
       "      <td>2022-10-02</td>\n",
       "      <td>LGPKG-1139792</td>\n",
       "      <td>2778974</td>\n",
       "      <td>Aéreo do Rio de Janeiro</td>\n",
       "      <td>Aéreo ida e volta | Quarto Duplo ou Triplo | 8 Diárias (4 diárias em Lisboa + 4 diárias em Porto)</td>\n",
       "      <td>Pacote de Viagem - Lisboa + Porto - Segundo Semestre 2023</td>\n",
       "      <td>INT</td>\n",
       "      <td>True</td>\n",
       "      <td>2023.0</td>\n",
       "      <td>Data flexível</td>\n",
       "      <td>Lisboa + Porto</td>\n",
       "      <td>Lisboa</td>\n",
       "      <td>Portugal</td>\n",
       "      <td>Hospedagem Econômica,Passagem Aérea Econômica</td>\n",
       "      <td>145.0</td>\n",
       "      <td>22.0</td>\n",
       "      <td>7299</td>\n",
       "      <td>0</td>\n",
       "      <td>0</td>\n",
       "      <td>7299</td>\n",
       "      <td>0</td>\n",
       "      <td>7299</td>\n",
       "      <td>1</td>\n",
       "      <td>Sunday</td>\n",
       "    </tr>\n",
       "    <tr>\n",
       "      <th>7</th>\n",
       "      <td>2022-10-04</td>\n",
       "      <td>LGPKG-1139792</td>\n",
       "      <td>2778975</td>\n",
       "      <td>Aéreo de São Paulo</td>\n",
       "      <td>Aéreo ida e volta | Quarto Duplo ou Triplo | 8 Diárias (4 diárias em Lisboa + 4 diárias em Porto)</td>\n",
       "      <td>Pacote de Viagem - Lisboa + Porto - Segundo Semestre 2023</td>\n",
       "      <td>INT</td>\n",
       "      <td>True</td>\n",
       "      <td>2023.0</td>\n",
       "      <td>Data flexível</td>\n",
       "      <td>Lisboa + Porto</td>\n",
       "      <td>Lisboa</td>\n",
       "      <td>Portugal</td>\n",
       "      <td>Hospedagem Econômica,Passagem Aérea Econômica</td>\n",
       "      <td>149.0</td>\n",
       "      <td>26.0</td>\n",
       "      <td>7299</td>\n",
       "      <td>0</td>\n",
       "      <td>0</td>\n",
       "      <td>7299</td>\n",
       "      <td>0</td>\n",
       "      <td>7299</td>\n",
       "      <td>1</td>\n",
       "      <td>Tuesday</td>\n",
       "    </tr>\n",
       "    <tr>\n",
       "      <th>8</th>\n",
       "      <td>2022-10-04</td>\n",
       "      <td>LGPKG-1139792</td>\n",
       "      <td>2778974</td>\n",
       "      <td>Aéreo do Rio de Janeiro</td>\n",
       "      <td>Aéreo ida e volta | Quarto Duplo ou Triplo | 8 Diárias (4 diárias em Lisboa + 4 diárias em Porto)</td>\n",
       "      <td>Pacote de Viagem - Lisboa + Porto - Segundo Semestre 2023</td>\n",
       "      <td>INT</td>\n",
       "      <td>True</td>\n",
       "      <td>2023.0</td>\n",
       "      <td>Data flexível</td>\n",
       "      <td>Lisboa + Porto</td>\n",
       "      <td>Lisboa</td>\n",
       "      <td>Portugal</td>\n",
       "      <td>Hospedagem Econômica,Passagem Aérea Econômica</td>\n",
       "      <td>149.0</td>\n",
       "      <td>26.0</td>\n",
       "      <td>7299</td>\n",
       "      <td>0</td>\n",
       "      <td>0</td>\n",
       "      <td>7299</td>\n",
       "      <td>0</td>\n",
       "      <td>7299</td>\n",
       "      <td>1</td>\n",
       "      <td>Tuesday</td>\n",
       "    </tr>\n",
       "    <tr>\n",
       "      <th>9</th>\n",
       "      <td>2022-10-08</td>\n",
       "      <td>LGPKG-1139792</td>\n",
       "      <td>2778975</td>\n",
       "      <td>Aéreo de São Paulo</td>\n",
       "      <td>Aéreo ida e volta | Quarto Duplo ou Triplo | 8 Diárias (4 diárias em Lisboa + 4 diárias em Porto)</td>\n",
       "      <td>Pacote de Viagem - Lisboa + Porto - Segundo Semestre 2023</td>\n",
       "      <td>INT</td>\n",
       "      <td>True</td>\n",
       "      <td>2023.0</td>\n",
       "      <td>Data flexível</td>\n",
       "      <td>Lisboa + Porto</td>\n",
       "      <td>Lisboa</td>\n",
       "      <td>Portugal</td>\n",
       "      <td>Hospedagem Econômica,Passagem Aérea Econômica</td>\n",
       "      <td>100.0</td>\n",
       "      <td>9.0</td>\n",
       "      <td>7299</td>\n",
       "      <td>1314</td>\n",
       "      <td>0</td>\n",
       "      <td>8613</td>\n",
       "      <td>0</td>\n",
       "      <td>8613</td>\n",
       "      <td>1</td>\n",
       "      <td>Saturday</td>\n",
       "    </tr>\n",
       "  </tbody>\n",
       "</table>\n",
       "</div>"
      ],
      "text/plain": [
       "       datebr            sku  offer_option_id       offer_option_title  \\\n",
       "0  2022-08-01  LGPKG-1139792          2778975       Aéreo de São Paulo   \n",
       "1  2022-08-01  LGPKG-1139792          2778974  Aéreo do Rio de Janeiro   \n",
       "2  2022-08-01  LGPKG-1139792          2778975       Aéreo de São Paulo   \n",
       "3  2022-08-01  LGPKG-1139792          2778976  Aéreo de Belo Horizonte   \n",
       "4  2022-08-01  LGPKG-1139792          2778976  Aéreo de Belo Horizonte   \n",
       "5  2022-09-26  LGPKG-1139792          2778974  Aéreo do Rio de Janeiro   \n",
       "6  2022-10-02  LGPKG-1139792          2778974  Aéreo do Rio de Janeiro   \n",
       "7  2022-10-04  LGPKG-1139792          2778975       Aéreo de São Paulo   \n",
       "8  2022-10-04  LGPKG-1139792          2778974  Aéreo do Rio de Janeiro   \n",
       "9  2022-10-08  LGPKG-1139792          2778975       Aéreo de São Paulo   \n",
       "\n",
       "                                                                            offer_option_description  \\\n",
       "0  Aéreo ida e volta | Quarto Duplo ou Triplo | 8 Diárias (4 diárias em Lisboa + 4 diárias em Porto)   \n",
       "1  Aéreo ida e volta | Quarto Duplo ou Triplo | 8 Diárias (4 diárias em Lisboa + 4 diárias em Porto)   \n",
       "2  Aéreo ida e volta | Quarto Duplo ou Triplo | 8 Diárias (4 diárias em Lisboa + 4 diárias em Porto)   \n",
       "3  Aéreo ida e volta | Quarto Duplo ou Triplo | 8 Diárias (4 diárias em Lisboa + 4 diárias em Porto)   \n",
       "4  Aéreo ida e volta | Quarto Duplo ou Triplo | 8 Diárias (4 diárias em Lisboa + 4 diárias em Porto)   \n",
       "5  Aéreo ida e volta | Quarto Duplo ou Triplo | 8 Diárias (4 diárias em Lisboa + 4 diárias em Porto)   \n",
       "6  Aéreo ida e volta | Quarto Duplo ou Triplo | 8 Diárias (4 diárias em Lisboa + 4 diárias em Porto)   \n",
       "7  Aéreo ida e volta | Quarto Duplo ou Triplo | 8 Diárias (4 diárias em Lisboa + 4 diárias em Porto)   \n",
       "8  Aéreo ida e volta | Quarto Duplo ou Triplo | 8 Diárias (4 diárias em Lisboa + 4 diárias em Porto)   \n",
       "9  Aéreo ida e volta | Quarto Duplo ou Triplo | 8 Diárias (4 diárias em Lisboa + 4 diárias em Porto)   \n",
       "\n",
       "                                                product_name destination_type  \\\n",
       "0                   Pacote de Viagem - Lisboa + Porto - 2023              INT   \n",
       "1                   Pacote de Viagem - Lisboa + Porto - 2023              INT   \n",
       "2                   Pacote de Viagem - Lisboa + Porto - 2023              INT   \n",
       "3                   Pacote de Viagem - Lisboa + Porto - 2023              INT   \n",
       "4                   Pacote de Viagem - Lisboa + Porto - 2023              INT   \n",
       "5  Pacote de Viagem - Lisboa + Porto - Segundo Semestre 2023              INT   \n",
       "6  Pacote de Viagem - Lisboa + Porto - Segundo Semestre 2023              INT   \n",
       "7  Pacote de Viagem - Lisboa + Porto - Segundo Semestre 2023              INT   \n",
       "8  Pacote de Viagem - Lisboa + Porto - Segundo Semestre 2023              INT   \n",
       "9  Pacote de Viagem - Lisboa + Porto - Segundo Semestre 2023              INT   \n",
       "\n",
       "   multidestino    year package_date_format destination_city  \\\n",
       "0          True  2023.0       Data flexível   Lisboa + Porto   \n",
       "1          True  2023.0       Data flexível   Lisboa + Porto   \n",
       "2          True  2023.0       Data flexível   Lisboa + Porto   \n",
       "3          True  2023.0       Data flexível   Lisboa + Porto   \n",
       "4          True  2023.0       Data flexível   Lisboa + Porto   \n",
       "5          True  2023.0       Data flexível   Lisboa + Porto   \n",
       "6          True  2023.0       Data flexível   Lisboa + Porto   \n",
       "7          True  2023.0       Data flexível   Lisboa + Porto   \n",
       "8          True  2023.0       Data flexível   Lisboa + Porto   \n",
       "9          True  2023.0       Data flexível   Lisboa + Porto   \n",
       "\n",
       "  destination_state destination_country  \\\n",
       "0            Lisboa            Portugal   \n",
       "1            Lisboa            Portugal   \n",
       "2            Lisboa            Portugal   \n",
       "3            Lisboa            Portugal   \n",
       "4            Lisboa            Portugal   \n",
       "5            Lisboa            Portugal   \n",
       "6            Lisboa            Portugal   \n",
       "7            Lisboa            Portugal   \n",
       "8            Lisboa            Portugal   \n",
       "9            Lisboa            Portugal   \n",
       "\n",
       "                                   AttributeList  clicks  checkout  fullprice  \\\n",
       "0  Hospedagem Econômica,Passagem Aérea Econômica  1083.0     298.0       5132   \n",
       "1  Hospedagem Econômica,Passagem Aérea Econômica  1083.0     298.0       5132   \n",
       "2  Hospedagem Econômica,Passagem Aérea Econômica  1083.0     298.0       5132   \n",
       "3  Hospedagem Econômica,Passagem Aérea Econômica  1083.0     298.0       5498   \n",
       "4  Hospedagem Econômica,Passagem Aérea Econômica  1083.0     298.0       5498   \n",
       "5  Hospedagem Econômica,Passagem Aérea Econômica   121.0      20.0       7299   \n",
       "6  Hospedagem Econômica,Passagem Aérea Econômica   145.0      22.0       7299   \n",
       "7  Hospedagem Econômica,Passagem Aérea Econômica   149.0      26.0       7299   \n",
       "8  Hospedagem Econômica,Passagem Aérea Econômica   149.0      26.0       7299   \n",
       "9  Hospedagem Econômica,Passagem Aérea Econômica   100.0       9.0       7299   \n",
       "\n",
       "   yield  discount  realprice  interest  totalprice  sales  Week day  \n",
       "0    976      2443       3665         0        3665      1    Monday  \n",
       "1    976      2443       3665         0        3665      4    Monday  \n",
       "2   1027      2463       3695         0        3695      2    Monday  \n",
       "3    880      2551       3827         0        3827      1    Monday  \n",
       "4    935      2573       3860         0        3860      2    Monday  \n",
       "5      0         0       7299         0        7299      1    Monday  \n",
       "6      0         0       7299         0        7299      1    Sunday  \n",
       "7      0         0       7299         0        7299      1   Tuesday  \n",
       "8      0         0       7299         0        7299      1   Tuesday  \n",
       "9   1314         0       8613         0        8613      1  Saturday  "
      ]
     },
     "execution_count": 31,
     "metadata": {},
     "output_type": "execute_result"
    }
   ],
   "source": [
    "df2"
   ]
  },
  {
   "cell_type": "code",
   "execution_count": 53,
   "id": "46b8f6aa",
   "metadata": {},
   "outputs": [
    {
     "data": {
      "text/plain": [
       "{'2022-08-01': 2, '2022-10-04': 1, '2022-10-08': 1}"
      ]
     },
     "execution_count": 53,
     "metadata": {},
     "output_type": "execute_result"
    }
   ],
   "source": [
    "e = df2.loc[df2['offer_option_id'] == 2778975]['datebr'].value_counts().to_dict()\n",
    "e"
   ]
  },
  {
   "cell_type": "code",
   "execution_count": 90,
   "id": "d48e4f44",
   "metadata": {},
   "outputs": [
    {
     "data": {
      "text/plain": [
       "3"
      ]
     },
     "execution_count": 90,
     "metadata": {},
     "output_type": "execute_result"
    }
   ],
   "source": [
    "len(e)"
   ]
  },
  {
   "cell_type": "code",
   "execution_count": 135,
   "id": "f0fea3c6",
   "metadata": {},
   "outputs": [
    {
     "data": {
      "text/plain": [
       "01-08-2022    2\n",
       "04-10-2022    1\n",
       "08-10-2022    1\n",
       "Name: formatted_date, dtype: int64"
      ]
     },
     "execution_count": 135,
     "metadata": {},
     "output_type": "execute_result"
    }
   ],
   "source": [
    "u = df2.loc[df2['offer_option_id'] == 2778975]['formatted_date'].value_counts()\n",
    "u"
   ]
  },
  {
   "cell_type": "code",
   "execution_count": 66,
   "id": "41e23e1e",
   "metadata": {},
   "outputs": [
    {
     "name": "stdout",
     "output_type": "stream",
     "text": [
      "2\n"
     ]
    }
   ],
   "source": [
    "print(np.count_nonzero(df2[0:5]['offer_option_id'] == 2778975))"
   ]
  },
  {
   "cell_type": "code",
   "execution_count": 67,
   "id": "5cb09114",
   "metadata": {
    "scrolled": true
   },
   "outputs": [
    {
     "name": "stdout",
     "output_type": "stream",
     "text": [
      "2\n"
     ]
    }
   ],
   "source": [
    "print(np.count_nonzero(df2[5:10]['offer_option_id'] == 2778975))"
   ]
  },
  {
   "cell_type": "code",
   "execution_count": 60,
   "id": "b1506d99",
   "metadata": {},
   "outputs": [
    {
     "data": {
      "text/plain": [
       "[0, 1]"
      ]
     },
     "execution_count": 60,
     "metadata": {},
     "output_type": "execute_result"
    }
   ],
   "source": [
    "list(range(2))"
   ]
  },
  {
   "cell_type": "code",
   "execution_count": 69,
   "id": "ef708d64",
   "metadata": {
    "scrolled": false
   },
   "outputs": [
    {
     "name": "stdout",
     "output_type": "stream",
     "text": [
      "The package '2778975' occurred 2 times in 0-th window.\n",
      "The package '2778975' occurred 2 times in 1-th window.\n"
     ]
    }
   ],
   "source": [
    "for i in [0,1]:\n",
    "    ocorr_wind = np.count_nonzero(df2[5*i:5*(i+1)]['offer_option_id'] == 2778975)\n",
    "    print(f\"The package '2778975' occurred {ocorr_wind} times in {i}-th window.\")"
   ]
  },
  {
   "cell_type": "code",
   "execution_count": 77,
   "id": "1f380861",
   "metadata": {},
   "outputs": [
    {
     "data": {
      "text/plain": [
       "[4, 4, 2]"
      ]
     },
     "execution_count": 77,
     "metadata": {},
     "output_type": "execute_result"
    }
   ],
   "source": [
    "list(df2['offer_option_id'].value_counts())"
   ]
  },
  {
   "cell_type": "code",
   "execution_count": 80,
   "id": "39dd3fef",
   "metadata": {
    "scrolled": true
   },
   "outputs": [
    {
     "data": {
      "text/plain": [
       "2778975    4\n",
       "2778974    4\n",
       "2778976    2\n",
       "Name: offer_option_id, dtype: int64"
      ]
     },
     "execution_count": 80,
     "metadata": {},
     "output_type": "execute_result"
    }
   ],
   "source": [
    "df2['offer_option_id'].value_counts()"
   ]
  },
  {
   "cell_type": "code",
   "execution_count": 81,
   "id": "b46aa7be",
   "metadata": {},
   "outputs": [
    {
     "data": {
      "text/plain": [
       "2778975    2\n",
       "2778976    2\n",
       "2778974    1\n",
       "Name: offer_option_id, dtype: int64"
      ]
     },
     "execution_count": 81,
     "metadata": {},
     "output_type": "execute_result"
    }
   ],
   "source": [
    "#Conta o número de ocorrências para cada valor possível de offer_option_id\n",
    "df2[0:5]['offer_option_id'].value_counts()"
   ]
  },
  {
   "cell_type": "code",
   "execution_count": 86,
   "id": "a2a49fd9",
   "metadata": {},
   "outputs": [
    {
     "data": {
      "text/plain": [
       "2778974    3\n",
       "2778975    2\n",
       "Name: offer_option_id, dtype: int64"
      ]
     },
     "execution_count": 86,
     "metadata": {},
     "output_type": "execute_result"
    }
   ],
   "source": [
    "#Conta o número de ocorrências para cada valor possível de offer_option_id\n",
    "df2[5:10]['offer_option_id'].value_counts()"
   ]
  },
  {
   "cell_type": "code",
   "execution_count": 93,
   "id": "1c4128ea",
   "metadata": {},
   "outputs": [
    {
     "data": {
      "text/plain": [
       "{2778975: 2, 2778976: 2, 2778974: 1}"
      ]
     },
     "execution_count": 93,
     "metadata": {},
     "output_type": "execute_result"
    }
   ],
   "source": [
    "a1 = df2[0:5]['offer_option_id'].value_counts()\n",
    "b1 = a1.to_dict()\n",
    "b1"
   ]
  },
  {
   "cell_type": "code",
   "execution_count": 92,
   "id": "6d0b7bba",
   "metadata": {},
   "outputs": [
    {
     "data": {
      "text/plain": [
       "{2778974: 3, 2778975: 2}"
      ]
     },
     "execution_count": 92,
     "metadata": {},
     "output_type": "execute_result"
    }
   ],
   "source": [
    "a2 = df2[5:10]['offer_option_id'].value_counts()\n",
    "b2 = a2.to_dict()\n",
    "b2"
   ]
  },
  {
   "cell_type": "code",
   "execution_count": 33,
   "id": "5a0ed6d5",
   "metadata": {},
   "outputs": [
    {
     "data": {
      "text/html": [
       "<div>\n",
       "<style scoped>\n",
       "    .dataframe tbody tr th:only-of-type {\n",
       "        vertical-align: middle;\n",
       "    }\n",
       "\n",
       "    .dataframe tbody tr th {\n",
       "        vertical-align: top;\n",
       "    }\n",
       "\n",
       "    .dataframe thead th {\n",
       "        text-align: right;\n",
       "    }\n",
       "</style>\n",
       "<table border=\"1\" class=\"dataframe\">\n",
       "  <thead>\n",
       "    <tr style=\"text-align: right;\">\n",
       "      <th></th>\n",
       "      <th>Unnamed: 0</th>\n",
       "      <th>multidestino</th>\n",
       "      <th>year</th>\n",
       "      <th>clicks</th>\n",
       "      <th>checkout</th>\n",
       "      <th>fullprice</th>\n",
       "      <th>yield</th>\n",
       "      <th>discount</th>\n",
       "      <th>realprice</th>\n",
       "      <th>interest</th>\n",
       "      <th>totalprice</th>\n",
       "      <th>sales</th>\n",
       "    </tr>\n",
       "    <tr>\n",
       "      <th>offer_option_id</th>\n",
       "      <th></th>\n",
       "      <th></th>\n",
       "      <th></th>\n",
       "      <th></th>\n",
       "      <th></th>\n",
       "      <th></th>\n",
       "      <th></th>\n",
       "      <th></th>\n",
       "      <th></th>\n",
       "      <th></th>\n",
       "      <th></th>\n",
       "      <th></th>\n",
       "    </tr>\n",
       "  </thead>\n",
       "  <tbody>\n",
       "    <tr>\n",
       "      <th>2778974</th>\n",
       "      <td>15634.25</td>\n",
       "      <td>1.0</td>\n",
       "      <td>2023.0</td>\n",
       "      <td>374.50</td>\n",
       "      <td>91.50</td>\n",
       "      <td>6757.25</td>\n",
       "      <td>244.00</td>\n",
       "      <td>610.75</td>\n",
       "      <td>6390.5</td>\n",
       "      <td>0.0</td>\n",
       "      <td>6390.5</td>\n",
       "      <td>1.75</td>\n",
       "    </tr>\n",
       "    <tr>\n",
       "      <th>2778975</th>\n",
       "      <td>11103.00</td>\n",
       "      <td>1.0</td>\n",
       "      <td>2023.0</td>\n",
       "      <td>603.75</td>\n",
       "      <td>157.75</td>\n",
       "      <td>6215.50</td>\n",
       "      <td>829.25</td>\n",
       "      <td>1226.50</td>\n",
       "      <td>5818.0</td>\n",
       "      <td>0.0</td>\n",
       "      <td>5818.0</td>\n",
       "      <td>1.25</td>\n",
       "    </tr>\n",
       "    <tr>\n",
       "      <th>2778976</th>\n",
       "      <td>100.50</td>\n",
       "      <td>1.0</td>\n",
       "      <td>2023.0</td>\n",
       "      <td>1083.00</td>\n",
       "      <td>298.00</td>\n",
       "      <td>5498.00</td>\n",
       "      <td>907.50</td>\n",
       "      <td>2562.00</td>\n",
       "      <td>3843.5</td>\n",
       "      <td>0.0</td>\n",
       "      <td>3843.5</td>\n",
       "      <td>1.50</td>\n",
       "    </tr>\n",
       "  </tbody>\n",
       "</table>\n",
       "</div>"
      ],
      "text/plain": [
       "                 Unnamed: 0  multidestino    year   clicks  checkout  \\\n",
       "offer_option_id                                                        \n",
       "2778974            15634.25           1.0  2023.0   374.50     91.50   \n",
       "2778975            11103.00           1.0  2023.0   603.75    157.75   \n",
       "2778976              100.50           1.0  2023.0  1083.00    298.00   \n",
       "\n",
       "                 fullprice   yield  discount  realprice  interest  totalprice  \\\n",
       "offer_option_id                                                                 \n",
       "2778974            6757.25  244.00    610.75     6390.5       0.0      6390.5   \n",
       "2778975            6215.50  829.25   1226.50     5818.0       0.0      5818.0   \n",
       "2778976            5498.00  907.50   2562.00     3843.5       0.0      3843.5   \n",
       "\n",
       "                 sales  \n",
       "offer_option_id         \n",
       "2778974           1.75  \n",
       "2778975           1.25  \n",
       "2778976           1.50  "
      ]
     },
     "execution_count": 33,
     "metadata": {},
     "output_type": "execute_result"
    }
   ],
   "source": [
    "df.groupby(['offer_option_id']).mean()"
   ]
  },
  {
   "cell_type": "code",
   "execution_count": 28,
   "id": "09075639",
   "metadata": {},
   "outputs": [
    {
     "name": "stderr",
     "output_type": "stream",
     "text": [
      "C:\\Users\\user\\AppData\\Local\\Temp\\ipykernel_8980\\3599331400.py:1: FutureWarning: The default value of numeric_only in DataFrameGroupBy.sum is deprecated. In a future version, numeric_only will default to False. Either specify numeric_only or select only columns which should be valid for the function.\n",
      "  df.groupby(['offer_option_id']).sum()\n"
     ]
    },
    {
     "data": {
      "text/html": [
       "<div>\n",
       "<style scoped>\n",
       "    .dataframe tbody tr th:only-of-type {\n",
       "        vertical-align: middle;\n",
       "    }\n",
       "\n",
       "    .dataframe tbody tr th {\n",
       "        vertical-align: top;\n",
       "    }\n",
       "\n",
       "    .dataframe thead th {\n",
       "        text-align: right;\n",
       "    }\n",
       "</style>\n",
       "<table border=\"1\" class=\"dataframe\">\n",
       "  <thead>\n",
       "    <tr style=\"text-align: right;\">\n",
       "      <th></th>\n",
       "      <th>Unnamed: 0</th>\n",
       "      <th>multidestino</th>\n",
       "      <th>year</th>\n",
       "      <th>clicks</th>\n",
       "      <th>checkout</th>\n",
       "      <th>fullprice</th>\n",
       "      <th>yield</th>\n",
       "      <th>discount</th>\n",
       "      <th>realprice</th>\n",
       "      <th>interest</th>\n",
       "      <th>totalprice</th>\n",
       "      <th>sales</th>\n",
       "    </tr>\n",
       "    <tr>\n",
       "      <th>offer_option_id</th>\n",
       "      <th></th>\n",
       "      <th></th>\n",
       "      <th></th>\n",
       "      <th></th>\n",
       "      <th></th>\n",
       "      <th></th>\n",
       "      <th></th>\n",
       "      <th></th>\n",
       "      <th></th>\n",
       "      <th></th>\n",
       "      <th></th>\n",
       "      <th></th>\n",
       "    </tr>\n",
       "  </thead>\n",
       "  <tbody>\n",
       "    <tr>\n",
       "      <th>2778974</th>\n",
       "      <td>62537</td>\n",
       "      <td>4</td>\n",
       "      <td>8092.0</td>\n",
       "      <td>1498.0</td>\n",
       "      <td>366.0</td>\n",
       "      <td>27029</td>\n",
       "      <td>976</td>\n",
       "      <td>2443</td>\n",
       "      <td>25562</td>\n",
       "      <td>0</td>\n",
       "      <td>25562</td>\n",
       "      <td>7</td>\n",
       "    </tr>\n",
       "    <tr>\n",
       "      <th>2778975</th>\n",
       "      <td>44412</td>\n",
       "      <td>4</td>\n",
       "      <td>8092.0</td>\n",
       "      <td>2415.0</td>\n",
       "      <td>631.0</td>\n",
       "      <td>24862</td>\n",
       "      <td>3317</td>\n",
       "      <td>4906</td>\n",
       "      <td>23272</td>\n",
       "      <td>0</td>\n",
       "      <td>23272</td>\n",
       "      <td>5</td>\n",
       "    </tr>\n",
       "    <tr>\n",
       "      <th>2778976</th>\n",
       "      <td>201</td>\n",
       "      <td>2</td>\n",
       "      <td>4046.0</td>\n",
       "      <td>2166.0</td>\n",
       "      <td>596.0</td>\n",
       "      <td>10996</td>\n",
       "      <td>1815</td>\n",
       "      <td>5124</td>\n",
       "      <td>7687</td>\n",
       "      <td>0</td>\n",
       "      <td>7687</td>\n",
       "      <td>3</td>\n",
       "    </tr>\n",
       "  </tbody>\n",
       "</table>\n",
       "</div>"
      ],
      "text/plain": [
       "                 Unnamed: 0  multidestino    year  clicks  checkout  \\\n",
       "offer_option_id                                                       \n",
       "2778974               62537             4  8092.0  1498.0     366.0   \n",
       "2778975               44412             4  8092.0  2415.0     631.0   \n",
       "2778976                 201             2  4046.0  2166.0     596.0   \n",
       "\n",
       "                 fullprice  yield  discount  realprice  interest  totalprice  \\\n",
       "offer_option_id                                                                \n",
       "2778974              27029    976      2443      25562         0       25562   \n",
       "2778975              24862   3317      4906      23272         0       23272   \n",
       "2778976              10996   1815      5124       7687         0        7687   \n",
       "\n",
       "                 sales  \n",
       "offer_option_id         \n",
       "2778974              7  \n",
       "2778975              5  \n",
       "2778976              3  "
      ]
     },
     "execution_count": 28,
     "metadata": {},
     "output_type": "execute_result"
    }
   ],
   "source": [
    "df.groupby(['offer_option_id']).sum()"
   ]
  },
  {
   "cell_type": "code",
   "execution_count": 26,
   "id": "87e27513",
   "metadata": {},
   "outputs": [
    {
     "data": {
      "text/html": [
       "<div>\n",
       "<style scoped>\n",
       "    .dataframe tbody tr th:only-of-type {\n",
       "        vertical-align: middle;\n",
       "    }\n",
       "\n",
       "    .dataframe tbody tr th {\n",
       "        vertical-align: top;\n",
       "    }\n",
       "\n",
       "    .dataframe thead th {\n",
       "        text-align: right;\n",
       "    }\n",
       "</style>\n",
       "<table border=\"1\" class=\"dataframe\">\n",
       "  <thead>\n",
       "    <tr style=\"text-align: right;\">\n",
       "      <th></th>\n",
       "      <th>datebr</th>\n",
       "      <th>sku</th>\n",
       "      <th>offer_option_id</th>\n",
       "      <th>offer_option_title</th>\n",
       "      <th>offer_option_description</th>\n",
       "      <th>product_name</th>\n",
       "      <th>destination_type</th>\n",
       "      <th>multidestino</th>\n",
       "      <th>year</th>\n",
       "      <th>package_date_format</th>\n",
       "      <th>destination_city</th>\n",
       "      <th>destination_state</th>\n",
       "      <th>destination_country</th>\n",
       "      <th>AttributeList</th>\n",
       "      <th>clicks</th>\n",
       "      <th>checkout</th>\n",
       "      <th>fullprice</th>\n",
       "      <th>yield</th>\n",
       "      <th>discount</th>\n",
       "      <th>realprice</th>\n",
       "      <th>interest</th>\n",
       "      <th>totalprice</th>\n",
       "      <th>sales</th>\n",
       "      <th>Week day</th>\n",
       "    </tr>\n",
       "  </thead>\n",
       "  <tbody>\n",
       "    <tr>\n",
       "      <th>1</th>\n",
       "      <td>2022-08-01</td>\n",
       "      <td>LGPKG-1139792</td>\n",
       "      <td>2778974</td>\n",
       "      <td>Aéreo do Rio de Janeiro</td>\n",
       "      <td>Aéreo ida e volta | Quarto Duplo ou Triplo | 8 Diárias (4 diárias em Lisboa + 4 diárias em Porto)</td>\n",
       "      <td>Pacote de Viagem - Lisboa + Porto - 2023</td>\n",
       "      <td>INT</td>\n",
       "      <td>True</td>\n",
       "      <td>2023.0</td>\n",
       "      <td>Data flexível</td>\n",
       "      <td>Lisboa + Porto</td>\n",
       "      <td>Lisboa</td>\n",
       "      <td>Portugal</td>\n",
       "      <td>Hospedagem Econômica,Passagem Aérea Econômica</td>\n",
       "      <td>1083.0</td>\n",
       "      <td>298.0</td>\n",
       "      <td>5132</td>\n",
       "      <td>976</td>\n",
       "      <td>2443</td>\n",
       "      <td>3665</td>\n",
       "      <td>0</td>\n",
       "      <td>3665</td>\n",
       "      <td>4</td>\n",
       "      <td>Monday</td>\n",
       "    </tr>\n",
       "    <tr>\n",
       "      <th>5</th>\n",
       "      <td>2022-09-26</td>\n",
       "      <td>LGPKG-1139792</td>\n",
       "      <td>2778974</td>\n",
       "      <td>Aéreo do Rio de Janeiro</td>\n",
       "      <td>Aéreo ida e volta | Quarto Duplo ou Triplo | 8 Diárias (4 diárias em Lisboa + 4 diárias em Porto)</td>\n",
       "      <td>Pacote de Viagem - Lisboa + Porto - Segundo Semestre 2023</td>\n",
       "      <td>INT</td>\n",
       "      <td>True</td>\n",
       "      <td>2023.0</td>\n",
       "      <td>Data flexível</td>\n",
       "      <td>Lisboa + Porto</td>\n",
       "      <td>Lisboa</td>\n",
       "      <td>Portugal</td>\n",
       "      <td>Hospedagem Econômica,Passagem Aérea Econômica</td>\n",
       "      <td>121.0</td>\n",
       "      <td>20.0</td>\n",
       "      <td>7299</td>\n",
       "      <td>0</td>\n",
       "      <td>0</td>\n",
       "      <td>7299</td>\n",
       "      <td>0</td>\n",
       "      <td>7299</td>\n",
       "      <td>1</td>\n",
       "      <td>Monday</td>\n",
       "    </tr>\n",
       "    <tr>\n",
       "      <th>6</th>\n",
       "      <td>2022-10-02</td>\n",
       "      <td>LGPKG-1139792</td>\n",
       "      <td>2778974</td>\n",
       "      <td>Aéreo do Rio de Janeiro</td>\n",
       "      <td>Aéreo ida e volta | Quarto Duplo ou Triplo | 8 Diárias (4 diárias em Lisboa + 4 diárias em Porto)</td>\n",
       "      <td>Pacote de Viagem - Lisboa + Porto - Segundo Semestre 2023</td>\n",
       "      <td>INT</td>\n",
       "      <td>True</td>\n",
       "      <td>2023.0</td>\n",
       "      <td>Data flexível</td>\n",
       "      <td>Lisboa + Porto</td>\n",
       "      <td>Lisboa</td>\n",
       "      <td>Portugal</td>\n",
       "      <td>Hospedagem Econômica,Passagem Aérea Econômica</td>\n",
       "      <td>145.0</td>\n",
       "      <td>22.0</td>\n",
       "      <td>7299</td>\n",
       "      <td>0</td>\n",
       "      <td>0</td>\n",
       "      <td>7299</td>\n",
       "      <td>0</td>\n",
       "      <td>7299</td>\n",
       "      <td>1</td>\n",
       "      <td>Sunday</td>\n",
       "    </tr>\n",
       "    <tr>\n",
       "      <th>8</th>\n",
       "      <td>2022-10-04</td>\n",
       "      <td>LGPKG-1139792</td>\n",
       "      <td>2778974</td>\n",
       "      <td>Aéreo do Rio de Janeiro</td>\n",
       "      <td>Aéreo ida e volta | Quarto Duplo ou Triplo | 8 Diárias (4 diárias em Lisboa + 4 diárias em Porto)</td>\n",
       "      <td>Pacote de Viagem - Lisboa + Porto - Segundo Semestre 2023</td>\n",
       "      <td>INT</td>\n",
       "      <td>True</td>\n",
       "      <td>2023.0</td>\n",
       "      <td>Data flexível</td>\n",
       "      <td>Lisboa + Porto</td>\n",
       "      <td>Lisboa</td>\n",
       "      <td>Portugal</td>\n",
       "      <td>Hospedagem Econômica,Passagem Aérea Econômica</td>\n",
       "      <td>149.0</td>\n",
       "      <td>26.0</td>\n",
       "      <td>7299</td>\n",
       "      <td>0</td>\n",
       "      <td>0</td>\n",
       "      <td>7299</td>\n",
       "      <td>0</td>\n",
       "      <td>7299</td>\n",
       "      <td>1</td>\n",
       "      <td>Tuesday</td>\n",
       "    </tr>\n",
       "  </tbody>\n",
       "</table>\n",
       "</div>"
      ],
      "text/plain": [
       "       datebr            sku  offer_option_id       offer_option_title  \\\n",
       "1  2022-08-01  LGPKG-1139792          2778974  Aéreo do Rio de Janeiro   \n",
       "5  2022-09-26  LGPKG-1139792          2778974  Aéreo do Rio de Janeiro   \n",
       "6  2022-10-02  LGPKG-1139792          2778974  Aéreo do Rio de Janeiro   \n",
       "8  2022-10-04  LGPKG-1139792          2778974  Aéreo do Rio de Janeiro   \n",
       "\n",
       "                                                                            offer_option_description  \\\n",
       "1  Aéreo ida e volta | Quarto Duplo ou Triplo | 8 Diárias (4 diárias em Lisboa + 4 diárias em Porto)   \n",
       "5  Aéreo ida e volta | Quarto Duplo ou Triplo | 8 Diárias (4 diárias em Lisboa + 4 diárias em Porto)   \n",
       "6  Aéreo ida e volta | Quarto Duplo ou Triplo | 8 Diárias (4 diárias em Lisboa + 4 diárias em Porto)   \n",
       "8  Aéreo ida e volta | Quarto Duplo ou Triplo | 8 Diárias (4 diárias em Lisboa + 4 diárias em Porto)   \n",
       "\n",
       "                                                product_name destination_type  \\\n",
       "1                   Pacote de Viagem - Lisboa + Porto - 2023              INT   \n",
       "5  Pacote de Viagem - Lisboa + Porto - Segundo Semestre 2023              INT   \n",
       "6  Pacote de Viagem - Lisboa + Porto - Segundo Semestre 2023              INT   \n",
       "8  Pacote de Viagem - Lisboa + Porto - Segundo Semestre 2023              INT   \n",
       "\n",
       "   multidestino    year package_date_format destination_city  \\\n",
       "1          True  2023.0       Data flexível   Lisboa + Porto   \n",
       "5          True  2023.0       Data flexível   Lisboa + Porto   \n",
       "6          True  2023.0       Data flexível   Lisboa + Porto   \n",
       "8          True  2023.0       Data flexível   Lisboa + Porto   \n",
       "\n",
       "  destination_state destination_country  \\\n",
       "1            Lisboa            Portugal   \n",
       "5            Lisboa            Portugal   \n",
       "6            Lisboa            Portugal   \n",
       "8            Lisboa            Portugal   \n",
       "\n",
       "                                   AttributeList  clicks  checkout  fullprice  \\\n",
       "1  Hospedagem Econômica,Passagem Aérea Econômica  1083.0     298.0       5132   \n",
       "5  Hospedagem Econômica,Passagem Aérea Econômica   121.0      20.0       7299   \n",
       "6  Hospedagem Econômica,Passagem Aérea Econômica   145.0      22.0       7299   \n",
       "8  Hospedagem Econômica,Passagem Aérea Econômica   149.0      26.0       7299   \n",
       "\n",
       "   yield  discount  realprice  interest  totalprice  sales Week day  \n",
       "1    976      2443       3665         0        3665      4   Monday  \n",
       "5      0         0       7299         0        7299      1   Monday  \n",
       "6      0         0       7299         0        7299      1   Sunday  \n",
       "8      0         0       7299         0        7299      1  Tuesday  "
      ]
     },
     "execution_count": 26,
     "metadata": {},
     "output_type": "execute_result"
    }
   ],
   "source": [
    "df2.loc[df2['offer_option_id'] == 2778974]"
   ]
  },
  {
   "cell_type": "code",
   "execution_count": null,
   "id": "03d378e3",
   "metadata": {},
   "outputs": [],
   "source": []
  }
 ],
 "metadata": {
  "kernelspec": {
   "display_name": "Python 3 (ipykernel)",
   "language": "python",
   "name": "python3"
  },
  "language_info": {
   "codemirror_mode": {
    "name": "ipython",
    "version": 3
   },
   "file_extension": ".py",
   "mimetype": "text/x-python",
   "name": "python",
   "nbconvert_exporter": "python",
   "pygments_lexer": "ipython3",
   "version": "3.10.9"
  }
 },
 "nbformat": 4,
 "nbformat_minor": 5
}
